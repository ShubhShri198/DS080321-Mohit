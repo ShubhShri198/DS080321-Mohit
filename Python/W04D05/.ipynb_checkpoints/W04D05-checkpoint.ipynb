{
 "cells": [
  {
   "cell_type": "code",
   "execution_count": null,
   "metadata": {},
   "outputs": [],
   "source": [
    "DATA TYPES:\n",
    "    Immutable ones:\n",
    "        int\n",
    "        str\n",
    "        float\n",
    "        tuple\n",
    "        None\n",
    "        bool\n",
    "    Mutable ones:\n",
    "        list\n",
    "        dict\n",
    "        set\n",
    "\n",
    "How do we define a function?\n",
    "\n",
    "def fun_name(parameters...):\n",
    "    code\n",
    "    code line 2..etc\n",
    "    \n",
    "How do we call a function?\n",
    "\n",
    "fun_name(args...)\n",
    "\n",
    "How do we return something from a funcition and how do we store it where we are calling the fun?\n",
    "\n",
    "def fun_name(parameters...):\n",
    "    code\n",
    "    code line 2..etc\n",
    "    print('sdjffsdfk')\n",
    "    return something\n",
    "\n",
    "received_something = fun_name(args...)"
   ]
  },
  {
   "cell_type": "code",
   "execution_count": 1,
   "metadata": {},
   "outputs": [
    {
     "data": {
      "text/plain": [
       "7"
      ]
     },
     "execution_count": 1,
     "metadata": {},
     "output_type": "execute_result"
    }
   ],
   "source": [
    "def test_fun(a,b):\n",
    "    return a+b\n",
    "\n",
    "test_fun(3,4)"
   ]
  },
  {
   "cell_type": "code",
   "execution_count": 3,
   "metadata": {},
   "outputs": [
    {
     "name": "stdout",
     "output_type": "stream",
     "text": [
      "7\n",
      "-1\n"
     ]
    }
   ],
   "source": [
    "def test_fun(a,b):\n",
    "    print(a+b)\n",
    "    print(a-b)\n",
    "\n",
    "test_fun(3,4)"
   ]
  },
  {
   "cell_type": "code",
   "execution_count": 5,
   "metadata": {},
   "outputs": [
    {
     "name": "stdout",
     "output_type": "stream",
     "text": [
      "sugar has been added\n",
      "tea leaves has been added\n",
      "ginger has been added\n"
     ]
    }
   ],
   "source": [
    "def make_tea(sugar,tea_leaves,ginger):\n",
    "    tea = []\n",
    "    tea.append(sugar)\n",
    "    print('sugar has been added')\n",
    "    tea.append(tea_leaves)\n",
    "    print('tea leaves has been added')\n",
    "    tea.append(ginger)\n",
    "    print('ginger has been added')\n",
    "    return tea # local variable\n",
    "\n",
    "tea = make_tea(4,'brown_black','adrak') # here this tea is a global variable."
   ]
  },
  {
   "cell_type": "code",
   "execution_count": 6,
   "metadata": {},
   "outputs": [
    {
     "data": {
      "text/plain": [
       "[4, 'brown_black', 'adrak']"
      ]
     },
     "execution_count": 6,
     "metadata": {},
     "output_type": "execute_result"
    }
   ],
   "source": [
    "tea"
   ]
  },
  {
   "cell_type": "code",
   "execution_count": null,
   "metadata": {},
   "outputs": [],
   "source": [
    "Question: Solve using function\n",
    "    test_list = ['apple','mango','kiwi','http','trvwq']\n",
    "    \n",
    "    Print two separate list with words that contain vowels Vs that does not.\n",
    "    \n",
    "vowel_list = ['apple','mango','kiwi']\n",
    "consonant_list = ['http','trvwq']"
   ]
  },
  {
   "cell_type": "code",
   "execution_count": 16,
   "metadata": {},
   "outputs": [
    {
     "name": "stdout",
     "output_type": "stream",
     "text": [
      "a\n",
      "p\n",
      "p\n",
      "l\n",
      "e\n",
      "\n",
      "\n",
      "m\n",
      "a\n",
      "n\n",
      "g\n",
      "o\n",
      "\n",
      "\n",
      "k\n",
      "i\n",
      "w\n",
      "i\n",
      "\n",
      "\n",
      "h\n",
      "t\n",
      "t\n",
      "p\n",
      "\n",
      "\n",
      "t\n",
      "r\n",
      "v\n",
      "w\n",
      "q\n",
      "\n",
      "\n"
     ]
    }
   ],
   "source": [
    "test_list = ['apple','mango','kiwi','http','trvwq']\n",
    "vowel_murder_list = []\n",
    "consonant_murder_list = []\n",
    "for word in test_list:\n",
    "    list_of_vowels = ['a','e','i','o','u']\n",
    "    for vowel in list_of_vowels"
   ]
  },
  {
   "cell_type": "code",
   "execution_count": 7,
   "metadata": {},
   "outputs": [
    {
     "name": "stdout",
     "output_type": "stream",
     "text": [
      "['apple', 'mango', 'kiwi']\n",
      "['http', 'trvwq']\n"
     ]
    }
   ],
   "source": [
    "def sorter(test_list):\n",
    "    vowel_list=[]\n",
    "    consonant_list=[]\n",
    "    for i in test_list:\n",
    "        for j in i:\n",
    "            if j in 'aeiou':\n",
    "                vowel_list.append(i)\n",
    "                break\n",
    "        else:\n",
    "            consonant_list.append(i)\n",
    "    print(vowel_list)\n",
    "    print(consonant_list)\n",
    "    \n",
    "sorter(['apple','mango','kiwi','http','trvwq'])"
   ]
  },
  {
   "cell_type": "code",
   "execution_count": 14,
   "metadata": {},
   "outputs": [
    {
     "name": "stdout",
     "output_type": "stream",
     "text": [
      "['apple', 'mango', 'kiwi']\n",
      "['http', 'trvwq']\n"
     ]
    }
   ],
   "source": [
    "test_list = ['apple','mango','kiwi','http','trvwq']\n",
    "vowel_list=[]\n",
    "consonant_list=[]\n",
    "\n",
    "def vowel_chr(x):\n",
    "    for char in x:\n",
    "        if char in 'aeiou':\n",
    "            return True\n",
    "    else:\n",
    "        return False\n",
    "for i in test_list:\n",
    "    if vowel_chr(i):\n",
    "        vowel_list.append(i)\n",
    "    else:\n",
    "        consonant_list.append(i)\n",
    "print(vowel_list)\n",
    "print(consonant_list)"
   ]
  }
 ],
 "metadata": {
  "kernelspec": {
   "display_name": "Python 3",
   "language": "python",
   "name": "python3"
  },
  "language_info": {
   "codemirror_mode": {
    "name": "ipython",
    "version": 3
   },
   "file_extension": ".py",
   "mimetype": "text/x-python",
   "name": "python",
   "nbconvert_exporter": "python",
   "pygments_lexer": "ipython3",
   "version": "3.8.3"
  }
 },
 "nbformat": 4,
 "nbformat_minor": 4
}
