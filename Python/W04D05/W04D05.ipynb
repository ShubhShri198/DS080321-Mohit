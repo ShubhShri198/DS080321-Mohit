{
 "cells": [
  {
   "cell_type": "code",
   "execution_count": null,
   "metadata": {},
   "outputs": [],
   "source": [
    "DATA TYPES:\n",
    "    Immutable ones:\n",
    "        int\n",
    "        str\n",
    "        float\n",
    "        tuple\n",
    "        None\n",
    "        bool\n",
    "    Mutable ones:\n",
    "        list\n",
    "        dict\n",
    "        set\n",
    "\n",
    "How do we define a function?\n",
    "\n",
    "def fun_name(parameters...):\n",
    "    code\n",
    "    code line 2..etc\n",
    "    \n",
    "How do we call a function?\n",
    "\n",
    "fun_name(args...)\n",
    "\n",
    "How do we return something from a funcition and how do we store it where we are calling the fun?\n",
    "\n",
    "def fun_name(parameters...):\n",
    "    code\n",
    "    code line 2..etc\n",
    "    print('sdjffsdfk')\n",
    "    return something\n",
    "\n",
    "received_something = fun_name(args...)"
   ]
  },
  {
   "cell_type": "code",
   "execution_count": 1,
   "metadata": {},
   "outputs": [
    {
     "data": {
      "text/plain": [
       "7"
      ]
     },
     "execution_count": 1,
     "metadata": {},
     "output_type": "execute_result"
    }
   ],
   "source": [
    "def test_fun(a,b):\n",
    "    return a+b\n",
    "\n",
    "test_fun(3,4)"
   ]
  },
  {
   "cell_type": "code",
   "execution_count": 3,
   "metadata": {},
   "outputs": [
    {
     "name": "stdout",
     "output_type": "stream",
     "text": [
      "7\n",
      "-1\n"
     ]
    }
   ],
   "source": [
    "def test_fun(a,b):\n",
    "    print(a+b)\n",
    "    print(a-b)\n",
    "\n",
    "test_fun(3,4)"
   ]
  },
  {
   "cell_type": "code",
   "execution_count": 5,
   "metadata": {},
   "outputs": [
    {
     "name": "stdout",
     "output_type": "stream",
     "text": [
      "sugar has been added\n",
      "tea leaves has been added\n",
      "ginger has been added\n"
     ]
    }
   ],
   "source": [
    "def make_tea(sugar,tea_leaves,ginger):\n",
    "    tea = []\n",
    "    tea.append(sugar)\n",
    "    print('sugar has been added')\n",
    "    tea.append(tea_leaves)\n",
    "    print('tea leaves has been added')\n",
    "    tea.append(ginger)\n",
    "    print('ginger has been added')\n",
    "    return tea # local variable\n",
    "\n",
    "tea = make_tea(4,'brown_black','adrak') # here this tea is a global variable."
   ]
  },
  {
   "cell_type": "code",
   "execution_count": 6,
   "metadata": {},
   "outputs": [
    {
     "data": {
      "text/plain": [
       "[4, 'brown_black', 'adrak']"
      ]
     },
     "execution_count": 6,
     "metadata": {},
     "output_type": "execute_result"
    }
   ],
   "source": [
    "tea"
   ]
  },
  {
   "cell_type": "code",
   "execution_count": null,
   "metadata": {},
   "outputs": [],
   "source": [
    "Question: Solve using function\n",
    "    test_list = ['apple','mango','kiwi','http','trvwq']\n",
    "    \n",
    "    Print two separate list with words that contain vowels Vs that does not.\n",
    "    \n",
    "vowel_list = ['apple','mango','kiwi']\n",
    "consonant_list = ['http','trvwq']"
   ]
  },
  {
   "cell_type": "code",
   "execution_count": 17,
   "metadata": {},
   "outputs": [
    {
     "name": "stdout",
     "output_type": "stream",
     "text": [
      "['apple', 'mango', 'kiwi']\n",
      "['http', 'trvwq']\n"
     ]
    }
   ],
   "source": [
    "test_list = ['apple','mango','kiwi','http','trvwq']\n",
    "vowel_murder_list = []\n",
    "consonant_murder_list = []\n",
    "list_of_vowels = ['a','e','i','o','u']\n",
    "for word in test_list:\n",
    "    for vowel in list_of_vowels:\n",
    "        if vowel in word:\n",
    "            vowel_murder_list.append(word)\n",
    "            break\n",
    "    else:\n",
    "        consonant_murder_list.append(word)\n",
    "print(vowel_murder_list)\n",
    "print(consonant_murder_list)"
   ]
  },
  {
   "cell_type": "code",
   "execution_count": 18,
   "metadata": {},
   "outputs": [
    {
     "name": "stdout",
     "output_type": "stream",
     "text": [
      "['apple', 'mango', 'kiwi']\n",
      "['http', 'trvwq']\n"
     ]
    }
   ],
   "source": [
    "def sorter(test_list):\n",
    "    vowel_list=[]\n",
    "    consonant_list=[]\n",
    "    for i in test_list:\n",
    "        for j in set(i):\n",
    "            if j in 'aeiou':\n",
    "                vowel_list.append(i)\n",
    "                break\n",
    "        else:\n",
    "            consonant_list.append(i)\n",
    "    print(vowel_list)\n",
    "    print(consonant_list)\n",
    "    \n",
    "sorter(['apple','mango','kiwi','http','trvwq'])"
   ]
  },
  {
   "cell_type": "code",
   "execution_count": 14,
   "metadata": {},
   "outputs": [
    {
     "name": "stdout",
     "output_type": "stream",
     "text": [
      "['apple', 'mango', 'kiwi']\n",
      "['http', 'trvwq']\n"
     ]
    }
   ],
   "source": [
    "test_list = ['apple','mango','kiwi','http','trvwq']\n",
    "vowel_list=[]\n",
    "consonant_list=[]\n",
    "\n",
    "def vowel_chr(x):\n",
    "    for char in x:\n",
    "        if char in 'aeiou':\n",
    "            return True\n",
    "    else:\n",
    "        return False\n",
    "for i in test_list:\n",
    "    if vowel_chr(i):\n",
    "        vowel_list.append(i)\n",
    "    else:\n",
    "        consonant_list.append(i)\n",
    "print(vowel_list)\n",
    "print(consonant_list)"
   ]
  },
  {
   "cell_type": "markdown",
   "metadata": {},
   "source": [
    "## PARAMETER PASSING TECHNIQUES"
   ]
  },
  {
   "cell_type": "markdown",
   "metadata": {},
   "source": [
    "### DEFAULT Arguments"
   ]
  },
  {
   "cell_type": "code",
   "execution_count": 21,
   "metadata": {},
   "outputs": [
    {
     "name": "stdout",
     "output_type": "stream",
     "text": [
      "apple\n"
     ]
    }
   ],
   "source": [
    "def contains_vowel(x):\n",
    "    for char in x:\n",
    "        if char in 'aeiou':\n",
    "            return True\n",
    "    else:\n",
    "        return False\n",
    "\n",
    "def task(string,n=10):\n",
    "    check = contains_vowel(string)\n",
    "    if check == True:\n",
    "        print(string)\n",
    "    else:\n",
    "        for i in range(n):\n",
    "            print(string)\n",
    "\n",
    "task('apple',4)\n",
    "    "
   ]
  },
  {
   "cell_type": "code",
   "execution_count": 22,
   "metadata": {},
   "outputs": [
    {
     "name": "stdout",
     "output_type": "stream",
     "text": [
      "HTTP\n",
      "HTTP\n",
      "HTTP\n",
      "HTTP\n"
     ]
    }
   ],
   "source": [
    "task('HTTP',4)"
   ]
  },
  {
   "cell_type": "code",
   "execution_count": 23,
   "metadata": {},
   "outputs": [
    {
     "name": "stdout",
     "output_type": "stream",
     "text": [
      "HTTP\n",
      "HTTP\n",
      "HTTP\n",
      "HTTP\n",
      "HTTP\n",
      "HTTP\n",
      "HTTP\n",
      "HTTP\n",
      "HTTP\n",
      "HTTP\n"
     ]
    }
   ],
   "source": [
    "task('HTTP')"
   ]
  },
  {
   "cell_type": "code",
   "execution_count": 26,
   "metadata": {},
   "outputs": [
    {
     "name": "stdout",
     "output_type": "stream",
     "text": [
      "qwrty\n",
      "qwrty\n"
     ]
    }
   ],
   "source": [
    "task('qwrty',2)"
   ]
  },
  {
   "cell_type": "code",
   "execution_count": null,
   "metadata": {},
   "outputs": [],
   "source": [
    "Default Argument is used when no argument is passed for that position.\n",
    "When ever I pass an argument for the default argument parameter (like n in the above case) the value which we pass\n",
    "will overwrite the existing default value.\n",
    "so if i pass 2, n will become 2(and not 10)"
   ]
  },
  {
   "cell_type": "code",
   "execution_count": 27,
   "metadata": {},
   "outputs": [],
   "source": [
    "present_today = []\n",
    "absenties = []\n",
    "\n",
    "def rollcall(name,attendance=\"Absent\"):\n",
    "    if attendance == \"Present\":\n",
    "        present_today.append(name)\n",
    "    else:\n",
    "        absenties.append(name)"
   ]
  },
  {
   "cell_type": "code",
   "execution_count": 28,
   "metadata": {},
   "outputs": [],
   "source": [
    "rollcall('JEEVAN DSOUZA')"
   ]
  },
  {
   "cell_type": "code",
   "execution_count": 29,
   "metadata": {},
   "outputs": [],
   "source": [
    "rollcall('Nilesh B','Present')\n",
    "rollcall('Kanishka')"
   ]
  },
  {
   "cell_type": "code",
   "execution_count": 30,
   "metadata": {},
   "outputs": [],
   "source": [
    "rollcall('Akash Aatha','Present')"
   ]
  },
  {
   "cell_type": "code",
   "execution_count": 31,
   "metadata": {},
   "outputs": [
    {
     "data": {
      "text/plain": [
       "['Nilesh B', 'Akash Aatha']"
      ]
     },
     "execution_count": 31,
     "metadata": {},
     "output_type": "execute_result"
    }
   ],
   "source": [
    "present_today"
   ]
  },
  {
   "cell_type": "code",
   "execution_count": 32,
   "metadata": {},
   "outputs": [
    {
     "data": {
      "text/plain": [
       "['JEEVAN DSOUZA', 'Kanishka']"
      ]
     },
     "execution_count": 32,
     "metadata": {},
     "output_type": "execute_result"
    }
   ],
   "source": [
    "absenties"
   ]
  },
  {
   "cell_type": "code",
   "execution_count": 35,
   "metadata": {},
   "outputs": [],
   "source": [
    "rollcall('Tanishq','Present')"
   ]
  },
  {
   "cell_type": "code",
   "execution_count": 36,
   "metadata": {},
   "outputs": [
    {
     "data": {
      "text/plain": [
       "['Nilesh B', 'Akash Aatha', 'Tanishq']"
      ]
     },
     "execution_count": 36,
     "metadata": {},
     "output_type": "execute_result"
    }
   ],
   "source": [
    "present_today"
   ]
  },
  {
   "cell_type": "markdown",
   "metadata": {},
   "source": [
    "## NAMED ARGUMENTS"
   ]
  },
  {
   "cell_type": "code",
   "execution_count": 40,
   "metadata": {},
   "outputs": [
    {
     "name": "stdout",
     "output_type": "stream",
     "text": [
      "Rohan Rathore  is studying at IIT BOMBAY  this guy took Computer Science\n"
     ]
    }
   ],
   "source": [
    "# -> If you don't know the order of parameters in a function while calling, but you know the namse of the paramters.\n",
    "\n",
    "def task(name,college,stream):\n",
    "    print(name,' is studying at',college,' this guy took',stream)\n",
    "    \n",
    "task(college = 'IIT BOMBAY',name = 'Rohan Rathore', stream = 'Computer Science')"
   ]
  },
  {
   "cell_type": "code",
   "execution_count": 42,
   "metadata": {},
   "outputs": [
    {
     "name": "stdout",
     "output_type": "stream",
     "text": [
      "Akash Sangwan  is studying at MIT  this guy took BioMechanics\n"
     ]
    }
   ],
   "source": [
    "task(stream = 'BioMechanics',college = 'MIT',name = 'Akash Sangwan')"
   ]
  },
  {
   "cell_type": "markdown",
   "metadata": {},
   "source": [
    "## VARIABLE ARGUMENTS"
   ]
  },
  {
   "cell_type": "code",
   "execution_count": null,
   "metadata": {},
   "outputs": [],
   "source": [
    "### Packing: Pack variable no. of arguments into a collection of one\n",
    "\n",
    "#### Any number of arguments can come"
   ]
  },
  {
   "cell_type": "code",
   "execution_count": 51,
   "metadata": {},
   "outputs": [],
   "source": [
    "def mysum(*collection): # we were using * in defining a fun\n",
    "    print(type(collection))\n",
    "    print(collection)\n",
    "    for data in collection:\n",
    "        print(type(data))"
   ]
  },
  {
   "cell_type": "code",
   "execution_count": 52,
   "metadata": {},
   "outputs": [
    {
     "name": "stdout",
     "output_type": "stream",
     "text": [
      "<class 'tuple'>\n",
      "(1, 2, 3, 4, 5, 6)\n",
      "<class 'int'>\n",
      "<class 'int'>\n",
      "<class 'int'>\n",
      "<class 'int'>\n",
      "<class 'int'>\n",
      "<class 'int'>\n"
     ]
    }
   ],
   "source": [
    "mysum(1,2,3,4,5,6)"
   ]
  },
  {
   "cell_type": "code",
   "execution_count": 53,
   "metadata": {},
   "outputs": [
    {
     "name": "stdout",
     "output_type": "stream",
     "text": [
      "<class 'tuple'>\n",
      "(1, 2, {'python': 3, 'java': 8})\n",
      "<class 'int'>\n",
      "<class 'int'>\n",
      "<class 'dict'>\n"
     ]
    }
   ],
   "source": [
    "mysum(1,2,{'python':3,'java':8})"
   ]
  },
  {
   "cell_type": "code",
   "execution_count": 57,
   "metadata": {},
   "outputs": [
    {
     "name": "stdout",
     "output_type": "stream",
     "text": [
      "<class 'tuple'>\n",
      "(1, 2, {'python': 3, 'java': 8}, {3, 4, 5}, 'mango', (4, 5, 6), 45.6, True, False)\n",
      "<class 'int'>\n",
      "<class 'int'>\n",
      "<class 'dict'>\n",
      "<class 'set'>\n",
      "<class 'str'>\n",
      "<class 'tuple'>\n",
      "<class 'float'>\n",
      "<class 'bool'>\n",
      "<class 'bool'>\n"
     ]
    }
   ],
   "source": [
    "mysum(1,2,{'python':3,'java':8},{3,4,5},'mango',(4,5,6),45.6,True,False)"
   ]
  },
  {
   "cell_type": "code",
   "execution_count": 58,
   "metadata": {},
   "outputs": [
    {
     "name": "stdout",
     "output_type": "stream",
     "text": [
      "<class 'tuple'>\n",
      "(False,)\n",
      "<class 'bool'>\n"
     ]
    }
   ],
   "source": [
    "mysum(False)"
   ]
  },
  {
   "cell_type": "code",
   "execution_count": 59,
   "metadata": {},
   "outputs": [],
   "source": [
    "def mysum(*collection):\n",
    "    print(type(collection))\n",
    "    print(collection[1])"
   ]
  },
  {
   "cell_type": "code",
   "execution_count": 60,
   "metadata": {},
   "outputs": [
    {
     "name": "stdout",
     "output_type": "stream",
     "text": [
      "<class 'tuple'>\n",
      "2\n"
     ]
    }
   ],
   "source": [
    "mysum(1,2,3,4)"
   ]
  },
  {
   "cell_type": "code",
   "execution_count": 61,
   "metadata": {},
   "outputs": [
    {
     "name": "stdout",
     "output_type": "stream",
     "text": [
      "<class 'tuple'>\n",
      "{'python': 3, 'java': 8}\n"
     ]
    }
   ],
   "source": [
    "mysum([1,2,3,4],{'python':3,'java':8},'mango')"
   ]
  },
  {
   "cell_type": "code",
   "execution_count": 63,
   "metadata": {},
   "outputs": [],
   "source": [
    "def mysum(*collection):\n",
    "    list_of_collection = list(collection)\n",
    "    list_of_collection.append('VISHAL GUPTA')\n",
    "    return list_of_collection"
   ]
  },
  {
   "cell_type": "code",
   "execution_count": 64,
   "metadata": {},
   "outputs": [
    {
     "data": {
      "text/plain": [
       "[[1, 2, 3, 4], {'python': 3, 'java': 8}, 'mango', 'VISHAL GUPTA']"
      ]
     },
     "execution_count": 64,
     "metadata": {},
     "output_type": "execute_result"
    }
   ],
   "source": [
    "mysum([1,2,3,4],{'python':3,'java':8},'mango')"
   ]
  },
  {
   "cell_type": "code",
   "execution_count": 66,
   "metadata": {},
   "outputs": [
    {
     "name": "stdout",
     "output_type": "stream",
     "text": [
      "{1: 2}\n"
     ]
    }
   ],
   "source": [
    "x = [(1,2)]\n",
    "y = dict(x)\n",
    "print(y)"
   ]
  },
  {
   "cell_type": "markdown",
   "metadata": {},
   "source": [
    "### UNPACKING"
   ]
  },
  {
   "cell_type": "code",
   "execution_count": 75,
   "metadata": {},
   "outputs": [],
   "source": [
    "l = ['spacex','tesla','neuralink']"
   ]
  },
  {
   "cell_type": "code",
   "execution_count": 76,
   "metadata": {},
   "outputs": [],
   "source": [
    "def printdetails(company_1,company_2,company_3):\n",
    "    print(type(company_1))\n",
    "    print(company_1,' flies rocket')\n",
    "    print(company_2,' drives automated Battery Powered Cars')\n",
    "    print(company_3,' will get us killed')"
   ]
  },
  {
   "cell_type": "code",
   "execution_count": 77,
   "metadata": {},
   "outputs": [
    {
     "name": "stdout",
     "output_type": "stream",
     "text": [
      "<class 'str'>\n",
      "spacex  flies rocket\n",
      "tesla  drives automated Battery Powered Cars\n",
      "neuralink  will get us killed\n"
     ]
    }
   ],
   "source": [
    "printdetails(*l) ## we are using * in calling a fun"
   ]
  },
  {
   "cell_type": "code",
   "execution_count": 71,
   "metadata": {},
   "outputs": [
    {
     "name": "stdout",
     "output_type": "stream",
     "text": [
      "<class 'str'>\n",
      "spacex  flies rocket\n",
      "tesla  drives automated Battery Powered Cars\n",
      "neuralink  will get us killed\n"
     ]
    }
   ],
   "source": [
    "printdetails(l[0],l[1],l[2])"
   ]
  },
  {
   "cell_type": "markdown",
   "metadata": {},
   "source": [
    "## NAMED PACKING"
   ]
  },
  {
   "cell_type": "code",
   "execution_count": null,
   "metadata": {},
   "outputs": [],
   "source": [
    "* => TUPLE ** => DICT"
   ]
  },
  {
   "cell_type": "code",
   "execution_count": 82,
   "metadata": {},
   "outputs": [],
   "source": [
    "def task(**ananya):\n",
    "    print(type(ananya))\n",
    "    print(ananya['name'],'is studing at ',ananya['college'],' and have took the stream',ananya['stream'])"
   ]
  },
  {
   "cell_type": "code",
   "execution_count": 83,
   "metadata": {},
   "outputs": [
    {
     "name": "stdout",
     "output_type": "stream",
     "text": [
      "<class 'dict'>\n",
      "ANANYA GIRI is studing at  IIT DUBAI  and have took the stream MECHANICAL\n"
     ]
    }
   ],
   "source": [
    "task(name='ANANYA GIRI',college = 'IIT DUBAI',stream='MECHANICAL')"
   ]
  },
  {
   "cell_type": "code",
   "execution_count": 84,
   "metadata": {},
   "outputs": [],
   "source": [
    "def task(ananya):\n",
    "    print(type(ananya))\n",
    "    print(ananya['name'],'is studing at ',ananya['college'],' and have took the stream',ananya['stream'])"
   ]
  },
  {
   "cell_type": "code",
   "execution_count": 89,
   "metadata": {},
   "outputs": [
    {
     "name": "stdout",
     "output_type": "stream",
     "text": [
      "<class 'dict'>\n",
      "ANANYA GIRI is studing at  IIT DUBAI  and have took the stream MECHANICAL\n"
     ]
    }
   ],
   "source": [
    "task(ananya={'name':'ANANYA GIRI','college':'IIT DUBAI','stream':'MECHANICAL'})"
   ]
  },
  {
   "cell_type": "markdown",
   "metadata": {},
   "source": [
    "## NAMED UNPACKING"
   ]
  },
  {
   "cell_type": "code",
   "execution_count": 90,
   "metadata": {},
   "outputs": [],
   "source": [
    "def task(name,college,stream):\n",
    "    print(name,' is studing at ',college,' and have took the stream ',stream)"
   ]
  },
  {
   "cell_type": "code",
   "execution_count": 91,
   "metadata": {},
   "outputs": [],
   "source": [
    "dict1 = {'name':'ANANYA GIRI','college':'IIT DUBAI','stream':'MECHANICAL'}"
   ]
  },
  {
   "cell_type": "code",
   "execution_count": 92,
   "metadata": {},
   "outputs": [
    {
     "name": "stdout",
     "output_type": "stream",
     "text": [
      "ANANYA GIRI  is studing at  IIT DUBAI  and have took the stream  MECHANICAL\n"
     ]
    }
   ],
   "source": [
    "task(**dict1)"
   ]
  }
 ],
 "metadata": {
  "kernelspec": {
   "display_name": "Python 3",
   "language": "python",
   "name": "python3"
  },
  "language_info": {
   "codemirror_mode": {
    "name": "ipython",
    "version": 3
   },
   "file_extension": ".py",
   "mimetype": "text/x-python",
   "name": "python",
   "nbconvert_exporter": "python",
   "pygments_lexer": "ipython3",
   "version": "3.8.3"
  }
 },
 "nbformat": 4,
 "nbformat_minor": 4
}
