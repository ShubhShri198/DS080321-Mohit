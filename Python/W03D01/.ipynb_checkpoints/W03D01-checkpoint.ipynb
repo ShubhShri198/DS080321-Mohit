{
 "cells": [
  {
   "cell_type": "code",
   "execution_count": null,
   "metadata": {},
   "outputs": [],
   "source": [
    "Revision\n",
    "\n",
    "Q1) ['apple','mango','banana','pineapple','lassi','rythm','sky','hymm','rndm']\n",
    "\n",
    "Print only those words which does contain exactly 2 vowels in them."
   ]
  },
  {
   "cell_type": "code",
   "execution_count": 2,
   "metadata": {},
   "outputs": [
    {
     "name": "stdout",
     "output_type": "stream",
     "text": [
      "apple\n",
      "mango\n",
      "lassi\n"
     ]
    }
   ],
   "source": [
    "a=['apple','mango','banana','pineapple','lassi','rythm','sky','hymm','rndm']\n",
    "for word in a:\n",
    "    countofVowels = 0\n",
    "    for char in word:\n",
    "        if char in ['a','e','i','o','u']:\n",
    "            countofVowels = countofVowels + 1\n",
    "    if countofVowels == 2:\n",
    "        print(word)"
   ]
  },
  {
   "cell_type": "code",
   "execution_count": null,
   "metadata": {},
   "outputs": [],
   "source": [
    "string1 = 'the quick brown fox jumps over a lazy dog' YES\n",
    "string2 = 'the quick red fox jumps over a lazy dog' NO\n",
    "string3 = 'aaaaaaaaaaaaaaaaaaaaaaaaaa' NO\n",
    "string4 = 'aaaaa aa aaaaaa aaaaaa aaaaaaa' NO\n",
    "string5 = 'the 2 quick brown fox jumps over a lazy dog' YES    \n",
    "\n",
    "# By Programming, find out which of the string contains all the small alphabets from 'a' to 'z'"
   ]
  },
  {
   "cell_type": "code",
   "execution_count": null,
   "metadata": {},
   "outputs": [],
   "source": [
    "'apple' how many alphabets are here?\n",
    "\n",
    "a,p,l,e => 4\n",
    "\n",
    "'the quick brown fox jumps over a lazy dog'\n",
    "a,b,c,d,e,f,g,h,i,j,k,l,m,n,o,p,q,r,s,t,u,v,w,x,y,z => 26"
   ]
  },
  {
   "cell_type": "code",
   "execution_count": 39,
   "metadata": {},
   "outputs": [
    {
     "name": "stdout",
     "output_type": "stream",
     "text": [
      "True\n"
     ]
    }
   ],
   "source": [
    "list_of_students_arranged_roll_no_wise = [0]*26\n",
    "\n",
    "string1 = 'the quick brown fox jumps over a lazy dog'\n",
    "\n",
    "for char in string1:\n",
    "    if ord(char) >= ord('a') and ord(char) <= ord('z'):\n",
    "        list_of_students_arranged_roll_no_wise[ord(char)-97] = 1\n",
    "print(sum(list_of_students_arranged_roll_no_wise)==26)"
   ]
  },
  {
   "cell_type": "code",
   "execution_count": null,
   "metadata": {},
   "outputs": [],
   "source": [
    "ord('')"
   ]
  },
  {
   "cell_type": "code",
   "execution_count": null,
   "metadata": {},
   "outputs": [],
   "source": [
    "a = 'present'\n",
    "b = 'present'\n",
    "c = 'present'\n",
    "d = 'absent'\n",
    "\n",
    "list_of_students_arranged_roll_no_wise = [1,1,1,0] # 1 means present, 0 means absent\n",
    "\n",
    "if all the students are here ? NO\n",
    "\n",
    "a = 'present'\n",
    "b = 'present'\n",
    "c = 'present'\n",
    "d = 'present'\n",
    "\n",
    "list_of_students_arranged_roll_no_wise = [1,1,1,1]\n",
    "\n",
    "if all the students are here ? YES\n",
    "\n",
    "rollno\n",
    "a=0\n",
    "b=1\n",
    "c=2\n",
    "d=3\n",
    "\n",
    "a = 'present'\n",
    "b = 'absent'\n",
    "c = 'absent'\n",
    "d = 'present'\n",
    "\n",
    "list_of_students_arranged_roll_no_wise = [1,0,0,1]"
   ]
  },
  {
   "cell_type": "code",
   "execution_count": null,
   "metadata": {},
   "outputs": [],
   "source": [
    "list_of_students_arranged_roll_no_wise = []"
   ]
  },
  {
   "cell_type": "code",
   "execution_count": 26,
   "metadata": {},
   "outputs": [
    {
     "name": "stdout",
     "output_type": "stream",
     "text": [
      "{'a'}\n"
     ]
    }
   ],
   "source": [
    "print(set('a'*26))"
   ]
  },
  {
   "cell_type": "code",
   "execution_count": 16,
   "metadata": {},
   "outputs": [
    {
     "data": {
      "text/plain": [
       "97"
      ]
     },
     "execution_count": 16,
     "metadata": {},
     "output_type": "execute_result"
    }
   ],
   "source": [
    "ord('a')"
   ]
  },
  {
   "cell_type": "code",
   "execution_count": null,
   "metadata": {},
   "outputs": [],
   "source": [
    "## ord() function "
   ]
  },
  {
   "cell_type": "code",
   "execution_count": null,
   "metadata": {},
   "outputs": [],
   "source": [
    "ascii table."
   ]
  },
  {
   "cell_type": "code",
   "execution_count": 21,
   "metadata": {},
   "outputs": [
    {
     "data": {
      "text/plain": [
       "97"
      ]
     },
     "execution_count": 21,
     "metadata": {},
     "output_type": "execute_result"
    }
   ],
   "source": [
    "ord('a')"
   ]
  },
  {
   "cell_type": "code",
   "execution_count": 22,
   "metadata": {},
   "outputs": [
    {
     "data": {
      "text/plain": [
       "65"
      ]
     },
     "execution_count": 22,
     "metadata": {},
     "output_type": "execute_result"
    }
   ],
   "source": [
    "ord('A')"
   ]
  },
  {
   "cell_type": "code",
   "execution_count": 23,
   "metadata": {},
   "outputs": [
    {
     "data": {
      "text/plain": [
       "66"
      ]
     },
     "execution_count": 23,
     "metadata": {},
     "output_type": "execute_result"
    }
   ],
   "source": [
    "ord('B')"
   ]
  },
  {
   "cell_type": "code",
   "execution_count": 24,
   "metadata": {},
   "outputs": [
    {
     "data": {
      "text/plain": [
       "67"
      ]
     },
     "execution_count": 24,
     "metadata": {},
     "output_type": "execute_result"
    }
   ],
   "source": [
    "ord('C')"
   ]
  },
  {
   "cell_type": "code",
   "execution_count": null,
   "metadata": {},
   "outputs": [],
   "source": []
  }
 ],
 "metadata": {
  "kernelspec": {
   "display_name": "Python 3",
   "language": "python",
   "name": "python3"
  }
 },
 "nbformat": 4,
 "nbformat_minor": 4
}
