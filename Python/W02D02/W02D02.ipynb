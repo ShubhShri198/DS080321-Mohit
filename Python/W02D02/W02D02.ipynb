{
 "cells": [
  {
   "cell_type": "code",
   "execution_count": null,
   "metadata": {},
   "outputs": [],
   "source": [
    "DATA TYPES:\n",
    "    MUTABLE: (editable):\n",
    "        list\n",
    "        set\n",
    "        dict\n",
    "    IMMUTABLE (Uneditable):\n",
    "        int\n",
    "        float\n",
    "        str\n",
    "        tuple\n",
    "        bool\n",
    "        None"
   ]
  },
  {
   "cell_type": "code",
   "execution_count": null,
   "metadata": {},
   "outputs": [],
   "source": [
    "2 most imp. things about keys in dict:\n",
    "    1) keys are unique\n",
    "    2) keys are immutable.\n",
    "    \n",
    "These are also valid for set elements."
   ]
  },
  {
   "cell_type": "code",
   "execution_count": null,
   "metadata": {},
   "outputs": [],
   "source": [
    "a = ([1,2],3)\n",
    "\n",
    "a = ([1,3],2) # is it possible, without changing the object a. can I edit a such that I get this modified a?\n",
    "# NO, tuples are immutable."
   ]
  },
  {
   "cell_type": "code",
   "execution_count": null,
   "metadata": {},
   "outputs": [],
   "source": [
    "a = ([1,2],3) to ([1,3],3) ## is this possible ?\n",
    "# YES, list is mutable."
   ]
  },
  {
   "cell_type": "code",
   "execution_count": 1,
   "metadata": {},
   "outputs": [],
   "source": [
    "a = ([1,2],3)"
   ]
  },
  {
   "cell_type": "code",
   "execution_count": 3,
   "metadata": {},
   "outputs": [],
   "source": [
    "a[0][1] = 3"
   ]
  },
  {
   "cell_type": "code",
   "execution_count": 4,
   "metadata": {},
   "outputs": [
    {
     "name": "stdout",
     "output_type": "stream",
     "text": [
      "([1, 3], 3)\n"
     ]
    }
   ],
   "source": [
    "print(a)"
   ]
  },
  {
   "cell_type": "code",
   "execution_count": 5,
   "metadata": {},
   "outputs": [
    {
     "ename": "TypeError",
     "evalue": "'tuple' object does not support item assignment",
     "output_type": "error",
     "traceback": [
      "\u001b[1;31m---------------------------------------------------------------------------\u001b[0m",
      "\u001b[1;31mTypeError\u001b[0m                                 Traceback (most recent call last)",
      "\u001b[1;32m<ipython-input-5-94c4449d0396>\u001b[0m in \u001b[0;36m<module>\u001b[1;34m\u001b[0m\n\u001b[1;32m----> 1\u001b[1;33m \u001b[0ma\u001b[0m\u001b[1;33m[\u001b[0m\u001b[1;36m1\u001b[0m\u001b[1;33m]\u001b[0m \u001b[1;33m=\u001b[0m \u001b[1;36m2\u001b[0m\u001b[1;33m\u001b[0m\u001b[1;33m\u001b[0m\u001b[0m\n\u001b[0m",
      "\u001b[1;31mTypeError\u001b[0m: 'tuple' object does not support item assignment"
     ]
    }
   ],
   "source": [
    "a[1] = 2"
   ]
  },
  {
   "cell_type": "code",
   "execution_count": 8,
   "metadata": {},
   "outputs": [],
   "source": [
    "b = ((1,2),3)\n",
    "\n",
    "# No, tuples are immutable"
   ]
  },
  {
   "cell_type": "code",
   "execution_count": 9,
   "metadata": {},
   "outputs": [
    {
     "ename": "TypeError",
     "evalue": "'tuple' object does not support item assignment",
     "output_type": "error",
     "traceback": [
      "\u001b[1;31m---------------------------------------------------------------------------\u001b[0m",
      "\u001b[1;31mTypeError\u001b[0m                                 Traceback (most recent call last)",
      "\u001b[1;32m<ipython-input-9-fe3a8afe71f1>\u001b[0m in \u001b[0;36m<module>\u001b[1;34m\u001b[0m\n\u001b[1;32m----> 1\u001b[1;33m \u001b[0mb\u001b[0m\u001b[1;33m[\u001b[0m\u001b[1;36m0\u001b[0m\u001b[1;33m]\u001b[0m\u001b[1;33m[\u001b[0m\u001b[1;36m1\u001b[0m\u001b[1;33m]\u001b[0m \u001b[1;33m=\u001b[0m \u001b[1;36m3\u001b[0m\u001b[1;33m\u001b[0m\u001b[1;33m\u001b[0m\u001b[0m\n\u001b[0m",
      "\u001b[1;31mTypeError\u001b[0m: 'tuple' object does not support item assignment"
     ]
    }
   ],
   "source": [
    "b[0][1] = 3"
   ]
  },
  {
   "cell_type": "code",
   "execution_count": 10,
   "metadata": {},
   "outputs": [
    {
     "name": "stdout",
     "output_type": "stream",
     "text": [
      "okay x is True\n",
      "I am very happy to see that x is True\n"
     ]
    }
   ],
   "source": [
    "x = True\n",
    "\n",
    "if x:\n",
    "    print('okay x is True')\n",
    "    print('I am very happy to see that x is True')\n",
    "else:\n",
    "    print('ohh x is not True')\n",
    "    print('I am not happy to see this, x I wish you could be true.')"
   ]
  },
  {
   "cell_type": "code",
   "execution_count": 11,
   "metadata": {},
   "outputs": [
    {
     "name": "stdout",
     "output_type": "stream",
     "text": [
      "ohh x is not True\n",
      "I am not happy to see this, x I wish you could be true.\n"
     ]
    }
   ],
   "source": [
    "x = False\n",
    "\n",
    "if x:\n",
    "    print('okay x is True')\n",
    "    print('I am very happy to see that x is True')\n",
    "else:\n",
    "    print('ohh x is not True')\n",
    "    print('I am not happy to see this, x I wish you could be true.')"
   ]
  },
  {
   "cell_type": "code",
   "execution_count": null,
   "metadata": {},
   "outputs": [],
   "source": [
    "syntax:\n",
    "    \n",
    "if Boolean:\n",
    "    lines of code...\n",
    "    ....\n",
    "    ...\n",
    "else:\n",
    "    lines of code...\n",
    "    ...\n",
    "    ....\n",
    "    ..."
   ]
  },
  {
   "cell_type": "code",
   "execution_count": null,
   "metadata": {},
   "outputs": [],
   "source": [
    "How else can we get a boolean?"
   ]
  },
  {
   "cell_type": "code",
   "execution_count": null,
   "metadata": {},
   "outputs": [],
   "source": [
    "Comparison Operators?\n",
    "\n",
    "<,>,==,!="
   ]
  },
  {
   "cell_type": "code",
   "execution_count": 12,
   "metadata": {},
   "outputs": [
    {
     "data": {
      "text/plain": [
       "True"
      ]
     },
     "execution_count": 12,
     "metadata": {},
     "output_type": "execute_result"
    }
   ],
   "source": [
    "2==2"
   ]
  },
  {
   "cell_type": "code",
   "execution_count": 14,
   "metadata": {},
   "outputs": [
    {
     "name": "stdout",
     "output_type": "stream",
     "text": [
      "oh yes x is 2\n"
     ]
    }
   ],
   "source": [
    "x = 2\n",
    "\n",
    "if x==2:\n",
    "    print('oh yes x is 2')\n",
    "else:\n",
    "    print('x is not equals to 2')"
   ]
  },
  {
   "cell_type": "code",
   "execution_count": 15,
   "metadata": {},
   "outputs": [
    {
     "name": "stdout",
     "output_type": "stream",
     "text": [
      "x is not equals to 2\n"
     ]
    }
   ],
   "source": [
    "x = 3\n",
    "\n",
    "if x==2:\n",
    "    print('oh yes x is 2')\n",
    "else:\n",
    "    print('x is not equals to 2')"
   ]
  },
  {
   "cell_type": "code",
   "execution_count": null,
   "metadata": {},
   "outputs": [],
   "source": [
    "Scenario: You asked if you can date me?"
   ]
  },
  {
   "cell_type": "code",
   "execution_count": 20,
   "metadata": {},
   "outputs": [
    {
     "name": "stdout",
     "output_type": "stream",
     "text": [
      "HEEHEHEHEH, I WAS JUST KIDDING, KYA TUM BHE NAA\n"
     ]
    }
   ],
   "source": [
    "reply = 'CHAPPAL SE MARUNGI'\n",
    "\n",
    "if reply == 'yes':\n",
    "    print(\"See you at LOC(LOVE OVER COFFEE)', near your house\")\n",
    "else:\n",
    "    print(\"HEEHEHEHEH, I WAS JUST KIDDING, KYA TUM BHE NAA\")"
   ]
  },
  {
   "cell_type": "code",
   "execution_count": null,
   "metadata": {},
   "outputs": [],
   "source": [
    "## elif\n",
    "\n",
    "What if the reply is 'maybe'\n",
    "This is not a yes, but not a NO too."
   ]
  },
  {
   "cell_type": "code",
   "execution_count": 21,
   "metadata": {},
   "outputs": [
    {
     "name": "stdout",
     "output_type": "stream",
     "text": [
      "take your time and ..........say Yes :)\n"
     ]
    }
   ],
   "source": [
    "reply = 'maybe'\n",
    "\n",
    "if reply == 'yes':\n",
    "    print(\"See you at LOC(LOVE OVER COFFEE)', near your house\")\n",
    "elif reply == 'maybe':\n",
    "    print('take your time and ..........say Yes :)')\n",
    "elif reply == 'we can think about it':\n",
    "    print(\"Okay let's think about it\")\n",
    "else:\n",
    "    print(\"HEEHEHEHEH, I WAS JUST KIDDING, KYA TUM BHE NAA\")"
   ]
  },
  {
   "cell_type": "code",
   "execution_count": 22,
   "metadata": {},
   "outputs": [
    {
     "name": "stdout",
     "output_type": "stream",
     "text": [
      "Okay let's think about it\n"
     ]
    }
   ],
   "source": [
    "reply = 'we can think about it'\n",
    "\n",
    "if reply == 'yes':\n",
    "    print(\"See you at LOC(LOVE OVER COFFEE)', near your house\")\n",
    "elif reply == 'maybe':\n",
    "    print('take your time and ..........say Yes :)')\n",
    "elif reply == 'we can think about it':\n",
    "    print(\"Okay let's think about it\")\n",
    "else:\n",
    "    print(\"HEEHEHEHEH, I WAS JUST KIDDING, KYA TUM BHE NAA\")"
   ]
  },
  {
   "cell_type": "code",
   "execution_count": 24,
   "metadata": {},
   "outputs": [
    {
     "name": "stdout",
     "output_type": "stream",
     "text": [
      "chappal se he marle plzzz\n",
      "kr diya na friendzone\n"
     ]
    }
   ],
   "source": [
    "reply = 'i like you as a friend'\n",
    "\n",
    "if reply == 'yes':\n",
    "    print(\"See you at LOC(LOVE OVER COFFEE)', near your house\")\n",
    "elif reply == 'maybe':\n",
    "    print('take your time and ..........say Yes :)')\n",
    "elif reply == 'we can think about it':\n",
    "    print(\"Okay let's think about it\")\n",
    "elif reply == 'i like you as a friend':\n",
    "    print('chappal se he marle plzzz')\n",
    "    print(\"kr diya na friendzone\")\n",
    "else:\n",
    "    print(\"HEEHEHEHEH, I WAS JUST KIDDING, KYA TUM BHE NAA\")"
   ]
  },
  {
   "cell_type": "code",
   "execution_count": 25,
   "metadata": {},
   "outputs": [],
   "source": [
    "reply = 'i like you as a friend'\n",
    "\n",
    "if reply == 'yes':\n",
    "    print(\"See you at LOC(LOVE OVER COFFEE)', near your house\")"
   ]
  },
  {
   "cell_type": "code",
   "execution_count": null,
   "metadata": {},
   "outputs": [],
   "source": [
    "NESTED IF ELSE: if else inside if else."
   ]
  },
  {
   "cell_type": "code",
   "execution_count": 42,
   "metadata": {},
   "outputs": [
    {
     "name": "stdout",
     "output_type": "stream",
     "text": [
      "Mohit: Will you date me?\n",
      "Deepika Padukone: chappal se marungi\n",
      "Mohit: HEEHEHEHEH, I WAS JUST KIDDING, KYA TUM BHE NAA\n",
      "Deeplika Padukone: Okhayy :)))\n"
     ]
    }
   ],
   "source": [
    "print('Mohit: Will you date me?')\n",
    "\n",
    "reply = 'chappal se marungi'\n",
    "print('Deepika Padukone:',reply)\n",
    "if reply == 'yes':\n",
    "    print(\"Mohit: See you at LOC(LOVE OVER COFFEE)', near your house\")\n",
    "    reply2 = 'okie dokie'\n",
    "    print('Deepika Padukone:',reply2)\n",
    "    if reply2 == 'Yeah!! Sure (heart Emojis)':\n",
    "        print('Mohit: Kissing Emojis')\n",
    "    else:\n",
    "        print('Mohit: Okay see you there.')\n",
    "elif reply == 'maybe':\n",
    "    print('take your time and ..........say Yes :)')\n",
    "elif reply == 'we can think about it':\n",
    "    print(\"Okay let's think about it\")\n",
    "elif reply == 'i like you as a friend':\n",
    "    print('chappal se he marle plzzz')\n",
    "    print(\"kr diya na friendzone\")\n",
    "else:\n",
    "    print(\"Mohit: HEEHEHEHEH, I WAS JUST KIDDING, KYA TUM BHE NAA\")\n",
    "#     reply2 = 'Ohh Really I thought We can be good couples!!'\n",
    "    reply2 = 'Okhayy :)))'\n",
    "    print('Deeplika Padukone:',reply2)\n",
    "    if reply2 == 'Ohh Really I thought We can be good couples!!':\n",
    "        print('Mohit: TUM TOH BADE HEAVY DRIVER NIKLE, to der kis baat ki h')\n",
    "        print(\"Mohit: let's catch up\")\n",
    "        reply3 = 'Arree I was kidding this time!!'\n",
    "        print('Deepika Padukone:',reply3)\n",
    "        if reply3 == 'Arree I was kidding this time!!':\n",
    "            print('Mohit: chan se tutte jo ye sapna.....jag suna suna laage...re')    "
   ]
  },
  {
   "cell_type": "code",
   "execution_count": null,
   "metadata": {},
   "outputs": [],
   "source": [
    "x = 7\n",
    "\n",
    "if i divide a no with 2 and remainder comes out to be 0, Is it a even or a odd no?\n",
    "\n",
    "Even"
   ]
  },
  {
   "cell_type": "code",
   "execution_count": 41,
   "metadata": {},
   "outputs": [],
   "source": [
    "x = 2\n",
    "\n",
    "if x==3:\n",
    "    print('x is 3')"
   ]
  },
  {
   "cell_type": "code",
   "execution_count": 48,
   "metadata": {},
   "outputs": [],
   "source": [
    "ticket = 'kolkata'\n",
    "\n",
    "if ticket == 'goa':\n",
    "    print('we go to goa')\n",
    "elif ticket == 'manali':\n",
    "    print('we go to manali')\n",
    "elif ticket == 'kerala':\n",
    "    print('we go to kerala')\n",
    "elif ticket == 'notbooked':\n",
    "    print(' we stay at home')"
   ]
  },
  {
   "cell_type": "code",
   "execution_count": 49,
   "metadata": {},
   "outputs": [
    {
     "name": "stdout",
     "output_type": "stream",
     "text": [
      "Mohit's bakery\n",
      "1) Cake  3) Veg Rolls\n",
      "2) Cream Rolls  4) Patties\n"
     ]
    }
   ],
   "source": [
    "print(\"Mohit's bakery\")\n",
    "print('1) Cake', ' 3) Veg Rolls')\n",
    "print('2) Cream Rolls  4) Patties')"
   ]
  },
  {
   "cell_type": "code",
   "execution_count": 57,
   "metadata": {},
   "outputs": [],
   "source": [
    "orderbyTanishk = ['Cake','Patties']\n",
    "orderbyKetan = ['Cream Rolls','Veg Rolls']\n",
    "orders = orderbyTanishk"
   ]
  },
  {
   "cell_type": "code",
   "execution_count": 58,
   "metadata": {},
   "outputs": [
    {
     "name": "stdout",
     "output_type": "stream",
     "text": [
      "Have your cake Please\n",
      "Enjoy your hot patties\n"
     ]
    }
   ],
   "source": [
    "if 'Cake' in orders:\n",
    "    print('Have your cake Please')\n",
    "if 'Patties' in orders:\n",
    "    print('Enjoy your hot patties')"
   ]
  },
  {
   "cell_type": "code",
   "execution_count": 55,
   "metadata": {},
   "outputs": [
    {
     "data": {
      "text/plain": [
       "True"
      ]
     },
     "execution_count": 55,
     "metadata": {},
     "output_type": "execute_result"
    }
   ],
   "source": [
    "# Membership Operators ?\n",
    "\n",
    "fruits = ['apple','mango','kiwi']\n",
    "\n",
    "'apple' in fruits"
   ]
  },
  {
   "cell_type": "code",
   "execution_count": null,
   "metadata": {},
   "outputs": [],
   "source": [
    "# LOOPS INTRODUCTION"
   ]
  },
  {
   "cell_type": "code",
   "execution_count": 61,
   "metadata": {},
   "outputs": [
    {
     "name": "stdout",
     "output_type": "stream",
     "text": [
      "RECEIVED PAYMENT OF RS 10\n",
      "RECEIVED PAYMENT OF RS 455\n",
      "RECEIVED PAYMENT OF RS 300\n",
      "RECEIVED PAYMENT OF RS 289\n",
      "RECEIVED PAYMENT OF RS 60\n",
      "RECEIVED PAYMENT OF RS 455\n",
      "RECEIVED PAYMENT OF RS 60\n",
      "RECEIVED PAYMENT OF RS 60\n"
     ]
    }
   ],
   "source": [
    "queueofPayments = [10,455,300,289,60,455,60,60]\n",
    "\n",
    "for payment in queueofPayments:\n",
    "    print('RECEIVED PAYMENT OF RS',payment)\n",
    "\n",
    "# good code"
   ]
  },
  {
   "cell_type": "code",
   "execution_count": 66,
   "metadata": {},
   "outputs": [
    {
     "name": "stdout",
     "output_type": "stream",
     "text": [
      "RECEIVED PAYMENT OF RS 10\n",
      "RECEIVED PAYMENT OF RS 455\n",
      "RECEIVED PAYMENT OF RS 300\n",
      "RECEIVED PAYMENT OF RS 289\n",
      "RECEIVED PAYMENT OF RS 60\n",
      "RECEIVED PAYMENT OF RS 455\n",
      "RECEIVED PAYMENT OF RS 60\n",
      "RECEIVED PAYMENT OF RS 60\n"
     ]
    }
   ],
   "source": [
    "print('RECEIVED PAYMENT OF RS', queueofPayments[0])\n",
    "print('RECEIVED PAYMENT OF RS', queueofPayments[1])\n",
    "print('RECEIVED PAYMENT OF RS', queueofPayments[2])\n",
    "print('RECEIVED PAYMENT OF RS', queueofPayments[3])\n",
    "print('RECEIVED PAYMENT OF RS', queueofPayments[4])\n",
    "print('RECEIVED PAYMENT OF RS', queueofPayments[5])\n",
    "print('RECEIVED PAYMENT OF RS', queueofPayments[6])\n",
    "print('RECEIVED PAYMENT OF RS', queueofPayments[7])\n",
    "\n",
    "## bad code"
   ]
  },
  {
   "cell_type": "code",
   "execution_count": 68,
   "metadata": {},
   "outputs": [
    {
     "name": "stdout",
     "output_type": "stream",
     "text": [
      "x is 2\n"
     ]
    }
   ],
   "source": [
    "x = 2\n",
    "\n",
    "if x == 2:\n",
    "    print('x is 2')\n",
    "elif x == 2:\n",
    "    print('x is actually 2')\n",
    "elif x == 2:\n",
    "    print('x is really 2 plz belev me')"
   ]
  },
  {
   "cell_type": "code",
   "execution_count": 73,
   "metadata": {},
   "outputs": [
    {
     "name": "stdout",
     "output_type": "stream",
     "text": [
      "x खरोखर 3 आहे\n"
     ]
    }
   ],
   "source": [
    "x = 3\n",
    "\n",
    "if x == 2:\n",
    "    print('x is 2')\n",
    "elif x == 3:\n",
    "    print('x खरोखर 3 आहे')\n",
    "elif x == 3:\n",
    "    print('x is really 3 plz belev me')\n",
    "elif x == 3:\n",
    "    print('x 3 h yakeeen karo mera')\n",
    "elif x == 3:\n",
    "    print('bhau x kharokhar ch 3 ahe')"
   ]
  },
  {
   "cell_type": "code",
   "execution_count": null,
   "metadata": {},
   "outputs": [],
   "source": [
    "# first true if or elif block will be executed.\n",
    "# rest will not even be checked."
   ]
  }
 ],
 "metadata": {
  "kernelspec": {
   "display_name": "Python 3",
   "language": "python",
   "name": "python3"
  },
  "language_info": {
   "codemirror_mode": {
    "name": "ipython",
    "version": 3
   },
   "file_extension": ".py",
   "mimetype": "text/x-python",
   "name": "python",
   "nbconvert_exporter": "python",
   "pygments_lexer": "ipython3",
   "version": "3.8.3"
  }
 },
 "nbformat": 4,
 "nbformat_minor": 4
}
