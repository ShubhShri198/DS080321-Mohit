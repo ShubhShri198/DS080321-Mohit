{
 "cells": [
  {
   "cell_type": "code",
   "execution_count": null,
   "metadata": {},
   "outputs": [],
   "source": [
    "DATA TYPES:\n",
    "    ITERABLE:\n",
    "        str\n",
    "        tuple\n",
    "        list\n",
    "        set\n",
    "        dict\n",
    "        \n",
    "    Not Iterables:\n",
    "        bool\n",
    "        int\n",
    "        float\n",
    "        None"
   ]
  },
  {
   "cell_type": "code",
   "execution_count": null,
   "metadata": {},
   "outputs": [],
   "source": [
    "membership Operators?\n",
    "\n",
    "in and not in"
   ]
  },
  {
   "cell_type": "code",
   "execution_count": 1,
   "metadata": {},
   "outputs": [
    {
     "data": {
      "text/plain": [
       "True"
      ]
     },
     "execution_count": 1,
     "metadata": {},
     "output_type": "execute_result"
    }
   ],
   "source": [
    "'a' in 'apple'"
   ]
  },
  {
   "cell_type": "code",
   "execution_count": 2,
   "metadata": {},
   "outputs": [
    {
     "data": {
      "text/plain": [
       "False"
      ]
     },
     "execution_count": 2,
     "metadata": {},
     "output_type": "execute_result"
    }
   ],
   "source": [
    "'b' in 'apple'"
   ]
  },
  {
   "cell_type": "code",
   "execution_count": 3,
   "metadata": {},
   "outputs": [
    {
     "data": {
      "text/plain": [
       "True"
      ]
     },
     "execution_count": 3,
     "metadata": {},
     "output_type": "execute_result"
    }
   ],
   "source": [
    "'b' in ['a','p','p','l','e','b']"
   ]
  },
  {
   "cell_type": "code",
   "execution_count": 4,
   "metadata": {},
   "outputs": [
    {
     "data": {
      "text/plain": [
       "False"
      ]
     },
     "execution_count": 4,
     "metadata": {},
     "output_type": "execute_result"
    }
   ],
   "source": [
    "'b' in ['a','p','p','l','e']"
   ]
  },
  {
   "cell_type": "code",
   "execution_count": 5,
   "metadata": {},
   "outputs": [
    {
     "data": {
      "text/plain": [
       "True"
      ]
     },
     "execution_count": 5,
     "metadata": {},
     "output_type": "execute_result"
    }
   ],
   "source": [
    "'b' not in ['a','p','p','l','e']"
   ]
  },
  {
   "cell_type": "code",
   "execution_count": null,
   "metadata": {},
   "outputs": [],
   "source": [
    "Q1) Find the index position of the element 'a' in ['b','c','d','a','m','n'] using Programming."
   ]
  },
  {
   "cell_type": "code",
   "execution_count": 17,
   "metadata": {},
   "outputs": [
    {
     "name": "stdout",
     "output_type": "stream",
     "text": [
      "a is present at 3\n",
      "a is present at 6\n",
      "a is present at 11\n"
     ]
    }
   ],
   "source": [
    "given_list = ['b','c','d','a','m','n','a','b','m','n','o','a','x','y','z']\n",
    "index = 0\n",
    "\n",
    "for char in given_list:\n",
    "    if char == 'a':\n",
    "        print(char,'is present at',index)\n",
    "    index = index + 1"
   ]
  },
  {
   "cell_type": "code",
   "execution_count": 21,
   "metadata": {},
   "outputs": [
    {
     "name": "stdout",
     "output_type": "stream",
     "text": [
      "3\n"
     ]
    }
   ],
   "source": [
    "l = ['b','c','d','a','m','n'] \n",
    "count=0\n",
    "for i in l:\n",
    "    if i == 'a':\n",
    "        print(count)\n",
    "    count=count+1"
   ]
  },
  {
   "cell_type": "markdown",
   "metadata": {},
   "source": [
    "## while loop"
   ]
  },
  {
   "cell_type": "code",
   "execution_count": 24,
   "metadata": {},
   "outputs": [
    {
     "name": "stdout",
     "output_type": "stream",
     "text": [
      "1\n",
      "2\n"
     ]
    }
   ],
   "source": [
    "a = 1\n",
    "while a < 3:\n",
    "    print(a)\n",
    "    a = a+1"
   ]
  },
  {
   "cell_type": "code",
   "execution_count": null,
   "metadata": {},
   "outputs": [],
   "source": [
    "syntax of while loop\n",
    "\n",
    "while condition:\n",
    "    some code line 1\n",
    "    some code line 2\n",
    "    some code line 3\n",
    "\n",
    "this piece of code(or block of code inside while loop will only run untill the condition is True)"
   ]
  },
  {
   "cell_type": "code",
   "execution_count": 26,
   "metadata": {},
   "outputs": [
    {
     "name": "stdout",
     "output_type": "stream",
     "text": [
      "try reconnecting.....\n",
      "try reconnecting.....\n",
      "try reconnecting.....\n",
      "try reconnecting.....\n",
      "try reconnecting.....\n",
      "try reconnecting.....\n",
      "try reconnecting.....\n",
      "try reconnecting.....\n",
      "try reconnecting.....\n",
      "try reconnecting.....\n",
      "try reconnecting.....\n",
      "try reconnecting.....\n",
      "try reconnecting.....\n",
      "try reconnecting.....\n",
      "try reconnecting.....\n",
      "try reconnecting.....\n",
      "try reconnecting.....\n",
      "try reconnecting.....\n",
      "try reconnecting.....\n",
      "try reconnecting.....\n",
      "try reconnecting.....\n",
      "try reconnecting.....\n",
      "try reconnecting.....\n",
      "try reconnecting.....\n",
      "try reconnecting.....\n",
      "try reconnecting.....\n",
      "try reconnecting.....\n",
      "try reconnecting.....\n",
      "try reconnecting.....\n",
      "try reconnecting.....\n",
      "try reconnecting.....\n",
      "try reconnecting.....\n",
      "try reconnecting.....\n",
      "try reconnecting.....\n",
      "try reconnecting.....\n",
      "try reconnecting.....\n",
      "try reconnecting.....\n",
      "try reconnecting.....\n",
      "try reconnecting.....\n",
      "try reconnecting.....\n",
      "try reconnecting.....\n",
      "try reconnecting.....\n",
      "try reconnecting.....\n",
      "try reconnecting.....\n",
      "try reconnecting.....\n",
      "try reconnecting.....\n",
      "try reconnecting.....\n",
      "try reconnecting.....\n",
      "try reconnecting.....\n",
      "try reconnecting.....\n"
     ]
    }
   ],
   "source": [
    "internet_is_not_working = True\n",
    "count = 0\n",
    "while internet_is_not_working:\n",
    "    print('try reconnecting.....')\n",
    "    count = count+1\n",
    "    if count == 50:\n",
    "        internet_is_not_working = False"
   ]
  },
  {
   "cell_type": "code",
   "execution_count": 28,
   "metadata": {},
   "outputs": [
    {
     "name": "stdout",
     "output_type": "stream",
     "text": [
      "covid-\n",
      "covid-\n",
      "covid-\n",
      "covid-\n"
     ]
    }
   ],
   "source": [
    "list_of_covid_reports = ['covid-','covid-','covid-','covid-','covid+','covid-','covid-']\n",
    "index = 0\n",
    "person = list_of_covid_reports[index]\n",
    "while person!='covid+':\n",
    "    print(person)\n",
    "    index = index + 1\n",
    "    person = list_of_covid_reports[index]"
   ]
  },
  {
   "cell_type": "code",
   "execution_count": null,
   "metadata": {},
   "outputs": [],
   "source": [
    "! => not"
   ]
  },
  {
   "cell_type": "code",
   "execution_count": 29,
   "metadata": {},
   "outputs": [
    {
     "data": {
      "text/plain": [
       "True"
      ]
     },
     "execution_count": 29,
     "metadata": {},
     "output_type": "execute_result"
    }
   ],
   "source": [
    "a = 5\n",
    "a!=6"
   ]
  },
  {
   "cell_type": "code",
   "execution_count": 30,
   "metadata": {},
   "outputs": [
    {
     "data": {
      "text/plain": [
       "True"
      ]
     },
     "execution_count": 30,
     "metadata": {},
     "output_type": "execute_result"
    }
   ],
   "source": [
    "a == 5"
   ]
  },
  {
   "cell_type": "code",
   "execution_count": 31,
   "metadata": {},
   "outputs": [
    {
     "data": {
      "text/plain": [
       "False"
      ]
     },
     "execution_count": 31,
     "metadata": {},
     "output_type": "execute_result"
    }
   ],
   "source": [
    "a != 5"
   ]
  },
  {
   "cell_type": "markdown",
   "metadata": {},
   "source": [
    "## pass"
   ]
  },
  {
   "cell_type": "code",
   "execution_count": null,
   "metadata": {},
   "outputs": [],
   "source": [
    "pass is a keyword which is used as an placeholder for future code.\n",
    "\n",
    "Empty code is not allowed at certain places, so we have to keep pass there to not get any error.\n",
    "and also to signify that we have to complete this part later on."
   ]
  },
  {
   "cell_type": "code",
   "execution_count": 32,
   "metadata": {},
   "outputs": [
    {
     "name": "stdout",
     "output_type": "stream",
     "text": [
      "23\n",
      "4\n",
      "5\n"
     ]
    }
   ],
   "source": [
    "list1 = [23,4,5,-89,-100,0]\n",
    "\n",
    "for i in list1:\n",
    "    if i>0:\n",
    "        print(i)\n",
    "    else:\n",
    "        pass"
   ]
  },
  {
   "cell_type": "markdown",
   "metadata": {},
   "source": [
    "## break"
   ]
  },
  {
   "cell_type": "code",
   "execution_count": 33,
   "metadata": {},
   "outputs": [
    {
     "name": "stdout",
     "output_type": "stream",
     "text": [
      "trying to reconnect with setting no 1\n",
      "trying to reconnect with setting no 3\n",
      "trying to reconnect with setting no 5\n",
      "trying to reconnect with setting no 7\n",
      "trying to reconnect with setting no 8\n"
     ]
    }
   ],
   "source": [
    "internet_is_not_working = True\n",
    "list_of_settings = [1,3,5,7,8,9,10]\n",
    "for setting in list_of_settings:\n",
    "    print('trying to reconnect with setting no',setting)\n",
    "    if setting%2==0:\n",
    "        break\n",
    "        \n",
    "NOTE: break terminates the loop with force in which it is present."
   ]
  },
  {
   "cell_type": "code",
   "execution_count": 37,
   "metadata": {},
   "outputs": [
    {
     "name": "stdout",
     "output_type": "stream",
     "text": [
      "covid-\n",
      "covid-\n",
      "covid-\n",
      "covid-\n",
      "covid+\n"
     ]
    }
   ],
   "source": [
    "list_of_covid_reports = ['covid-','covid-','covid-','covid-','covid+','covid-','covid-']\n",
    "for person in list_of_covid_reports:\n",
    "    print(person)\n",
    "    if person == 'covid+':\n",
    "        break"
   ]
  },
  {
   "cell_type": "markdown",
   "metadata": {},
   "source": [
    "## continue"
   ]
  },
  {
   "cell_type": "code",
   "execution_count": 41,
   "metadata": {},
   "outputs": [
    {
     "name": "stdout",
     "output_type": "stream",
     "text": [
      "covid-\n",
      "covid-\n",
      "covid-\n",
      "covid-\n",
      "covid+\n",
      "Found a covid+ case\n",
      "We are in DANGER\n",
      "covid-\n",
      "covid-\n"
     ]
    }
   ],
   "source": [
    "list_of_covid_reports = ['covid-','covid-','covid-','covid-','covid+','covid-','covid-']\n",
    "for person in list_of_covid_reports:\n",
    "    print(person)\n",
    "    if person == 'covid-':\n",
    "        continue\n",
    "    else:\n",
    "        print('Found a covid+ case')\n",
    "    print('We are in DANGER')"
   ]
  },
  {
   "cell_type": "code",
   "execution_count": null,
   "metadata": {},
   "outputs": [],
   "source": [
    "Q2) Find a key if it is present in the list, if not print Not found.\n",
    "\n",
    "xlist = [10,20,30,40,50]\n",
    "key = 60\n",
    "ans = Not found\n",
    "\n",
    "key = 40\n",
    "ans = found"
   ]
  },
  {
   "cell_type": "code",
   "execution_count": 47,
   "metadata": {},
   "outputs": [
    {
     "name": "stdout",
     "output_type": "stream",
     "text": [
      "Not found\n"
     ]
    }
   ],
   "source": [
    "xlist = [10,20,30,40,50]\n",
    "\n",
    "key = 60\n",
    "did_we_found_the_key = False\n",
    "for item in xlist:\n",
    "    if item == key:\n",
    "        print('found')\n",
    "        did_we_found_the_key = True\n",
    "        break\n",
    "        \n",
    "if did_we_found_the_key == False:\n",
    "    print('Not found')"
   ]
  },
  {
   "cell_type": "markdown",
   "metadata": {},
   "source": [
    "## for-else loop"
   ]
  },
  {
   "cell_type": "code",
   "execution_count": null,
   "metadata": {},
   "outputs": [],
   "source": [
    "else part contains the code which runs when the for loop terminates without a break condition"
   ]
  },
  {
   "cell_type": "code",
   "execution_count": 51,
   "metadata": {},
   "outputs": [
    {
     "name": "stdout",
     "output_type": "stream",
     "text": [
      "found\n"
     ]
    }
   ],
   "source": [
    "xlist = [10,20,30,40,50]\n",
    "\n",
    "key = 20\n",
    "for item in xlist:\n",
    "    if item == key:\n",
    "        print('found')\n",
    "        break\n",
    "else:\n",
    "    print('Not found')"
   ]
  },
  {
   "cell_type": "code",
   "execution_count": null,
   "metadata": {},
   "outputs": [],
   "source": [
    "NOTE: break terminates the loop only, not anything else like an if condition,etc."
   ]
  },
  {
   "cell_type": "code",
   "execution_count": 52,
   "metadata": {},
   "outputs": [
    {
     "name": "stdout",
     "output_type": "stream",
     "text": [
      "found\n",
      "Not found\n"
     ]
    }
   ],
   "source": [
    "# What happens if we run the code without break ?\n",
    "xlist = [10,20,30,40,50]\n",
    "\n",
    "key = 20\n",
    "for item in xlist:\n",
    "    if item == key:\n",
    "        print('found')\n",
    "else:\n",
    "    print('Not found')"
   ]
  },
  {
   "cell_type": "code",
   "execution_count": null,
   "metadata": {},
   "outputs": [],
   "source": []
  }
 ],
 "metadata": {
  "kernelspec": {
   "display_name": "Python 3",
   "language": "python",
   "name": "python3"
  },
  "language_info": {
   "codemirror_mode": {
    "name": "ipython",
    "version": 3
   },
   "file_extension": ".py",
   "mimetype": "text/x-python",
   "name": "python",
   "nbconvert_exporter": "python",
   "pygments_lexer": "ipython3",
   "version": "3.8.3"
  }
 },
 "nbformat": 4,
 "nbformat_minor": 4
}
