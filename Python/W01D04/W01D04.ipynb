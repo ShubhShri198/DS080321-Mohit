{
 "cells": [
  {
   "cell_type": "code",
   "execution_count": null,
   "metadata": {},
   "outputs": [],
   "source": [
    "Revision:\n",
    "    \n",
    "Data Types:\n",
    "    \n",
    "    Why do we need data types?\n",
    "    Programming is done around data,( sending the data from one place to another,etc)\n",
    "    So we need data types for storing different types of data efficiently.\n",
    "    \n",
    "Builtin Data Types\n",
    "\n",
    "What is Builtin?\n",
    "Already present or predefined.\n",
    "\n",
    "Python is Case Sensitive: true and True are different things.\n",
    "\n",
    "Python Builtin Data Types:\n",
    "    1) int (Numbers without Decimal Points)\n",
    "    2) float (Decimal Point Numbers)\n",
    "    3) str (Collection of Characters) (What are Characters? Everything you see on the keyboard, every key can be a character, except the command keys like windows,ctrl)\n",
    "    4) list (Collection of different data types) (it can contain all the different data types)\n",
    "        indexing is possible in list\n",
    "    5) tuple (Collection of different data types) (\"\")[tuple can not be edited]\n",
    "        indexing is possible in tuples\n",
    "    6) dict (Collection of items(key-value pairs))\n",
    "    7) set (Collection of elements which are unique and unEdItable(immutable))\n",
    "    8) bool (True or False) [uneditable/immutable]\n",
    "    9) None"
   ]
  },
  {
   "cell_type": "code",
   "execution_count": 11,
   "metadata": {},
   "outputs": [],
   "source": [
    "set1 = {5,50,400,'happy'}"
   ]
  },
  {
   "cell_type": "code",
   "execution_count": null,
   "metadata": {},
   "outputs": [],
   "source": [
    "## LETS CREATE SOME DICTIONARIES:\n",
    "\n",
    "thislist = ['hey', ['call','0731'], 20]\n",
    "\n",
    "a={'a',23,3.44,(4,5,3),{'q':3,'f':'r'},True} # it is a set, not a dictionary\n",
    "\n",
    "d={ 'champ' :5 , 'working': True , 'age': 32}\n",
    "\n",
    "xdict = {'café':'chai house' , 'me_time': 7, 'active' : True}\n",
    "\n",
    "{indian:True,American:False}\n",
    "\n",
    "job = {1:'excellent','excellent':True}\n",
    "\n",
    "{'car':30,'a'=23.45,12=True, 'ram':'boy'}\n",
    "\n",
    "a={'shiva':123,456:True}\n",
    "\n",
    "t= {1:[2,3.5,\"str\"],2.0:(\"float\",11,\"@ ¢\"),\"sum\":{ 1,2,4,6,6,7,8},(1.4,5.6):(1,6,7,8)}\n",
    "\n",
    "dict1={'python':2,True:3,'happy':[1,3,4]}\n",
    "\n",
    "student_list ={\"Name\":'Pooja','roll no':12}\n",
    "\n",
    "xdict = {'pubg kills':45,'winner winner chicken dinner':True}"
   ]
  },
  {
   "cell_type": "code",
   "execution_count": 7,
   "metadata": {},
   "outputs": [],
   "source": [
    "t= {1:[2,3.5,\"str\"],2.0:(\"float\",11,\"@ ¢\"),\"sum\":{ 1,2,4,6,6,7,8},(1.4,5.6):(1,6,7,8)}"
   ]
  },
  {
   "cell_type": "code",
   "execution_count": 9,
   "metadata": {},
   "outputs": [
    {
     "name": "stdout",
     "output_type": "stream",
     "text": [
      "{3: ['r'], 'd': (), 1: True}\n"
     ]
    }
   ],
   "source": [
    "x = {3:[\"r\"],\"d\":(),1:True}\n",
    "print(x)"
   ]
  },
  {
   "cell_type": "code",
   "execution_count": 8,
   "metadata": {},
   "outputs": [],
   "source": [
    "dict1={'python':2,True:3,'happy':[1,3,4]}"
   ]
  },
  {
   "cell_type": "code",
   "execution_count": null,
   "metadata": {},
   "outputs": [],
   "source": [
    "## how do i create a list?\n",
    "x = [12,'happy',45.69]\n",
    "list = [10,'abhishek']\n",
    "\n",
    "x= [65, 'car', {'python':3}]\n",
    "\n",
    "x= [65, 'car','python',3]\n",
    "\n",
    "x = [65,['python','java','c','c++','perl','rubyonrails']]\n",
    "\n",
    "a = 300\n",
    "x=[1,\"shubham\",3.5,(a,5,3.5)]\n",
    "\n",
    "xList = [(1,2,3),{'PYTHON': 3}]\n",
    "\n",
    "a=[100,'dan','x','y']\n",
    "\n",
    "x=['ram',3,True]"
   ]
  },
  {
   "cell_type": "code",
   "execution_count": 3,
   "metadata": {},
   "outputs": [
    {
     "name": "stdout",
     "output_type": "stream",
     "text": [
      "['ram', 3, False]\n"
     ]
    }
   ],
   "source": [
    "x=['ram',3,True]\n",
    "x[2] = False\n",
    "\n",
    "print(x)\n",
    "\n",
    "## list can be edited"
   ]
  },
  {
   "cell_type": "code",
   "execution_count": 5,
   "metadata": {},
   "outputs": [
    {
     "name": "stdout",
     "output_type": "stream",
     "text": [
      "24\n"
     ]
    },
    {
     "ename": "TypeError",
     "evalue": "'tuple' object does not support item assignment",
     "output_type": "error",
     "traceback": [
      "\u001b[1;31m---------------------------------------------------------------------------\u001b[0m",
      "\u001b[1;31mTypeError\u001b[0m                                 Traceback (most recent call last)",
      "\u001b[1;32m<ipython-input-5-0ac281e8b9df>\u001b[0m in \u001b[0;36m<module>\u001b[1;34m\u001b[0m\n\u001b[0;32m      6\u001b[0m \u001b[0mprint\u001b[0m\u001b[1;33m(\u001b[0m\u001b[0ma\u001b[0m\u001b[1;33m[\u001b[0m\u001b[1;36m1\u001b[0m\u001b[1;33m]\u001b[0m\u001b[1;33m)\u001b[0m\u001b[1;33m\u001b[0m\u001b[1;33m\u001b[0m\u001b[0m\n\u001b[0;32m      7\u001b[0m \u001b[1;33m\u001b[0m\u001b[0m\n\u001b[1;32m----> 8\u001b[1;33m \u001b[0ma\u001b[0m\u001b[1;33m[\u001b[0m\u001b[1;36m1\u001b[0m\u001b[1;33m]\u001b[0m \u001b[1;33m=\u001b[0m \u001b[1;36m50\u001b[0m\u001b[1;33m\u001b[0m\u001b[1;33m\u001b[0m\u001b[0m\n\u001b[0m",
      "\u001b[1;31mTypeError\u001b[0m: 'tuple' object does not support item assignment"
     ]
    }
   ],
   "source": [
    "## how do i create a tuple\n",
    "\n",
    "a = (12,24,36)\n",
    "\n",
    "# indexing: accessing values based on index position using the syntax: name[index no]\n",
    "print(a[1])\n",
    "\n",
    "a[1] = 50\n",
    "\n",
    "# tuples can not be edited"
   ]
  },
  {
   "cell_type": "code",
   "execution_count": null,
   "metadata": {},
   "outputs": [],
   "source": []
  },
  {
   "cell_type": "code",
   "execution_count": 2,
   "metadata": {},
   "outputs": [
    {
     "name": "stdout",
     "output_type": "stream",
     "text": [
      "100\n",
      "x\n"
     ]
    }
   ],
   "source": [
    "a=[100,'dan','x','y']\n",
    "\n",
    "print(a[0]) ## indexing : accessing 0th index value of the list a.\n",
    "\n",
    "## python lists are 0 indexed: first value will have the index no 0 and than the next values will have index 0+1 and so on...\n",
    "\n",
    "# in the list a, \n",
    "# what is present at index position\n",
    "# 1)0==> 100\n",
    "# 2)1==> 'dan'\n",
    "# 3)2==> 'x'\n",
    "# 4)3==> 'y'\n",
    "# 5)4==> DOES NOT EXIST (INDEX OUT OF RANGE)\n",
    "\n",
    "print(a[2])"
   ]
  },
  {
   "cell_type": "code",
   "execution_count": null,
   "metadata": {},
   "outputs": [],
   "source": [
    "xstring = 'qwertyuioasdlmcx,123234345vn!@#$%^&*() '\n",
    "\n",
    "Examples of what can stored in a string:\n",
    "    Address of a Person\n",
    "    Name, country of a Person\n",
    "    \n",
    "RollNo of a Person => Integer\n",
    "House No => Integer\n",
    "Sallary => float"
   ]
  },
  {
   "cell_type": "code",
   "execution_count": null,
   "metadata": {},
   "outputs": [],
   "source": [
    "x = -100\n",
    "\n",
    "## here x is an integer.\n",
    "\n",
    "y = 0\n",
    "\n",
    "## y is also an integer\n",
    "\n",
    "z = 20.50\n",
    "\n",
    "## z is also an float?"
   ]
  },
  {
   "cell_type": "code",
   "execution_count": null,
   "metadata": {},
   "outputs": [],
   "source": [
    "## Conversion of Data Types / Type Casting"
   ]
  },
  {
   "cell_type": "code",
   "execution_count": null,
   "metadata": {},
   "outputs": [],
   "source": [
    "Python Builtin Data Types:\n",
    "    1) int (Numbers without Decimal Points)\n",
    "    2) float (Decimal Point Numbers)\n",
    "    3) str (Collection of Characters) (What are Characters? Everything you see on the keyboard, every key can be a character, except the command keys like windows,ctrl)\n",
    "    4) list (Collection of different data types) (it can contain all the different data types)\n",
    "        indexing is possible in list\n",
    "    5) tuple (Collection of different data types) (\"\")[tuple can not be edited]\n",
    "        indexing is possible in tuples\n",
    "    6) dict (Collection of items(key-value pairs))\n",
    "    7) set (Collection of elements which are unique and undetable(immutable))\n",
    "    8) bool (True or False) [uneditable/immutable]\n",
    "    9) None"
   ]
  },
  {
   "cell_type": "code",
   "execution_count": null,
   "metadata": {},
   "outputs": [],
   "source": [
    "Conversion/Type Casting: Converting one data type into another.\n",
    "-> Not all types can be converted into each other, but few can be."
   ]
  },
  {
   "cell_type": "code",
   "execution_count": 12,
   "metadata": {},
   "outputs": [
    {
     "name": "stdout",
     "output_type": "stream",
     "text": [
      "<class 'list'>\n"
     ]
    }
   ],
   "source": [
    "a = [1,2,3]\n",
    "\n",
    "print(type(a))"
   ]
  },
  {
   "cell_type": "code",
   "execution_count": 13,
   "metadata": {},
   "outputs": [],
   "source": [
    "a[0] = 11"
   ]
  },
  {
   "cell_type": "code",
   "execution_count": 14,
   "metadata": {},
   "outputs": [
    {
     "name": "stdout",
     "output_type": "stream",
     "text": [
      "[11, 2, 3]\n"
     ]
    }
   ],
   "source": [
    "print(a)"
   ]
  },
  {
   "cell_type": "code",
   "execution_count": 15,
   "metadata": {},
   "outputs": [
    {
     "name": "stdout",
     "output_type": "stream",
     "text": [
      "(11, 2, 3)\n"
     ]
    }
   ],
   "source": [
    "## remember: PYTHON IS CASE SENSITIVE\n",
    "\n",
    "b = tuple(a)\n",
    "\n",
    "print(b)"
   ]
  },
  {
   "cell_type": "code",
   "execution_count": 16,
   "metadata": {},
   "outputs": [
    {
     "name": "stdout",
     "output_type": "stream",
     "text": [
      "<class 'tuple'>\n"
     ]
    }
   ],
   "source": [
    "print(type(b))"
   ]
  },
  {
   "cell_type": "code",
   "execution_count": 17,
   "metadata": {},
   "outputs": [
    {
     "data": {
      "text/plain": [
       "list"
      ]
     },
     "execution_count": 17,
     "metadata": {},
     "output_type": "execute_result"
    }
   ],
   "source": [
    "type(a)"
   ]
  },
  {
   "cell_type": "code",
   "execution_count": 18,
   "metadata": {},
   "outputs": [
    {
     "data": {
      "text/plain": [
       "[11, 2, 3]"
      ]
     },
     "execution_count": 18,
     "metadata": {},
     "output_type": "execute_result"
    }
   ],
   "source": [
    "a"
   ]
  },
  {
   "cell_type": "code",
   "execution_count": 19,
   "metadata": {},
   "outputs": [
    {
     "data": {
      "text/plain": [
       "(11, 2, 3)"
      ]
     },
     "execution_count": 19,
     "metadata": {},
     "output_type": "execute_result"
    }
   ],
   "source": [
    "b"
   ]
  },
  {
   "cell_type": "code",
   "execution_count": 20,
   "metadata": {},
   "outputs": [
    {
     "data": {
      "text/plain": [
       "tuple"
      ]
     },
     "execution_count": 20,
     "metadata": {},
     "output_type": "execute_result"
    }
   ],
   "source": [
    "type(b)"
   ]
  },
  {
   "cell_type": "code",
   "execution_count": 21,
   "metadata": {},
   "outputs": [],
   "source": [
    "a = tuple(a)"
   ]
  },
  {
   "cell_type": "code",
   "execution_count": 22,
   "metadata": {},
   "outputs": [
    {
     "data": {
      "text/plain": [
       "(11, 2, 3)"
      ]
     },
     "execution_count": 22,
     "metadata": {},
     "output_type": "execute_result"
    }
   ],
   "source": [
    "a"
   ]
  },
  {
   "cell_type": "code",
   "execution_count": 23,
   "metadata": {},
   "outputs": [
    {
     "data": {
      "text/plain": [
       "tuple"
      ]
     },
     "execution_count": 23,
     "metadata": {},
     "output_type": "execute_result"
    }
   ],
   "source": [
    "type(a)"
   ]
  },
  {
   "cell_type": "code",
   "execution_count": 24,
   "metadata": {},
   "outputs": [
    {
     "ename": "TypeError",
     "evalue": "'tuple' object does not support item assignment",
     "output_type": "error",
     "traceback": [
      "\u001b[1;31m---------------------------------------------------------------------------\u001b[0m",
      "\u001b[1;31mTypeError\u001b[0m                                 Traceback (most recent call last)",
      "\u001b[1;32m<ipython-input-24-ff21069a4c63>\u001b[0m in \u001b[0;36m<module>\u001b[1;34m\u001b[0m\n\u001b[1;32m----> 1\u001b[1;33m \u001b[0ma\u001b[0m\u001b[1;33m[\u001b[0m\u001b[1;36m0\u001b[0m\u001b[1;33m]\u001b[0m \u001b[1;33m=\u001b[0m \u001b[1;36m34\u001b[0m\u001b[1;33m\u001b[0m\u001b[1;33m\u001b[0m\u001b[0m\n\u001b[0m",
      "\u001b[1;31mTypeError\u001b[0m: 'tuple' object does not support item assignment"
     ]
    }
   ],
   "source": [
    "a[0] = 34"
   ]
  },
  {
   "cell_type": "code",
   "execution_count": 25,
   "metadata": {},
   "outputs": [],
   "source": [
    "a = list(a)"
   ]
  },
  {
   "cell_type": "code",
   "execution_count": 26,
   "metadata": {},
   "outputs": [
    {
     "name": "stdout",
     "output_type": "stream",
     "text": [
      "<class 'list'>\n"
     ]
    }
   ],
   "source": [
    "print(type(a))"
   ]
  },
  {
   "cell_type": "code",
   "execution_count": 27,
   "metadata": {},
   "outputs": [
    {
     "data": {
      "text/plain": [
       "[11, 2, 3]"
      ]
     },
     "execution_count": 27,
     "metadata": {},
     "output_type": "execute_result"
    }
   ],
   "source": [
    "a"
   ]
  },
  {
   "cell_type": "code",
   "execution_count": 28,
   "metadata": {},
   "outputs": [],
   "source": [
    "x = 'We are learning Python Step By Step and We will increase the pace of learning after some time'\n",
    "\n",
    "y = list(x)"
   ]
  },
  {
   "cell_type": "code",
   "execution_count": 29,
   "metadata": {},
   "outputs": [
    {
     "name": "stdout",
     "output_type": "stream",
     "text": [
      "['W', 'e', ' ', 'a', 'r', 'e', ' ', 'l', 'e', 'a', 'r', 'n', 'i', 'n', 'g', ' ', 'P', 'y', 't', 'h', 'o', 'n', ' ', 'S', 't', 'e', 'p', ' ', 'B', 'y', ' ', 'S', 't', 'e', 'p', ' ', 'a', 'n', 'd', ' ', 'W', 'e', ' ', 'w', 'i', 'l', 'l', ' ', 'i', 'n', 'c', 'r', 'e', 'a', 's', 'e', ' ', 't', 'h', 'e', ' ', 'p', 'a', 'c', 'e', ' ', 'o', 'f', ' ', 'l', 'e', 'a', 'r', 'n', 'i', 'n', 'g', ' ', 'a', 'f', 't', 'e', 'r', ' ', 's', 'o', 'm', 'e', ' ', 't', 'i', 'm', 'e']\n"
     ]
    }
   ],
   "source": [
    "print(y)"
   ]
  },
  {
   "cell_type": "code",
   "execution_count": 30,
   "metadata": {},
   "outputs": [],
   "source": [
    "x = {'python':3,'hello':'world!'}\n",
    "\n",
    "y = set(x)"
   ]
  },
  {
   "cell_type": "code",
   "execution_count": 31,
   "metadata": {},
   "outputs": [
    {
     "name": "stdout",
     "output_type": "stream",
     "text": [
      "{'hello', 'python'}\n"
     ]
    }
   ],
   "source": [
    "print(y)"
   ]
  },
  {
   "cell_type": "code",
   "execution_count": 32,
   "metadata": {},
   "outputs": [
    {
     "ename": "ValueError",
     "evalue": "dictionary update sequence element #0 has length 5; 2 is required",
     "output_type": "error",
     "traceback": [
      "\u001b[1;31m---------------------------------------------------------------------------\u001b[0m",
      "\u001b[1;31mValueError\u001b[0m                                Traceback (most recent call last)",
      "\u001b[1;32m<ipython-input-32-cea098d56550>\u001b[0m in \u001b[0;36m<module>\u001b[1;34m\u001b[0m\n\u001b[1;32m----> 1\u001b[1;33m \u001b[0mz\u001b[0m \u001b[1;33m=\u001b[0m \u001b[0mdict\u001b[0m\u001b[1;33m(\u001b[0m\u001b[0my\u001b[0m\u001b[1;33m)\u001b[0m\u001b[1;33m\u001b[0m\u001b[1;33m\u001b[0m\u001b[0m\n\u001b[0m",
      "\u001b[1;31mValueError\u001b[0m: dictionary update sequence element #0 has length 5; 2 is required"
     ]
    }
   ],
   "source": [
    "z = dict(y)"
   ]
  },
  {
   "cell_type": "code",
   "execution_count": 38,
   "metadata": {},
   "outputs": [],
   "source": [
    "z = [('python',3),('hello','world'),('go goa','gone')]\n",
    "\n",
    "x = dict(z)"
   ]
  },
  {
   "cell_type": "code",
   "execution_count": 39,
   "metadata": {},
   "outputs": [
    {
     "name": "stdout",
     "output_type": "stream",
     "text": [
      "{'python': 3, 'hello': 'world', 'go goa': 'gone'}\n"
     ]
    }
   ],
   "source": [
    "print(x)"
   ]
  },
  {
   "cell_type": "code",
   "execution_count": null,
   "metadata": {},
   "outputs": [],
   "source": []
  }
 ],
 "metadata": {
  "kernelspec": {
   "display_name": "Python 3",
   "language": "python",
   "name": "python3"
  },
  "language_info": {
   "codemirror_mode": {
    "name": "ipython",
    "version": 3
   },
   "file_extension": ".py",
   "mimetype": "text/x-python",
   "name": "python",
   "nbconvert_exporter": "python",
   "pygments_lexer": "ipython3",
   "version": "3.8.3"
  }
 },
 "nbformat": 4,
 "nbformat_minor": 4
}
