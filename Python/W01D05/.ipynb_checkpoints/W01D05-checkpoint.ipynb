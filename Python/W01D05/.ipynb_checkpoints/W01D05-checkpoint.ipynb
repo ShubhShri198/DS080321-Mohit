{
 "cells": [
  {
   "cell_type": "code",
   "execution_count": null,
   "metadata": {},
   "outputs": [],
   "source": [
    "Bultin Data Types:\n",
    "    int\n",
    "    float\n",
    "    str\n",
    "    bool\n",
    "    list\n",
    "    dict\n",
    "    set\n",
    "    tuple\n",
    "    None\n",
    "    \n",
    "bool ? True False\n",
    "\n",
    "x = 3\n",
    "y = 3.14\n",
    "z = \"Python is cool!\"\n",
    "a = ['apple','mango','kiwi','mushrooms']\n",
    "b = {'apple':5,'mango':6,'kiwi':2,'mushrooms':1}\n",
    "c = {1,2,3,'apple','mango'}\n",
    "d = ('apple','mango','kiwi','papaya')\n",
    "\n",
    "How do you differentiate between a set or a dict?\n",
    "colon => : if colon is present it means it contains key - value pairs which means it is a dict\n",
    "    \n",
    "Keys in dict are:\n",
    "    1) Keys are Unique\n",
    "    2) Keys are uneditable/Immutable\n",
    "    \n",
    "Immutable data types:\n",
    "    tuple\n",
    "    str\n",
    "    int\n",
    "    float\n",
    "    bool\n",
    "    None\n",
    "    \n",
    "Mutables:\n",
    "    list\n",
    "    set\n",
    "    dict"
   ]
  },
  {
   "cell_type": "code",
   "execution_count": 1,
   "metadata": {},
   "outputs": [
    {
     "name": "stdout",
     "output_type": "stream",
     "text": [
      "a\n"
     ]
    }
   ],
   "source": [
    "x = 'apple'\n",
    "\n",
    "print(x[0]) # indexing is possible in string."
   ]
  },
  {
   "cell_type": "code",
   "execution_count": 2,
   "metadata": {},
   "outputs": [
    {
     "ename": "TypeError",
     "evalue": "'str' object does not support item assignment",
     "output_type": "error",
     "traceback": [
      "\u001b[1;31m---------------------------------------------------------------------------\u001b[0m",
      "\u001b[1;31mTypeError\u001b[0m                                 Traceback (most recent call last)",
      "\u001b[1;32m<ipython-input-2-804fa195b8d4>\u001b[0m in \u001b[0;36m<module>\u001b[1;34m\u001b[0m\n\u001b[1;32m----> 1\u001b[1;33m \u001b[0mx\u001b[0m\u001b[1;33m[\u001b[0m\u001b[1;36m0\u001b[0m\u001b[1;33m]\u001b[0m \u001b[1;33m=\u001b[0m \u001b[1;34m'b'\u001b[0m\u001b[1;33m\u001b[0m\u001b[1;33m\u001b[0m\u001b[0m\n\u001b[0m",
      "\u001b[1;31mTypeError\u001b[0m: 'str' object does not support item assignment"
     ]
    }
   ],
   "source": [
    "x[0] = 'b'"
   ]
  },
  {
   "cell_type": "code",
   "execution_count": null,
   "metadata": {},
   "outputs": [],
   "source": [
    "Rules for defining a Var:\n",
    "1) Var Name can not start with a digit.\n",
    "2) only _ is allowed in terms of special char ( what are special chars=[!,@,#,$,%,^,&,*,(,),_,+...) other than aplhabets and no.\n",
    "3) Provide meaningfull Names. (Actually good coding practice)\n",
    "            \n",
    "CORRECT VAR NAME OR NOT\n",
    "role# = 34 (NOT)\n",
    "_mango = 56 (YES)"
   ]
  },
  {
   "cell_type": "code",
   "execution_count": 4,
   "metadata": {},
   "outputs": [],
   "source": [
    "_mango = 56 # (YES)"
   ]
  },
  {
   "cell_type": "code",
   "execution_count": 5,
   "metadata": {},
   "outputs": [
    {
     "ename": "SyntaxError",
     "evalue": "invalid syntax (<ipython-input-5-daeb15fb1654>, line 1)",
     "output_type": "error",
     "traceback": [
      "\u001b[1;36m  File \u001b[1;32m\"<ipython-input-5-daeb15fb1654>\"\u001b[1;36m, line \u001b[1;32m1\u001b[0m\n\u001b[1;33m    3mango = 'mangomangomango' # Not\u001b[0m\n\u001b[1;37m     ^\u001b[0m\n\u001b[1;31mSyntaxError\u001b[0m\u001b[1;31m:\u001b[0m invalid syntax\n"
     ]
    }
   ],
   "source": [
    "3mango = 'mangomangomango' # Not"
   ]
  },
  {
   "cell_type": "code",
   "execution_count": 6,
   "metadata": {},
   "outputs": [],
   "source": [
    "HAPPY = 'HAPPY'"
   ]
  },
  {
   "cell_type": "code",
   "execution_count": 7,
   "metadata": {},
   "outputs": [],
   "source": [
    "mango3 = 'mangomangomango'"
   ]
  },
  {
   "cell_type": "code",
   "execution_count": null,
   "metadata": {},
   "outputs": [],
   "source": [
    "Collection Builtin Data Types: (Contains collection of other data types(could be another collection or a non colleciton))\n",
    "    list\n",
    "    set\n",
    "    dict\n",
    "    tuple\n",
    "    \n",
    "Non Collection Builtin Data Types:\n",
    "    str\n",
    "    bool\n",
    "    int\n",
    "    float\n",
    "    None"
   ]
  },
  {
   "cell_type": "code",
   "execution_count": null,
   "metadata": {},
   "outputs": [],
   "source": [
    "the zero indices shares the x and and integer as well\n"
   ]
  }
 ],
 "metadata": {
  "kernelspec": {
   "display_name": "Python 3",
   "language": "python",
   "name": "python3"
  },
  "language_info": {
   "codemirror_mode": {
    "name": "ipython",
    "version": 3
   },
   "file_extension": ".py",
   "mimetype": "text/x-python",
   "name": "python",
   "nbconvert_exporter": "python",
   "pygments_lexer": "ipython3",
   "version": "3.8.3"
  }
 },
 "nbformat": 4,
 "nbformat_minor": 4
}
