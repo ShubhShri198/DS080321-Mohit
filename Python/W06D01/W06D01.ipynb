{
 "cells": [
  {
   "cell_type": "code",
   "execution_count": null,
   "metadata": {},
   "outputs": [],
   "source": [
    "Regular Expression:\n",
    "    string which contains some chars based on rules. They are used to define patterns.\n",
    "    \n",
    "That string can contain:\n",
    "    Metachars: special meaning\n",
    "    chars: normal chars like '1','Apple','a','%','$#'\n",
    "        \n",
    "Examples of Regular Expressions:\n",
    "1) '[0-9][0-9]' => 2 digit number\n",
    "2) 'a' => a\n",
    "3) '[a-f]' => match any char from a to f(in small alphabets)"
   ]
  },
  {
   "cell_type": "code",
   "execution_count": null,
   "metadata": {},
   "outputs": [],
   "source": [
    "## re.search(regx,text)\n",
    "\n",
    "-> finds the regx's first occurence in text. when we are moving from left to right in the text\n",
    "-> if no occurence than it reurns nothing.\n",
    "-> if occurence, than it returns the match along with the position where it was found(using span)\n",
    "-> It matches a pattern at any position in the string."
   ]
  },
  {
   "cell_type": "code",
   "execution_count": 1,
   "metadata": {},
   "outputs": [
    {
     "name": "stdout",
     "output_type": "stream",
     "text": [
      "<re.Match object; span=(15, 16), match='4'>\n"
     ]
    }
   ],
   "source": [
    "import re\n",
    "text = 'applemango%$^$#45789'\n",
    "\n",
    "regx = '[0-9]'\n",
    "\n",
    "returned_value = re.search(regx,text)\n",
    "\n",
    "print(returned_value)"
   ]
  },
  {
   "cell_type": "code",
   "execution_count": null,
   "metadata": {},
   "outputs": [],
   "source": [
    "## Metacharacters\n",
    "\n",
    ". (dot) => matches with all the char(alphabets,digits,specail chars etc..) except the newline char (\"\\n\")\n",
    ". -> single dot means single char and that char could be anything as mentioned above.\n",
    "\n",
    "[] => Character Class. A set of chars\n",
    "[A-Z] => all the capital alphabets from A to Z (single occurence) ([A-Z] matches any single capital alphabet)\n",
    "[a-z] => all the small alphabets (single occurence)\n",
    "[A-Za-z] => aLL SMALL + CAPITAL alphabets (single occurence)\n",
    "[0-9] => digits (single occurence)\n",
    "[$atpMNO] => match only $ or a or t or p or M or N or O (single occurence)\n",
    "[skhiumr] => match only s or k or h or i or u or m or r (single occurence)\n",
    "\n",
    "Quantifiers:\n",
    "    + => atleast 1 or more occurence (for example [0-9]+ means that a digit will appear atleast 1 or more times.)\n",
    "    * => 0 or more occurence (for example [0-9]* means that a digit will appear 0 or more times.)\n",
    "    ? => Optional (once or not at all) (for example [0-9]? means that a digit will appear 0 or 1 times.)\n",
    "    \n",
    "Anchors:\n",
    "    ^ => start of string\n",
    "    $ => end of the string\n",
    "    \n",
    "{} -> counting stuff\n",
    "\n",
    "[a-z]{2} => small alphabet should occur exactly 2 times.\n",
    "[0-9]{3} => digits should appear exactly 3 times.\n",
    "[A-Z]{3,5} => should occure either 3,4 or 5 times.\n",
    "\n",
    "^compliment (reversal)\n",
    "\n",
    "[^0-9] => everything is acceptable except the digits."
   ]
  },
  {
   "cell_type": "code",
   "execution_count": null,
   "metadata": {},
   "outputs": [],
   "source": [
    "Anchors:\n",
    "    ^ => start of string\n",
    "    $ => end of the string"
   ]
  },
  {
   "cell_type": "code",
   "execution_count": 3,
   "metadata": {},
   "outputs": [
    {
     "name": "stdout",
     "output_type": "stream",
     "text": [
      "[]\n",
      "['A']\n",
      "['ABACUS']\n",
      "[]\n",
      "[]\n",
      "[]\n",
      "[]\n",
      "['nilesh b']\n",
      "[]\n",
      "['mango10']\n",
      "[]\n",
      "[]\n",
      "[]\n"
     ]
    }
   ],
   "source": [
    "# ^ => start of string\n",
    "\n",
    "regx = '^[nmA].*'\n",
    "#this pattern says any word which starts with n or m or A and can contain any character after that.\n",
    "\n",
    "list_of_strings = ['applnmAe67sdfght','A','ABACUS','43','$%','M','s','nilesh b','786','mango10','onion','Eagle','&bharat@smjha.com']\n",
    "\n",
    "for word in list_of_strings:\n",
    "    print(re.findall(regx,word))"
   ]
  },
  {
   "cell_type": "code",
   "execution_count": null,
   "metadata": {},
   "outputs": [],
   "source": [
    "[] character class is collection of chars.\n",
    "[nmA] => specific char n,m , and A\n",
    "[a-x] => a,b,c,..........x"
   ]
  },
  {
   "cell_type": "code",
   "execution_count": 4,
   "metadata": {},
   "outputs": [
    {
     "name": "stdout",
     "output_type": "stream",
     "text": [
      "['', '', '', '', '', '', '', '', '67', '', '', '', '', '', '', '']\n",
      "['', '']\n",
      "['', '', '', '', '', '', '']\n",
      "['43', '']\n",
      "['', '', '']\n",
      "['', '']\n",
      "['', '']\n",
      "['', '', '', '', '', '', '', '', '']\n",
      "['786', '']\n",
      "['', '', '', '', '', '10', '']\n",
      "['', '', '', '', '', '']\n",
      "['', '', '', '', '', '']\n",
      "['', '', '', '', '', '', '', '', '', '', '', '', '', '', '', '', '', '']\n"
     ]
    }
   ],
   "source": [
    "regx = '[0-9]*'\n",
    "list_of_strings = ['applnmAe67sdfght','A','ABACUS','43','$%','M','s','nilesh b','786','mango10','onion','Eagle','&bharat@smjha.com']\n",
    "\n",
    "for word in list_of_strings:\n",
    "    print(re.findall(regx,word))"
   ]
  },
  {
   "cell_type": "code",
   "execution_count": 19,
   "metadata": {},
   "outputs": [
    {
     "name": "stdout",
     "output_type": "stream",
     "text": [
      "['56']\n",
      "<re.Match object; span=(11, 13), match='56'>\n",
      "[]\n",
      "None\n",
      "[]\n",
      "None\n",
      "['43', '50']\n",
      "<re.Match object; span=(0, 2), match='43'>\n",
      "[]\n",
      "None\n",
      "[]\n",
      "None\n",
      "[]\n",
      "None\n",
      "[]\n",
      "None\n",
      "['78']\n",
      "<re.Match object; span=(0, 2), match='78'>\n",
      "['10']\n",
      "<re.Match object; span=(5, 7), match='10'>\n",
      "[]\n",
      "None\n",
      "[]\n",
      "None\n",
      "[]\n",
      "None\n"
     ]
    }
   ],
   "source": [
    "regx = '[0-9][0-9]'\n",
    "list_of_strings = ['applnmAe6sd56fght','A','ABACUS','43apple500','$%','M','s','nilesh b','786','mango10','onion','Eagle','&bharat@smjha.com']\n",
    "\n",
    "for word in list_of_strings:\n",
    "    print(re.findall(regx,word))\n",
    "    print(re.search(regx,word))"
   ]
  },
  {
   "cell_type": "code",
   "execution_count": 23,
   "metadata": {},
   "outputs": [
    {
     "name": "stdout",
     "output_type": "stream",
     "text": [
      "[]\n",
      "[]\n",
      "['AB66']\n",
      "['AB89']\n",
      "[]\n",
      "[]\n",
      "[]\n",
      "[]\n",
      "[]\n",
      "[]\n",
      "[]\n",
      "[]\n",
      "[]\n",
      "[]\n",
      "[]\n"
     ]
    }
   ],
   "source": [
    "regx = '^AB[0-9][0-9]'\n",
    "list_of_strings = ['applnmAe67sdfght','A','AB66','AB89','ABACUS78','43','$%','M','s','nilesh b','786','mango10','onion','Eagle','&bharat@smjha.com']\n",
    "\n",
    "for word in list_of_strings:\n",
    "    print(re.findall(regx,word))"
   ]
  },
  {
   "cell_type": "code",
   "execution_count": 56,
   "metadata": {},
   "outputs": [
    {
     "name": "stdout",
     "output_type": "stream",
     "text": [
      "[]\n",
      "[]\n",
      "['66tea']\n",
      "['89map']\n",
      "[]\n",
      "['55apple']\n",
      "['66teakanishka']\n"
     ]
    }
   ],
   "source": [
    "# $ => end of the string\n",
    "regx = '^[0-9][0-9][a-z][a-z][a-z].*'\n",
    "list_of_strings = ['apple56','789apple','66tea','89map','AB78candle','55apple','66teakanishka']\n",
    "\n",
    "for word in list_of_strings:\n",
    "    print(re.findall(regx,word))"
   ]
  },
  {
   "cell_type": "code",
   "execution_count": 41,
   "metadata": {},
   "outputs": [
    {
     "name": "stdout",
     "output_type": "stream",
     "text": [
      "['88appplemusic$%^#^MEOWS']\n",
      "['5MEOW1']\n"
     ]
    }
   ],
   "source": [
    "regx = '^[0-9].*MEOW.'\n",
    "\n",
    "list_of_words = ['88appplemusic$%^#^MEOWS','5MEOW1']\n",
    "\n",
    "for word in list_of_words:\n",
    "    print(re.findall(regx,word))"
   ]
  },
  {
   "cell_type": "code",
   "execution_count": 46,
   "metadata": {},
   "outputs": [
    {
     "name": "stdout",
     "output_type": "stream",
     "text": [
      "['aaaaaaa']\n",
      "[]\n",
      "['aaaaaaa']\n"
     ]
    }
   ],
   "source": [
    "# {} counting stuff\n",
    "\n",
    "regx = '[a]{7}'\n",
    "\n",
    "list_of_words = ['aaaaaaa','aaaaj','aaaaaaa78900']\n",
    "\n",
    "for word in list_of_words:\n",
    "    print(re.findall(regx,word))"
   ]
  },
  {
   "cell_type": "code",
   "execution_count": 50,
   "metadata": {},
   "outputs": [
    {
     "name": "stdout",
     "output_type": "stream",
     "text": [
      "['aaasdfn', 'klsdjfk']\n",
      "['asjdklf', 'kjsdlfa']\n",
      "['aaaaaas', 'jdfkljs']\n"
     ]
    }
   ],
   "source": [
    "# {} counting stuff\n",
    "\n",
    "regx = '[a-z]{7}'\n",
    "\n",
    "list_of_words = ['aaasdfnklsdjfkljaaaa','asjdklfkjsdlfaaaj','aaaaaasjdfkljsdlfa78900']\n",
    "\n",
    "for word in list_of_words:\n",
    "    print(re.findall(regx,word))"
   ]
  },
  {
   "cell_type": "code",
   "execution_count": 55,
   "metadata": {},
   "outputs": [
    {
     "name": "stdout",
     "output_type": "stream",
     "text": [
      "['2378497', '2374829']\n",
      "['3247897']\n",
      "['3234242']\n"
     ]
    }
   ],
   "source": [
    "# {} counting stuff\n",
    "\n",
    "regx = '[0-9]{7}'\n",
    "\n",
    "list_of_words = ['aaasdfnklsdjfkljaaa23784972374829734a','asjdklfkjsdlfaaasdf3247897j','aaaaa3234242asjdfkljsdlfa78900']\n",
    "\n",
    "for word in list_of_words:\n",
    "    print(re.findall(regx,word))"
   ]
  },
  {
   "cell_type": "code",
   "execution_count": null,
   "metadata": {},
   "outputs": [],
   "source": [
    "'^[0-9][0-9]'\n",
    "\n",
    "-> start of the string should be a single digit no, and than it should be followed by a single digit number\n",
    "-> start of the string should be a 2 digit no."
   ]
  },
  {
   "cell_type": "code",
   "execution_count": 58,
   "metadata": {},
   "outputs": [
    {
     "name": "stdout",
     "output_type": "stream",
     "text": [
      "['A', '7', '7', '7', '7']\n",
      "['7', '7']\n",
      "['7']\n"
     ]
    }
   ],
   "source": [
    "regx = '[A57tX]'\n",
    "list_of_words = ['aaasdfnklsdAjfkljaaa23784972374829734a','asjdklfkjsdlfaaasdf3247897j','aaaaa3234242asjdfkljsdlfa78900']\n",
    "\n",
    "for word in list_of_words:\n",
    "    print(re.findall(regx,word))"
   ]
  },
  {
   "cell_type": "code",
   "execution_count": 61,
   "metadata": {},
   "outputs": [
    {
     "name": "stdout",
     "output_type": "stream",
     "text": [
      "['A', '#', '$', '^', '$', '%', '^', '%', '2', '3', '7', '8', '4', '9', '7', '2', '3', '7', '4', '8', '2', '9', '7', '3', '4']\n",
      "['3', '2', '4', '7', '8', '9', '7']\n",
      "['3', '2', '3', '4', '2', '4', '2', '7', '8', '9', '0', '0']\n"
     ]
    }
   ],
   "source": [
    "# ^compliment (reversal)\n",
    "\n",
    "regx = '[^a-z]'\n",
    "list_of_words = ['aaasdfnklsdAjfklj#$^$%^%aaa23784972374829734a','asjdklfkjsdlfaaasdf3247897j','aaaaa3234242asjdfkljsdlfa78900']\n",
    "\n",
    "for word in list_of_words:\n",
    "    print(re.findall(regx,word))"
   ]
  },
  {
   "cell_type": "markdown",
   "metadata": {},
   "source": [
    "# Q1.) Write a regX to match a 3 digit number followed by abc."
   ]
  },
  {
   "cell_type": "code",
   "execution_count": null,
   "metadata": {},
   "outputs": [],
   "source": [
    "regx = '[0-9]{3}abc'"
   ]
  },
  {
   "cell_type": "markdown",
   "metadata": {},
   "source": [
    "# Q2.) Write a regX to match a 3 digit number followed by 3 small alphabets"
   ]
  },
  {
   "cell_type": "code",
   "execution_count": null,
   "metadata": {},
   "outputs": [],
   "source": [
    "regx = '[0-9]{3}[a-z]{3}'"
   ]
  },
  {
   "cell_type": "markdown",
   "metadata": {},
   "source": [
    "# Q3.) Write a regX that start with a and end with z. \"az,ae8934593u45jeksz,a234234z\""
   ]
  },
  {
   "cell_type": "code",
   "execution_count": 62,
   "metadata": {},
   "outputs": [
    {
     "name": "stdout",
     "output_type": "stream",
     "text": [
      "['az']\n",
      "['ae8934593u45jeksz']\n",
      "['a234234z']\n"
     ]
    }
   ],
   "source": [
    "regx = '^a.*z$'\n",
    "\n",
    "list_of_words = ['az','ae8934593u45jeksz','a234234z']\n",
    "for word in list_of_words:\n",
    "    print(re.findall(regx,word))"
   ]
  },
  {
   "cell_type": "markdown",
   "metadata": {},
   "source": [
    "# Q4.) Write a regX that should match a pattern having atmost 3 occurences of small alphabets.(atmost?? 0-till limit)"
   ]
  },
  {
   "cell_type": "code",
   "execution_count": null,
   "metadata": {},
   "outputs": [],
   "source": [
    "[A-Z]{3,5} => should occure either 3,4 or 5 times.\n",
    "[0-9]{3}\n",
    "\n",
    "What if i want to accpt 3 , 4 and 5 digit no?\n",
    "\n",
    "[0-9]{3,5}"
   ]
  },
  {
   "cell_type": "code",
   "execution_count": 63,
   "metadata": {},
   "outputs": [
    {
     "name": "stdout",
     "output_type": "stream",
     "text": [
      "['a', '']\n",
      "['zz', '']\n",
      "['zeb', 'ra', '']\n",
      "['', '', 'app', 'le', '']\n",
      "['', '', '']\n"
     ]
    }
   ],
   "source": [
    "list_of_words = ['a','zz','zebra','45apple','56']\n",
    "\n",
    "regx = '[a-z]{0,3}'\n",
    "\n",
    "for word in list_of_words:\n",
    "    print(re.findall(regx,word))"
   ]
  },
  {
   "cell_type": "markdown",
   "metadata": {},
   "source": [
    "# Q.5) Write a program to print hello world if the given_string start with a and end with z (make a function to do this task)"
   ]
  },
  {
   "cell_type": "code",
   "execution_count": null,
   "metadata": {},
   "outputs": [],
   "source": [
    "import re"
   ]
  },
  {
   "cell_type": "code",
   "execution_count": null,
   "metadata": {},
   "outputs": [],
   "source": [
    "we can use conditionial statements on re.search's return value"
   ]
  },
  {
   "cell_type": "code",
   "execution_count": 65,
   "metadata": {},
   "outputs": [
    {
     "name": "stdout",
     "output_type": "stream",
     "text": [
      "could not found the alphabets\n"
     ]
    }
   ],
   "source": [
    "if re.search('[a-z]','55'):\n",
    "    print('Yes we found a single digit number')\n",
    "else:\n",
    "    print('could not found the alphabets')"
   ]
  },
  {
   "cell_type": "code",
   "execution_count": 66,
   "metadata": {},
   "outputs": [],
   "source": [
    "def task(string):\n",
    "    if re.search('^a.*z$',string):\n",
    "        print('hello world')"
   ]
  },
  {
   "cell_type": "code",
   "execution_count": 67,
   "metadata": {},
   "outputs": [],
   "source": [
    "task('apple')"
   ]
  },
  {
   "cell_type": "code",
   "execution_count": 68,
   "metadata": {},
   "outputs": [
    {
     "name": "stdout",
     "output_type": "stream",
     "text": [
      "hello world\n"
     ]
    }
   ],
   "source": [
    "task('amchiMumbaiz')"
   ]
  },
  {
   "cell_type": "code",
   "execution_count": null,
   "metadata": {},
   "outputs": [],
   "source": [
    "# map"
   ]
  },
  {
   "cell_type": "code",
   "execution_count": null,
   "metadata": {},
   "outputs": [],
   "source": [
    "map(fun,iterable)"
   ]
  },
  {
   "cell_type": "code",
   "execution_count": 72,
   "metadata": {},
   "outputs": [
    {
     "name": "stdout",
     "output_type": "stream",
     "text": [
      "33 44 55 665\n"
     ]
    }
   ],
   "source": [
    "list_of_int = list(map(int,input().split()))"
   ]
  },
  {
   "cell_type": "code",
   "execution_count": 73,
   "metadata": {},
   "outputs": [
    {
     "data": {
      "text/plain": [
       "[33, 44, 55, 665]"
      ]
     },
     "execution_count": 73,
     "metadata": {},
     "output_type": "execute_result"
    }
   ],
   "source": [
    "list_of_int"
   ]
  },
  {
   "cell_type": "code",
   "execution_count": null,
   "metadata": {},
   "outputs": [],
   "source": []
  }
 ],
 "metadata": {
  "kernelspec": {
   "display_name": "Python 3",
   "language": "python",
   "name": "python3"
  },
  "language_info": {
   "codemirror_mode": {
    "name": "ipython",
    "version": 3
   },
   "file_extension": ".py",
   "mimetype": "text/x-python",
   "name": "python",
   "nbconvert_exporter": "python",
   "pygments_lexer": "ipython3",
   "version": "3.8.3"
  }
 },
 "nbformat": 4,
 "nbformat_minor": 4
}
