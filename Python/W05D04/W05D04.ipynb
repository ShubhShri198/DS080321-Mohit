{
 "cells": [
  {
   "cell_type": "code",
   "execution_count": null,
   "metadata": {},
   "outputs": [],
   "source": [
    "Immutable data types:\n",
    "    str\n",
    "    tuple\n",
    "    int\n",
    "    float\n",
    "    bool\n",
    "    None\n",
    "    \n",
    "Mutable:\n",
    "    list\n",
    "    set\n",
    "    dict\n",
    "    \n",
    "Iterables:\n",
    "    str\n",
    "    list\n",
    "    tuple\n",
    "    set\n",
    "    dict\n",
    "    \n",
    "    range(1,10)\n",
    "    \n",
    "What do you mean by Iterable?\n",
    "on which we can iterate,loop over"
   ]
  },
  {
   "cell_type": "code",
   "execution_count": null,
   "metadata": {},
   "outputs": [],
   "source": [
    "Membership Operator?\n",
    "in and not in?\n",
    "What kind of data types does classification does it work on?\n",
    "Iterables."
   ]
  },
  {
   "cell_type": "code",
   "execution_count": 1,
   "metadata": {},
   "outputs": [
    {
     "data": {
      "text/plain": [
       "True"
      ]
     },
     "execution_count": 1,
     "metadata": {},
     "output_type": "execute_result"
    }
   ],
   "source": [
    "'a' in 'apple'"
   ]
  },
  {
   "cell_type": "code",
   "execution_count": 2,
   "metadata": {},
   "outputs": [
    {
     "data": {
      "text/plain": [
       "True"
      ]
     },
     "execution_count": 2,
     "metadata": {},
     "output_type": "execute_result"
    }
   ],
   "source": [
    "'a' in ['a','p']"
   ]
  },
  {
   "cell_type": "code",
   "execution_count": 3,
   "metadata": {},
   "outputs": [
    {
     "ename": "TypeError",
     "evalue": "argument of type 'int' is not iterable",
     "output_type": "error",
     "traceback": [
      "\u001b[1;31m---------------------------------------------------------------------------\u001b[0m",
      "\u001b[1;31mTypeError\u001b[0m                                 Traceback (most recent call last)",
      "\u001b[1;32m<ipython-input-3-3bd06bbe763c>\u001b[0m in \u001b[0;36m<module>\u001b[1;34m\u001b[0m\n\u001b[1;32m----> 1\u001b[1;33m \u001b[1;34m'a'\u001b[0m \u001b[1;32min\u001b[0m \u001b[1;36m45\u001b[0m\u001b[1;33m\u001b[0m\u001b[1;33m\u001b[0m\u001b[0m\n\u001b[0m",
      "\u001b[1;31mTypeError\u001b[0m: argument of type 'int' is not iterable"
     ]
    }
   ],
   "source": [
    "'a' in 45"
   ]
  },
  {
   "cell_type": "code",
   "execution_count": null,
   "metadata": {},
   "outputs": [],
   "source": [
    "Question: You have to find out and save names of all the classes which starts \n",
    "    with CAT_. Also it should not contain duplicates.\n",
    "    \n",
    "    cat.txt is present at https://github.com/edyoda/DS080321-Mohit/blob/main/Python/W05D04/cat.txt\n",
    "    \n",
    "20 minutes."
   ]
  },
  {
   "cell_type": "code",
   "execution_count": 8,
   "metadata": {},
   "outputs": [
    {
     "name": "stdout",
     "output_type": "stream",
     "text": [
      "CAT_IntegrationSetUtil\n",
      "CAT_EquityAggregateUtil\n",
      "CAT_PrecycleUIUtil\n",
      "CAT_PrecycleUIUtil\n",
      "CAT_FocalFileTriggerUtilTest\n",
      "CAT_AdminConsoleController\n",
      "CAT_LetterTriggerHandler\n",
      "CAT_SlotsAllocationController\n",
      "CAT_LetterTemplateControllerTest\n",
      "CAT_DataRefreshBatch\n",
      "CAT_MeritMatrixBatch\n",
      "CAT_LettersListViewControllerTest\n",
      "CAT_PMTShareUtil\n",
      "CAT_Focal_Related_Info\n",
      "CAT_LettersListViewControllerTest\n",
      "CAT_LetterTemplateController\n",
      "CAT_PromoMatrixBatch\n",
      "CAT_EquityAggregateUtilTest\n",
      "CAT_UIUtilHelper\n",
      "CAT_UIUtilHelper\n",
      "CAT_UIUtilHelper\n",
      "CAT_OverrideManagerTest\n",
      "CAT_LettersListViewControllerTest\n",
      "CAT_SecurityMatrixTests\n",
      "CAT_LettersListViewControllerTest\n",
      "CAT_RLTDEditController\n",
      "CAT_PromoMatrixBatch\n"
     ]
    }
   ],
   "source": [
    "fp = open('cat.txt','r')\n",
    "fp2 = open('catModified.txt','w+')\n",
    "\n",
    "LinesList = fp.readlines()\n",
    "FinalLinesList = []\n",
    "for line in LinesList:\n",
    "    if 'CAT_' in line:\n",
    "        wordsList = line.split()\n",
    "        for word in wordsList:\n",
    "            if 'CAT_' in word:\n",
    "                modified_word = word.rstrip('.')\n",
    "                if modified_word in FinalLinesList:\n",
    "                    print(modified_word)\n",
    "                else:\n",
    "                    fp2.write(modified_word)\n",
    "                    FinalLinesList.append(modified_word)\n",
    "                    fp2.write('\\n')\n",
    "fp.close()\n",
    "fp2.close()"
   ]
  },
  {
   "cell_type": "code",
   "execution_count": null,
   "metadata": {},
   "outputs": [],
   "source": [
    "## fp.tell() -> tells the position of the file pointer"
   ]
  },
  {
   "cell_type": "code",
   "execution_count": 13,
   "metadata": {},
   "outputs": [
    {
     "name": "stdout",
     "output_type": "stream",
     "text": [
      "0\n",
      "blink 1\n",
      "\n",
      "9\n",
      "blink 2\n",
      "\n",
      "18\n"
     ]
    }
   ],
   "source": [
    "fp = open('blinker.txt','r')\n",
    "\n",
    "print(fp.tell())\n",
    "\n",
    "print(fp.readline()) ## automatically the fp moves when you use readline function.\n",
    "\n",
    "print(fp.tell())\n",
    "\n",
    "print(fp.readline())\n",
    "\n",
    "print(fp.tell())\n",
    "\n",
    "fp.close()"
   ]
  },
  {
   "cell_type": "code",
   "execution_count": 10,
   "metadata": {},
   "outputs": [
    {
     "data": {
      "text/plain": [
       "7"
      ]
     },
     "execution_count": 10,
     "metadata": {},
     "output_type": "execute_result"
    }
   ],
   "source": [
    "len('blink 1')"
   ]
  },
  {
   "cell_type": "code",
   "execution_count": 14,
   "metadata": {},
   "outputs": [
    {
     "name": "stdout",
     "output_type": "stream",
     "text": [
      "['blink 1\\n', 'blink 2\\n', 'blink 3\\n', 'blink 4\\n', 'blink 5']\n"
     ]
    }
   ],
   "source": [
    "fp = open('blinker.txt','r')\n",
    "\n",
    "print(fp.readlines())"
   ]
  },
  {
   "cell_type": "code",
   "execution_count": 15,
   "metadata": {},
   "outputs": [
    {
     "data": {
      "text/plain": [
       "8"
      ]
     },
     "execution_count": 15,
     "metadata": {},
     "output_type": "execute_result"
    }
   ],
   "source": [
    "len('blink 1\\n')"
   ]
  },
  {
   "cell_type": "code",
   "execution_count": 24,
   "metadata": {},
   "outputs": [
    {
     "name": "stdout",
     "output_type": "stream",
     "text": [
      "0\n",
      "5\n",
      "10\n",
      "2\n",
      "43\n"
     ]
    }
   ],
   "source": [
    "fp = open('blinker.txt','r')\n",
    "\n",
    "print(fp.tell())\n",
    "\n",
    "fp.seek(fp.tell()+5,0)\n",
    "\n",
    "print(fp.tell())\n",
    "\n",
    "fp.seek(fp.tell()+5,0)\n",
    "\n",
    "print(fp.tell())\n",
    "\n",
    "fp.seek(fp.tell()-8,0)\n",
    "\n",
    "print(fp.tell())\n",
    "\n",
    "fp.seek(0,2)\n",
    "\n",
    "print(fp.tell())\n",
    "fp.close()"
   ]
  },
  {
   "cell_type": "code",
   "execution_count": null,
   "metadata": {},
   "outputs": [],
   "source": []
  }
 ],
 "metadata": {
  "kernelspec": {
   "display_name": "Python 3",
   "language": "python",
   "name": "python3"
  },
  "language_info": {
   "codemirror_mode": {
    "name": "ipython",
    "version": 3
   },
   "file_extension": ".py",
   "mimetype": "text/x-python",
   "name": "python",
   "nbconvert_exporter": "python",
   "pygments_lexer": "ipython3",
   "version": "3.8.3"
  }
 },
 "nbformat": 4,
 "nbformat_minor": 4
}
