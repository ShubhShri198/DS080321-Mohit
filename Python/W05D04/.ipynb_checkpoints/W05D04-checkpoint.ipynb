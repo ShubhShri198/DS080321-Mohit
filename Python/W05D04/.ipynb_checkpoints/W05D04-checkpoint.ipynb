{
 "cells": [
  {
   "cell_type": "code",
   "execution_count": null,
   "metadata": {},
   "outputs": [],
   "source": [
    "Immutable data types:\n",
    "    str\n",
    "    tuple\n",
    "    int\n",
    "    float\n",
    "    bool\n",
    "    None\n",
    "    \n",
    "Mutable:\n",
    "    list\n",
    "    set\n",
    "    dict\n",
    "    \n",
    "Iterables:\n",
    "    str\n",
    "    list\n",
    "    tuple\n",
    "    set\n",
    "    dict\n",
    "    \n",
    "    range(1,10)\n",
    "    \n",
    "What do you mean by Iterable?\n",
    "on which we can iterate,loop over"
   ]
  },
  {
   "cell_type": "code",
   "execution_count": null,
   "metadata": {},
   "outputs": [],
   "source": [
    "Membership Operator?\n",
    "in and not in?\n",
    "What kind of data types does classification does it work on?\n",
    "Iterables."
   ]
  },
  {
   "cell_type": "code",
   "execution_count": 1,
   "metadata": {},
   "outputs": [
    {
     "data": {
      "text/plain": [
       "True"
      ]
     },
     "execution_count": 1,
     "metadata": {},
     "output_type": "execute_result"
    }
   ],
   "source": [
    "'a' in 'apple'"
   ]
  },
  {
   "cell_type": "code",
   "execution_count": 2,
   "metadata": {},
   "outputs": [
    {
     "data": {
      "text/plain": [
       "True"
      ]
     },
     "execution_count": 2,
     "metadata": {},
     "output_type": "execute_result"
    }
   ],
   "source": [
    "'a' in ['a','p']"
   ]
  },
  {
   "cell_type": "code",
   "execution_count": 3,
   "metadata": {},
   "outputs": [
    {
     "ename": "TypeError",
     "evalue": "argument of type 'int' is not iterable",
     "output_type": "error",
     "traceback": [
      "\u001b[1;31m---------------------------------------------------------------------------\u001b[0m",
      "\u001b[1;31mTypeError\u001b[0m                                 Traceback (most recent call last)",
      "\u001b[1;32m<ipython-input-3-3bd06bbe763c>\u001b[0m in \u001b[0;36m<module>\u001b[1;34m\u001b[0m\n\u001b[1;32m----> 1\u001b[1;33m \u001b[1;34m'a'\u001b[0m \u001b[1;32min\u001b[0m \u001b[1;36m45\u001b[0m\u001b[1;33m\u001b[0m\u001b[1;33m\u001b[0m\u001b[0m\n\u001b[0m",
      "\u001b[1;31mTypeError\u001b[0m: argument of type 'int' is not iterable"
     ]
    }
   ],
   "source": [
    "'a' in 45"
   ]
  },
  {
   "cell_type": "code",
   "execution_count": null,
   "metadata": {},
   "outputs": [],
   "source": [
    "Question: You have to find out and save names of all the classes which starts \n",
    "    with CAT_. Also it should not contain duplicates.\n",
    "    \n",
    "    cat.txt is present at https://github.com/edyoda/DS080321-Mohit/blob/main/Python/W05D04/cat.txt\n",
    "    \n",
    "20 minutes."
   ]
  },
  {
   "cell_type": "code",
   "execution_count": 7,
   "metadata": {},
   "outputs": [],
   "source": [
    "fp = open('cat.txt','r')\n",
    "fp2 = open('catModified.txt','w+')\n",
    "\n",
    "LinesList = fp.readlines()\n",
    "FinalLinesList = []\n",
    "# print(LinesList)\n",
    "for line in LinesList:\n",
    "    if 'CAT_' in line:\n",
    "        wordsList = line.split()\n",
    "        for word in wordsList:\n",
    "            if 'CAT_' in word:\n",
    "                modified_word = word.rstrip('.')\n",
    "                fp2.write(modified_word)\n",
    "                FinalLinesList.append(modified_word)\n",
    "                fp2.write('\\n')\n",
    "#         print(line)\n",
    "fp.close()\n",
    "fp2.close()"
   ]
  },
  {
   "cell_type": "code",
   "execution_count": null,
   "metadata": {},
   "outputs": [],
   "source": []
  }
 ],
 "metadata": {
  "kernelspec": {
   "display_name": "Python 3",
   "language": "python",
   "name": "python3"
  },
  "language_info": {
   "codemirror_mode": {
    "name": "ipython",
    "version": 3
   },
   "file_extension": ".py",
   "mimetype": "text/x-python",
   "name": "python",
   "nbconvert_exporter": "python",
   "pygments_lexer": "ipython3",
   "version": "3.8.3"
  }
 },
 "nbformat": 4,
 "nbformat_minor": 4
}
