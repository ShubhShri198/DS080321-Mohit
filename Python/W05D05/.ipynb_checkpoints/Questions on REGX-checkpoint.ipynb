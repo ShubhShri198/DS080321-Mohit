{
 "cells": [
  {
   "cell_type": "code",
   "execution_count": null,
   "metadata": {},
   "outputs": [],
   "source": [
    "# Q1) Write a regX to match a 3 digit number followed by abc.\n",
    "# correct ones = ['124abc','457abc','589abc']\n",
    "# wrong ones = ['12dfgabc','abc','234abrc']\n",
    "\n",
    "Q2.) Write a regX to match a 3 digit number followed by 3 small alphabets.\n",
    "\n",
    "Q3.) Write a regx that start with a and end with z\n",
    "\n",
    "Q4.) Write a reqx that should match a pattern having atmost 3 occurences of small alphabets."
   ]
  }
 ],
 "metadata": {
  "kernelspec": {
   "display_name": "Python 3",
   "language": "python",
   "name": "python3"
  },
  "language_info": {
   "codemirror_mode": {
    "name": "ipython",
    "version": 3
   },
   "file_extension": ".py",
   "mimetype": "text/x-python",
   "name": "python",
   "nbconvert_exporter": "python",
   "pygments_lexer": "ipython3",
   "version": "3.8.3"
  }
 },
 "nbformat": 4,
 "nbformat_minor": 4
}
