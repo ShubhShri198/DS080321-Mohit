{
 "cells": [
  {
   "cell_type": "code",
   "execution_count": null,
   "metadata": {},
   "outputs": [],
   "source": [
    "tell me how to create a text file using python?\n",
    "\n",
    "why closing the file is important?\n",
    "-> save the file\n",
    "-> save the resources"
   ]
  },
  {
   "cell_type": "code",
   "execution_count": 7,
   "metadata": {},
   "outputs": [
    {
     "name": "stdout",
     "output_type": "stream",
     "text": [
      "The file is already closed\n"
     ]
    }
   ],
   "source": [
    "## alternate syntax for opening the file which closes as soon as we get out of the indented block.\n",
    "\n",
    "with open('test.txt','w') as fp:\n",
    "    fp.write('mango juice')\n",
    "print('The file is already closed')"
   ]
  },
  {
   "cell_type": "code",
   "execution_count": 9,
   "metadata": {},
   "outputs": [
    {
     "name": "stdout",
     "output_type": "stream",
     "text": [
      "mango juice\n"
     ]
    }
   ],
   "source": [
    "with open('test.txt','r') as fp:\n",
    "    x = fp.read()\n",
    "    print(x)"
   ]
  },
  {
   "cell_type": "code",
   "execution_count": null,
   "metadata": {},
   "outputs": [],
   "source": [
    "# you don't have to use fp.close() now for closing the file explicitly.\n",
    "# Also you don't have to worry if you forgot to do that."
   ]
  },
  {
   "cell_type": "markdown",
   "metadata": {},
   "source": [
    "## REGULAR EXPRESSIONS"
   ]
  },
  {
   "cell_type": "code",
   "execution_count": null,
   "metadata": {},
   "outputs": [],
   "source": [
    "What is a Regular Expression:\n",
    "    It is a String containing some rules to Match or define particular Pattern.\n",
    "Everything around Regular expression is put inside a module names as re in python."
   ]
  },
  {
   "cell_type": "code",
   "execution_count": null,
   "metadata": {},
   "outputs": [],
   "source": [
    "-> Pattern Validation\n",
    "-> Pattern Extraction\n",
    "-> String Matching and finding"
   ]
  },
  {
   "cell_type": "code",
   "execution_count": null,
   "metadata": {},
   "outputs": [],
   "source": [
    "## Metacharacters\n",
    "\n",
    ". (dot) => matches with all the char(alphabets,digits,specail chars etc..) except the newline char (\"\\n\")\n",
    ". -> single dot means single char and that char could be anything as mentioned above.\n",
    "\n",
    "[] => Character Class. A set of chars\n",
    "[A-Z] => all the capital alphabets from A to Z (single occurence) ([A-Z] matches any single capital alphabet)\n",
    "[a-z] => all the small alphabets (single occurence)\n",
    "[A-Za-z] => aLL SMALL + CAPITAL alphabets (single occurence)\n",
    "[0-9] => digits (single occurence)\n",
    "[$atpMNO] => match only $ or a or t or p or M or N or O (single occurence)\n",
    "[skhiumr] => match only s or k or h or i or u or m or r (single occurence)\n",
    "\n",
    "Quantifiers:\n",
    "    + => atleast 1 or more occurence (for example [0-9]+ means that a digit will appear atleast 1 or more times.)\n",
    "    * => 0 or more occurence (for example [0-9]* means that a digit will appear 0 or more times.)\n",
    "    ? => Optional (once or not at all) (for example [0-9]? means that a digit will appear 0 or 1 times.)\n",
    "    \n",
    "Anchors:\n",
    "    ^ => start of string\n",
    "    $ => end of the string\n",
    "    \n",
    "{} -> counting stuff\n",
    "\n",
    "[a-z]{2} => small alphabet should occur exactly 2 times.\n",
    "[0-9]{3} => digits should appear exactly 3 times.\n",
    "[A-Z]{3,5} => should occure either 3,4 or 5 times.\n",
    "\n",
    "^compliment (reversal)\n",
    "\n",
    "[^0-9] => everything is acceptable except the digits."
   ]
  },
  {
   "cell_type": "code",
   "execution_count": 10,
   "metadata": {},
   "outputs": [],
   "source": [
    "import re"
   ]
  },
  {
   "cell_type": "code",
   "execution_count": 14,
   "metadata": {},
   "outputs": [
    {
     "name": "stdout",
     "output_type": "stream",
     "text": [
      "<re.Match object; span=(0, 1), match='M'>\n",
      "None\n",
      "<re.Match object; span=(0, 1), match='4'>\n"
     ]
    }
   ],
   "source": [
    "## re.search(REGX,STRING_in_which_you_want_to_search_the_REGX)\n",
    "# re.search matches the first pattern according to the regx inside the string and returns a Match object with info.\n",
    "\n",
    "ananya = '.'\n",
    "\n",
    "print(re.search(ananya,'Mango Juice'))\n",
    "\n",
    "## the regx is dot which can match with any char. ALso re.search returns the first match which is M in our case.\n",
    "\n",
    "print(re.search(ananya,'\\n'))\n",
    "\n",
    "print(re.search(ananya,'45'))"
   ]
  },
  {
   "cell_type": "code",
   "execution_count": 16,
   "metadata": {},
   "outputs": [
    {
     "name": "stdout",
     "output_type": "stream",
     "text": [
      "<re.Match object; span=(6, 8), match='Ju'>\n"
     ]
    }
   ],
   "source": [
    "regx = 'Ju'\n",
    "\n",
    "print(re.search(regx,'Mango Juice'))"
   ]
  },
  {
   "cell_type": "code",
   "execution_count": 17,
   "metadata": {},
   "outputs": [
    {
     "name": "stdout",
     "output_type": "stream",
     "text": [
      "Ju\n"
     ]
    }
   ],
   "source": [
    "x = 'Mango Juice'\n",
    "print(x[6:8])"
   ]
  },
  {
   "cell_type": "code",
   "execution_count": 19,
   "metadata": {},
   "outputs": [
    {
     "name": "stdout",
     "output_type": "stream",
     "text": [
      "<re.Match object; span=(0, 1), match='a'>\n",
      "None\n",
      "None\n",
      "None\n"
     ]
    }
   ],
   "source": [
    "regx = '[a-z]'\n",
    "\n",
    "list_of_strings = ['asdfght','A','43','$%']\n",
    "\n",
    "for word in list_of_strings:\n",
    "    print(re.search(regx,word))"
   ]
  },
  {
   "cell_type": "code",
   "execution_count": 20,
   "metadata": {},
   "outputs": [
    {
     "name": "stdout",
     "output_type": "stream",
     "text": [
      "<re.Match object; span=(0, 1), match='a'>\n",
      "None\n",
      "None\n",
      "<re.Match object; span=(0, 1), match='$'>\n"
     ]
    }
   ],
   "source": [
    "regx = '[$atpMNO]'\n",
    "\n",
    "list_of_strings = ['asdfght','A','43','$%']\n",
    "\n",
    "for word in list_of_strings:\n",
    "    print(re.search(regx,word))"
   ]
  },
  {
   "cell_type": "code",
   "execution_count": 21,
   "metadata": {},
   "outputs": [
    {
     "name": "stdout",
     "output_type": "stream",
     "text": [
      "None\n",
      "<re.Match object; span=(0, 1), match='A'>\n",
      "None\n",
      "None\n",
      "<re.Match object; span=(0, 1), match='M'>\n"
     ]
    }
   ],
   "source": [
    "regx = '[A-Z]'\n",
    "\n",
    "list_of_strings = ['asdfght','A','43','$%','M']\n",
    "\n",
    "for word in list_of_strings:\n",
    "    print(re.search(regx,word))"
   ]
  },
  {
   "cell_type": "code",
   "execution_count": 24,
   "metadata": {},
   "outputs": [
    {
     "name": "stdout",
     "output_type": "stream",
     "text": [
      "<re.Match object; span=(0, 1), match='a'>\n",
      "<re.Match object; span=(0, 1), match='A'>\n",
      "None\n",
      "None\n",
      "<re.Match object; span=(0, 1), match='M'>\n",
      "<re.Match object; span=(0, 1), match='s'>\n",
      "<re.Match object; span=(0, 1), match='n'>\n",
      "None\n",
      "<re.Match object; span=(0, 1), match='m'>\n"
     ]
    }
   ],
   "source": [
    "regx = '[A-Za-z]'\n",
    "\n",
    "list_of_strings = ['asdfght','A','43','$%','M','s','nilesh b','786','mango10']\n",
    "\n",
    "for word in list_of_strings:\n",
    "    print(re.search(regx,word))"
   ]
  },
  {
   "cell_type": "code",
   "execution_count": 25,
   "metadata": {},
   "outputs": [
    {
     "name": "stdout",
     "output_type": "stream",
     "text": [
      "None\n",
      "None\n",
      "<re.Match object; span=(0, 1), match='4'>\n",
      "None\n",
      "None\n",
      "None\n",
      "None\n",
      "<re.Match object; span=(0, 1), match='7'>\n",
      "<re.Match object; span=(5, 6), match='1'>\n"
     ]
    }
   ],
   "source": [
    "regx = '[0-9]'\n",
    "\n",
    "list_of_strings = ['asdfght','A','43','$%','M','s','nilesh b','786','mango10']\n",
    "\n",
    "for word in list_of_strings:\n",
    "    print(re.search(regx,word))"
   ]
  },
  {
   "cell_type": "code",
   "execution_count": 26,
   "metadata": {},
   "outputs": [
    {
     "name": "stdout",
     "output_type": "stream",
     "text": [
      "None\n",
      "None\n",
      "None\n",
      "None\n",
      "None\n",
      "None\n",
      "None\n",
      "<re.Match object; span=(0, 1), match='7'>\n",
      "None\n"
     ]
    }
   ],
   "source": [
    "regx = '[5-9]'\n",
    "\n",
    "list_of_strings = ['asdfght','A','43','$%','M','s','nilesh b','786','mango10']\n",
    "\n",
    "for word in list_of_strings:\n",
    "    print(re.search(regx,word))"
   ]
  },
  {
   "cell_type": "code",
   "execution_count": 28,
   "metadata": {},
   "outputs": [
    {
     "name": "stdout",
     "output_type": "stream",
     "text": [
      "None\n",
      "None\n",
      "None\n",
      "None\n",
      "None\n",
      "None\n",
      "<re.Match object; span=(0, 1), match='n'>\n",
      "None\n",
      "<re.Match object; span=(0, 1), match='m'>\n",
      "<re.Match object; span=(0, 1), match='o'>\n"
     ]
    }
   ],
   "source": [
    "regx = '[m-o]'\n",
    "\n",
    "list_of_strings = ['asdfght','A','43','$%','M','s','nilesh b','786','mango10','onion']\n",
    "\n",
    "for word in list_of_strings:\n",
    "    print(re.search(regx,word))"
   ]
  },
  {
   "cell_type": "code",
   "execution_count": 30,
   "metadata": {},
   "outputs": [
    {
     "name": "stdout",
     "output_type": "stream",
     "text": [
      "None\n",
      "<re.Match object; span=(0, 1), match='A'>\n",
      "None\n",
      "None\n",
      "None\n",
      "None\n",
      "None\n",
      "None\n",
      "None\n",
      "None\n",
      "<re.Match object; span=(0, 1), match='E'>\n"
     ]
    }
   ],
   "source": [
    "regx = '[A-H]'\n",
    "\n",
    "list_of_strings = ['asdfght','A','43','$%','M','s','nilesh b','786','mango10','onion','Eagle']\n",
    "\n",
    "for word in list_of_strings:\n",
    "    print(re.search(regx,word))"
   ]
  },
  {
   "cell_type": "code",
   "execution_count": 31,
   "metadata": {},
   "outputs": [
    {
     "name": "stdout",
     "output_type": "stream",
     "text": [
      "<re.Match object; span=(0, 1), match='a'>\n",
      "<re.Match object; span=(0, 1), match='A'>\n",
      "<re.Match object; span=(0, 1), match='4'>\n",
      "None\n",
      "None\n",
      "<re.Match object; span=(0, 1), match='s'>\n",
      "<re.Match object; span=(0, 1), match='n'>\n",
      "<re.Match object; span=(0, 1), match='7'>\n",
      "<re.Match object; span=(0, 1), match='m'>\n",
      "<re.Match object; span=(0, 1), match='o'>\n",
      "<re.Match object; span=(0, 1), match='E'>\n"
     ]
    }
   ],
   "source": [
    "regx = '[A-H0-9a-z]'\n",
    "\n",
    "list_of_strings = ['asdfght','A','43','$%','M','s','nilesh b','786','mango10','onion','Eagle']\n",
    "\n",
    "for word in list_of_strings:\n",
    "    print(re.search(regx,word))"
   ]
  },
  {
   "cell_type": "code",
   "execution_count": 51,
   "metadata": {},
   "outputs": [
    {
     "name": "stdout",
     "output_type": "stream",
     "text": [
      "<re.Match object; span=(0, 1), match='a'>\n",
      "<re.Match object; span=(0, 1), match='A'>\n",
      "<re.Match object; span=(0, 1), match='4'>\n",
      "<re.Match object; span=(0, 1), match='$'>\n",
      "None\n",
      "<re.Match object; span=(0, 1), match='s'>\n",
      "<re.Match object; span=(0, 1), match='n'>\n",
      "<re.Match object; span=(0, 1), match='7'>\n",
      "<re.Match object; span=(0, 1), match='m'>\n",
      "<re.Match object; span=(0, 1), match='o'>\n",
      "<re.Match object; span=(0, 1), match='E'>\n",
      "<re.Match object; span=(0, 1), match='&'>\n"
     ]
    }
   ],
   "source": [
    "regx = '[A-H0-9a-z!-*]'\n",
    "\n",
    "list_of_strings = ['asdfght','A','43','$%','M','s','nilesh b','786','mango10','onion','Eagle','&bharat@smjha.com']\n",
    "\n",
    "for word in list_of_strings:\n",
    "    print(re.search(regx,word))"
   ]
  },
  {
   "cell_type": "code",
   "execution_count": 47,
   "metadata": {},
   "outputs": [
    {
     "name": "stdout",
     "output_type": "stream",
     "text": [
      "None\n",
      "None\n",
      "None\n",
      "<re.Match object; span=(0, 1), match='$'>\n",
      "None\n",
      "None\n",
      "None\n",
      "None\n",
      "None\n",
      "None\n",
      "None\n",
      "<re.Match object; span=(6, 7), match='\"'>\n"
     ]
    }
   ],
   "source": [
    "regx = '[!-*]'\n",
    "\n",
    "list_of_strings = ['asdfght','A','43','$%','M','s','nilesh b','786','mango10','onion','Eagle','bharat\"smjha.com']\n",
    "\n",
    "for word in list_of_strings:\n",
    "    print(re.search(regx,word))"
   ]
  },
  {
   "cell_type": "code",
   "execution_count": 46,
   "metadata": {},
   "outputs": [
    {
     "name": "stdout",
     "output_type": "stream",
     "text": [
      "!\n",
      "\"\n",
      "#\n",
      "$\n",
      "%\n",
      "&\n",
      "'\n",
      "(\n",
      ")\n",
      "*\n"
     ]
    }
   ],
   "source": [
    "for i in range(ord('!'),ord('*')+1):\n",
    "    print(chr(i))"
   ]
  },
  {
   "cell_type": "code",
   "execution_count": null,
   "metadata": {},
   "outputs": [],
   "source": [
    "!@#$%^&*()\n",
    "\n",
    "!-*\n",
    "it will match all the special chars from ! to *\n",
    "which are !,@,#,$,%,^,&,and *"
   ]
  },
  {
   "cell_type": "code",
   "execution_count": null,
   "metadata": {},
   "outputs": [],
   "source": [
    "Quantifiers:\n",
    "    + => atleast 1 or more occurence (for example [0-9]+ means that a digit will appear atleast 1 or more times.)\n",
    "    * => 0 or more occurence (for example [0-9]* means that a digit will appear 0 or more times.)\n",
    "    ? => Optional (once or not at all) (for example [0-9]? means that a digit will appear 0 or 1 times.)"
   ]
  },
  {
   "cell_type": "code",
   "execution_count": 54,
   "metadata": {},
   "outputs": [
    {
     "name": "stdout",
     "output_type": "stream",
     "text": [
      "<re.Match object; span=(0, 7), match='asdfght'>\n",
      "<re.Match object; span=(0, 4), match='ABAC'>\n",
      "<re.Match object; span=(0, 1), match='A'>\n",
      "<re.Match object; span=(0, 2), match='43'>\n",
      "<re.Match object; span=(0, 2), match='$%'>\n",
      "None\n",
      "<re.Match object; span=(0, 1), match='s'>\n",
      "<re.Match object; span=(0, 6), match='nilesh'>\n",
      "<re.Match object; span=(0, 3), match='786'>\n",
      "<re.Match object; span=(0, 7), match='mango10'>\n",
      "<re.Match object; span=(0, 5), match='onion'>\n",
      "<re.Match object; span=(0, 5), match='Eagle'>\n",
      "<re.Match object; span=(0, 7), match='&bharat'>\n"
     ]
    }
   ],
   "source": [
    "regx = '[A-H0-9a-z!-*]+'\n",
    "\n",
    "list_of_strings = ['asdfght','ABACUS','APPLE','43','$%','M','s','nilesh b','786','mango10','onion','Eagle','&bharat@smjha.com']\n",
    "\n",
    "for word in list_of_strings:\n",
    "    print(re.search(regx,word))"
   ]
  },
  {
   "cell_type": "code",
   "execution_count": 55,
   "metadata": {},
   "outputs": [
    {
     "name": "stdout",
     "output_type": "stream",
     "text": [
      "None\n",
      "None\n",
      "None\n",
      "None\n",
      "<re.Match object; span=(0, 2), match='$%'>\n",
      "None\n",
      "None\n",
      "None\n",
      "None\n",
      "None\n",
      "None\n",
      "None\n",
      "<re.Match object; span=(0, 1), match='&'>\n"
     ]
    }
   ],
   "source": [
    "regx = '[!-*]+'\n",
    "\n",
    "list_of_strings = ['asdfght','ABACUS','APPLE','43','$%','M','s','nilesh b','786','mango10','onion','Eagle','&bharat@smjha.com']\n",
    "\n",
    "for word in list_of_strings:\n",
    "    print(re.search(regx,word))"
   ]
  },
  {
   "cell_type": "code",
   "execution_count": 87,
   "metadata": {},
   "outputs": [
    {
     "name": "stdout",
     "output_type": "stream",
     "text": [
      "!\n",
      "\"\n",
      "#\n",
      "$\n",
      "%\n",
      "&\n",
      "'\n",
      "(\n",
      ")\n",
      "*\n"
     ]
    }
   ],
   "source": [
    "for i in range(ord('!'),ord('*')+1):\n",
    "    print(chr(i))\n",
    "    \n",
    "# we can make any range with the help of ASCII value"
   ]
  },
  {
   "cell_type": "code",
   "execution_count": 56,
   "metadata": {},
   "outputs": [
    {
     "name": "stdout",
     "output_type": "stream",
     "text": [
      "None\n",
      "None\n",
      "None\n",
      "<re.Match object; span=(0, 2), match='43'>\n",
      "None\n",
      "None\n",
      "None\n",
      "None\n",
      "<re.Match object; span=(0, 3), match='786'>\n",
      "<re.Match object; span=(5, 7), match='10'>\n",
      "None\n",
      "None\n",
      "None\n"
     ]
    }
   ],
   "source": [
    "regx = '[0-9]+'\n",
    "\n",
    "list_of_strings = ['asdfght','ABACUS','APPLE','43','$%','M','s','nilesh b','786','mango10','onion','Eagle','&bharat@smjha.com']\n",
    "\n",
    "for word in list_of_strings:\n",
    "    print(re.search(regx,word))"
   ]
  },
  {
   "cell_type": "code",
   "execution_count": 57,
   "metadata": {},
   "outputs": [
    {
     "name": "stdout",
     "output_type": "stream",
     "text": [
      "None\n",
      "<re.Match object; span=(0, 6), match='ABACUS'>\n",
      "<re.Match object; span=(0, 5), match='APPLE'>\n",
      "None\n",
      "None\n",
      "<re.Match object; span=(0, 1), match='M'>\n",
      "None\n",
      "None\n",
      "None\n",
      "None\n",
      "None\n",
      "<re.Match object; span=(0, 1), match='E'>\n",
      "None\n"
     ]
    }
   ],
   "source": [
    "regx = '[A-Z]+'\n",
    "\n",
    "list_of_strings = ['asdfght','ABACUS','APPLE','43','$%','M','s','nilesh b','786','mango10','onion','Eagle','&bharat@smjha.com']\n",
    "\n",
    "for word in list_of_strings:\n",
    "    print(re.search(regx,word))"
   ]
  },
  {
   "cell_type": "code",
   "execution_count": null,
   "metadata": {},
   "outputs": [],
   "source": [
    "## re.findall(regx,string_where_regx_will_be_searched):\n",
    "# it returns list of all the matches from the string"
   ]
  },
  {
   "cell_type": "code",
   "execution_count": 64,
   "metadata": {},
   "outputs": [
    {
     "name": "stdout",
     "output_type": "stream",
     "text": [
      "['apple', 'sdfght']\n",
      "['ABACUS']\n",
      "[]\n",
      "[]\n",
      "['M']\n",
      "['s']\n",
      "['nilesh', 'b']\n",
      "[]\n",
      "['mango']\n",
      "['onion']\n",
      "['Eagle']\n",
      "['bharat', 'smjha', 'com']\n"
     ]
    }
   ],
   "source": [
    "# Quantifier = \"+\"\n",
    "regx = '[A-Za-z]+'\n",
    "\n",
    "list_of_strings = ['apple67sdfght','ABACUS','43','$%','M','s','nilesh b','786','mango10','onion','Eagle','&bharat@smjha.com']\n",
    "\n",
    "for word in list_of_strings:\n",
    "    print(re.findall(regx,word))"
   ]
  },
  {
   "cell_type": "code",
   "execution_count": 69,
   "metadata": {},
   "outputs": [
    {
     "name": "stdout",
     "output_type": "stream",
     "text": [
      "<re.Match object; span=(0, 5), match='apple'>\n",
      "<re.Match object; span=(0, 6), match='ABACUS'>\n",
      "<re.Match object; span=(0, 0), match=''>\n",
      "<re.Match object; span=(0, 0), match=''>\n",
      "<re.Match object; span=(0, 1), match='M'>\n",
      "<re.Match object; span=(0, 1), match='s'>\n",
      "<re.Match object; span=(0, 6), match='nilesh'>\n",
      "<re.Match object; span=(0, 0), match=''>\n",
      "<re.Match object; span=(0, 5), match='mango'>\n",
      "<re.Match object; span=(0, 5), match='onion'>\n",
      "<re.Match object; span=(0, 5), match='Eagle'>\n",
      "<re.Match object; span=(0, 0), match=''>\n"
     ]
    }
   ],
   "source": [
    "# Quantifier = \"*\"\n",
    "# * => 0 or more occurence (for example [0-9]* means that a digit will appear 0 or more times.)\n",
    "import re\n",
    "regx = '[A-Za-z]*'\n",
    "\n",
    "list_of_strings = ['apple67sdfght','ABACUS','43','$%','M','s','nilesh b','786','mango10','onion','Eagle','&bharat@smjha.com']\n",
    "\n",
    "for word in list_of_strings:\n",
    "    print(re.search(regx,word))"
   ]
  },
  {
   "cell_type": "code",
   "execution_count": 73,
   "metadata": {},
   "outputs": [
    {
     "name": "stdout",
     "output_type": "stream",
     "text": [
      "['a', 'p', 'p', 'l', 'e', '', '', 's', 'd', 'f', 'g', 'h', 't', '']\n"
     ]
    }
   ],
   "source": [
    "#  ? => Optional (once or not at all) (for example [0-9]? means that a digit will appear 0 or 1 times.)\n",
    "    \n",
    "# Quantifier = \"?\"\n",
    "\n",
    "regx = '[A-Za-z]?'\n",
    "print(re.findall(regx,'apple67sdfght'))"
   ]
  },
  {
   "cell_type": "code",
   "execution_count": null,
   "metadata": {},
   "outputs": [],
   "source": [
    "Anchors:\n",
    "    ^ => start of string\n",
    "    $ => end of the string"
   ]
  },
  {
   "cell_type": "code",
   "execution_count": 77,
   "metadata": {},
   "outputs": [
    {
     "name": "stdout",
     "output_type": "stream",
     "text": [
      "[]\n",
      "['ABACUS']\n",
      "[]\n",
      "[]\n",
      "[]\n",
      "[]\n",
      "['nilesh b']\n",
      "[]\n",
      "['mango10']\n",
      "[]\n",
      "[]\n",
      "[]\n"
     ]
    }
   ],
   "source": [
    "# ^ => start of string\n",
    "\n",
    "regx = '^[nmA].*'\n",
    "#this pattern says any word which starts with n or m or A and can contain any character after that.\n",
    "\n",
    "list_of_strings = ['applnmAe67sdfght','ABACUS','43','$%','M','s','nilesh b','786','mango10','onion','Eagle','&bharat@smjha.com']\n",
    "\n",
    "for word in list_of_strings:\n",
    "    print(re.findall(regx,word))"
   ]
  },
  {
   "cell_type": "code",
   "execution_count": 79,
   "metadata": {},
   "outputs": [
    {
     "name": "stdout",
     "output_type": "stream",
     "text": [
      "[]\n",
      "['m786']\n",
      "['A']\n",
      "[]\n",
      "[]\n",
      "[]\n",
      "[]\n",
      "['n']\n",
      "[]\n",
      "['m']\n",
      "[]\n",
      "[]\n",
      "[]\n"
     ]
    }
   ],
   "source": [
    "# ^ => start of string\n",
    "\n",
    "regx = '^[nmA][0-9]*'\n",
    "#this pattern says any word which starts with n or m or A and can contain only digits after that.\n",
    "\n",
    "list_of_strings = ['applnmAe67sdfght','m786','ABACUS','43','$%','M','s','nilesh b','786','mango10','onion','Eagle','&bharat@smjha.com']\n",
    "\n",
    "for word in list_of_strings:\n",
    "    print(re.findall(regx,word))"
   ]
  },
  {
   "cell_type": "code",
   "execution_count": 80,
   "metadata": {},
   "outputs": [
    {
     "name": "stdout",
     "output_type": "stream",
     "text": [
      "[]\n",
      "['m']\n",
      "['A']\n",
      "[]\n",
      "[]\n",
      "[]\n",
      "[]\n",
      "['nilesh']\n",
      "[]\n",
      "['mango']\n",
      "[]\n",
      "[]\n",
      "[]\n"
     ]
    }
   ],
   "source": [
    "# ^ => start of string\n",
    "\n",
    "regx = '^[nmA][a-z]*'\n",
    "#this pattern says any word which starts with n or m or A and can contain only digits after that.\n",
    "\n",
    "list_of_strings = ['applnmAe67sdfght','m786','ABACUS','43','$%','M','s','nilesh b','786','mango10','onion','Eagle','&bharat@smjha.com']\n",
    "\n",
    "for word in list_of_strings:\n",
    "    print(re.findall(regx,word))"
   ]
  },
  {
   "cell_type": "code",
   "execution_count": 84,
   "metadata": {},
   "outputs": [
    {
     "name": "stdout",
     "output_type": "stream",
     "text": [
      "[]\n",
      "['Bulandshahr']\n",
      "[]\n",
      "[]\n",
      "[]\n",
      "[]\n",
      "[]\n",
      "[]\n",
      "['nilesh']\n",
      "[]\n",
      "['mango']\n",
      "[]\n",
      "[]\n",
      "[]\n"
     ]
    }
   ],
   "source": [
    "# ^ => start of string\n",
    "\n",
    "regx = '^[nmAB][a-z]+'\n",
    "#this pattern says any word which starts with n or m or A or B and should contain atleast one small alphabet.\n",
    "\n",
    "list_of_strings = ['applnmAe67sdfght','Bulandshahr','m786','ABACUS','43','$%','M','s','nilesh b','786','mango10','onion','Eagle','&bharat@smjha.com']\n",
    "\n",
    "for word in list_of_strings:\n",
    "    print(re.findall(regx,word))"
   ]
  },
  {
   "cell_type": "code",
   "execution_count": null,
   "metadata": {},
   "outputs": [],
   "source": []
  }
 ],
 "metadata": {
  "kernelspec": {
   "display_name": "Python 3",
   "language": "python",
   "name": "python3"
  },
  "language_info": {
   "codemirror_mode": {
    "name": "ipython",
    "version": 3
   },
   "file_extension": ".py",
   "mimetype": "text/x-python",
   "name": "python",
   "nbconvert_exporter": "python",
   "pygments_lexer": "ipython3",
   "version": "3.8.3"
  }
 },
 "nbformat": 4,
 "nbformat_minor": 4
}
