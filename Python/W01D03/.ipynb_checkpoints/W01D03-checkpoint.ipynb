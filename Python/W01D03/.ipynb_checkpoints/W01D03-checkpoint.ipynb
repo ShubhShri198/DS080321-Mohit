{
 "cells": [
  {
   "cell_type": "code",
   "execution_count": null,
   "metadata": {},
   "outputs": [],
   "source": [
    "Jupyter Notebook is used to Write Python, Write text related , do a lot of other things.\n",
    "\n",
    "They are considered like a Notebook to re-read or understand at a later point of time\n",
    "\n",
    "In Data Science we use it to showcase our findings"
   ]
  },
  {
   "cell_type": "code",
   "execution_count": null,
   "metadata": {},
   "outputs": [],
   "source": [
    "Cell => Single Rectangular Box in which you write code/text\n",
    "\n",
    "Outline Color of a cell\n",
    "Green => Type code/text(markdown)\n",
    "Blue => CMD MODE (You can not type code or text...)\n",
    "\n",
    "\n",
    "how do you get into a cmd mode?\n",
    "By Pressing ESC\n",
    "\n",
    "CMD mode can be used to:\n",
    "1) Delete a cell by going into cmd mode and pressing dd. (d twice)\n",
    "2) Converting the cell into markdown by going into cmd mode and pressing m.\n",
    "\n",
    "How to get back from cmd mode to type/text mode?\n",
    "by clicking the cell.\n",
    "\n",
    "\n",
    "## How to Execute a cell?\n",
    "\n",
    "SHIFT+ENTER => EXECUTE THE CELL AND INSERT A NEW CELL"
   ]
  },
  {
   "cell_type": "markdown",
   "metadata": {},
   "source": [
    "# Happy Heading\n",
    "\n",
    "## Heading 2\n",
    "\n",
    "### Heading 3\n",
    "\n",
    "#### Heading 4"
   ]
  },
  {
   "cell_type": "code",
   "execution_count": 8,
   "metadata": {},
   "outputs": [
    {
     "name": "stdout",
     "output_type": "stream",
     "text": [
      "happy coding\n"
     ]
    }
   ],
   "source": [
    "print('happy coding')"
   ]
  },
  {
   "cell_type": "code",
   "execution_count": null,
   "metadata": {},
   "outputs": [],
   "source": [
    "wHAT IS MARKDOWN??\n",
    "WHEN YOU ENTER INTO A CELL AND MAKE IT MARKDOWN. yOU DO IT SO THAT YOU CAN WRITE NOTES.\n",
    "\n",
    "tHE Cell will no longer be coding cell but it will become personalized text box similar to html\n",
    "\n",
    "-> This is used to Write beautifull Notes.\n",
    "\n",
    "I can insert links, text , bold text, images, and a lot of other things\n",
    "\n",
    "Markdown cell does not contain the In[] etc thing."
   ]
  },
  {
   "cell_type": "code",
   "execution_count": 5,
   "metadata": {},
   "outputs": [
    {
     "name": "stdout",
     "output_type": "stream",
     "text": [
      "happy starting\n"
     ]
    }
   ],
   "source": [
    "print('happy starting')"
   ]
  },
  {
   "cell_type": "code",
   "execution_count": 7,
   "metadata": {},
   "outputs": [
    {
     "name": "stdout",
     "output_type": "stream",
     "text": [
      "happy ending\n"
     ]
    }
   ],
   "source": [
    "print('happy ending')"
   ]
  },
  {
   "cell_type": "code",
   "execution_count": null,
   "metadata": {},
   "outputs": [],
   "source": [
    "What is Data?\n",
    "\n",
    "Collection of Information\n",
    "For example:\n",
    "    My phone no\n",
    "    your roll no\n",
    "    Your name,city,etc\n",
    "    Your shopping list\n",
    "    Your mutual friends on facebook with me \n",
    "    Your followers on Instagram is a data\n",
    "    Your image is a data\n",
    "    Your dp on whatsapp is a data.\n",
    "    Session Recording which get generated after the session is a data."
   ]
  },
  {
   "cell_type": "code",
   "execution_count": null,
   "metadata": {},
   "outputs": [],
   "source": [
    "We need to store data?\n",
    "\n",
    "We need data types for storing data in a Programming Language.\n",
    "\n",
    "-> Data Types helps us store data efficiently.\n",
    "\n",
    "-> Different sorts of data, so we need different sorrts of data types for storing them.\n",
    "\n",
    "One could be stored better in one data type , and other could be in another one."
   ]
  },
  {
   "cell_type": "code",
   "execution_count": null,
   "metadata": {},
   "outputs": [],
   "source": [
    "Data Types in Python\n",
    "\n",
    "1) int => Integers (-100,-10,0,1,2,3,4)\n",
    "2) float => Decimal Numbers (-10.4,3.14,7.55,-111.555)\n",
    "\n",
    "Numbers (int and float)\n",
    "\n",
    "3) str (String) \"Python\", 'Java', \"\"\"A string in triple quotes\"\"\" , \"I'm Mohit\"\n",
    "\n",
    "4) list [10,20,'Python','Java',-111.555] : mutable(edited)\n",
    "\n",
    "5) tuple (10,20,'Python','Java',-111.555) : immutable(can not be edited)\n",
    "    \n",
    "6) dict (Dictionary) {'Python':3,'Java':8,'WEEK':1} {'key':'value'}\n",
    "\n",
    "7) set {10,20,'Python','Java','something else',-432.54} Special: Does not contain duplicates. {10,10}\n",
    "    \n",
    "8) bool True, False\n",
    "\n",
    "9) None"
   ]
  },
  {
   "cell_type": "code",
   "execution_count": 48,
   "metadata": {},
   "outputs": [
    {
     "name": "stdout",
     "output_type": "stream",
     "text": [
      "[10, 20000, 'Python', 'Java', -111.555]\n"
     ]
    }
   ],
   "source": [
    "newList = [10,20,'Python','Java',-111.555]\n",
    "\n",
    "## Indexing , Accessing elements at their position directly\n",
    "\n",
    "## How do we do indexing in python? nameOfList[index no.]\n",
    "\n",
    "# print(newList[5])\n",
    "\n",
    "## In list we can assign a new value also\n",
    "\n",
    "newList[1] = 20000\n",
    "\n",
    "print(newList)"
   ]
  },
  {
   "cell_type": "code",
   "execution_count": 50,
   "metadata": {},
   "outputs": [
    {
     "name": "stdout",
     "output_type": "stream",
     "text": [
      "<class 'tuple'>\n"
     ]
    },
    {
     "ename": "TypeError",
     "evalue": "'tuple' object does not support item assignment",
     "output_type": "error",
     "traceback": [
      "\u001b[1;31m---------------------------------------------------------------------------\u001b[0m",
      "\u001b[1;31mTypeError\u001b[0m                                 Traceback (most recent call last)",
      "\u001b[1;32m<ipython-input-50-92f94f614b5f>\u001b[0m in \u001b[0;36m<module>\u001b[1;34m\u001b[0m\n\u001b[0;32m      3\u001b[0m \u001b[0mprint\u001b[0m\u001b[1;33m(\u001b[0m\u001b[0mtype\u001b[0m\u001b[1;33m(\u001b[0m\u001b[0mnewList\u001b[0m\u001b[1;33m)\u001b[0m\u001b[1;33m)\u001b[0m\u001b[1;33m\u001b[0m\u001b[1;33m\u001b[0m\u001b[0m\n\u001b[0;32m      4\u001b[0m \u001b[1;33m\u001b[0m\u001b[0m\n\u001b[1;32m----> 5\u001b[1;33m \u001b[0mnewList\u001b[0m\u001b[1;33m[\u001b[0m\u001b[1;36m1\u001b[0m\u001b[1;33m]\u001b[0m \u001b[1;33m=\u001b[0m \u001b[1;36m20000\u001b[0m\u001b[1;33m\u001b[0m\u001b[1;33m\u001b[0m\u001b[0m\n\u001b[0m",
      "\u001b[1;31mTypeError\u001b[0m: 'tuple' object does not support item assignment"
     ]
    }
   ],
   "source": [
    "newList = (10,20,'Python','Java',-111.555)\n",
    "\n",
    "print(type(newList))\n",
    "\n",
    "newList[1] = 20000"
   ]
  },
  {
   "cell_type": "code",
   "execution_count": null,
   "metadata": {},
   "outputs": [],
   "source": []
  },
  {
   "cell_type": "code",
   "execution_count": 42,
   "metadata": {},
   "outputs": [
    {
     "name": "stdout",
     "output_type": "stream",
     "text": [
      "<class 'complex'>\n",
      "<class 'int'>\n",
      "<class 'NoneType'>\n"
     ]
    }
   ],
   "source": [
    "x = complex(4,5)\n",
    "\n",
    "print(type(x))\n",
    "\n",
    "x = 45\n",
    "\n",
    "print(type(x))\n",
    "\n",
    "x = None\n",
    "\n",
    "print(type(x))"
   ]
  },
  {
   "cell_type": "code",
   "execution_count": 39,
   "metadata": {},
   "outputs": [
    {
     "name": "stdout",
     "output_type": "stream",
     "text": [
      "(4+5j)\n"
     ]
    }
   ],
   "source": [
    "print(x)"
   ]
  },
  {
   "cell_type": "code",
   "execution_count": 34,
   "metadata": {},
   "outputs": [
    {
     "name": "stdout",
     "output_type": "stream",
     "text": [
      "3\n",
      "8\n"
     ]
    }
   ],
   "source": [
    "## how to access a value corresponding to a key in a dict.\n",
    "\n",
    "xDict = {'python':3,'java':8}\n",
    "\n",
    "# SYNTAX: xDict['key'] ==> 'value'\n",
    "\n",
    "print(xDict['python'])\n",
    "\n",
    "print(xDict['java'])"
   ]
  },
  {
   "cell_type": "code",
   "execution_count": 35,
   "metadata": {},
   "outputs": [
    {
     "name": "stdout",
     "output_type": "stream",
     "text": [
      "{'python': 2, 'java': 8}\n"
     ]
    }
   ],
   "source": [
    "xDict = {'python':3,'java':8}\n",
    "\n",
    "xDict['python'] = 2\n",
    "\n",
    "print(xDict)"
   ]
  },
  {
   "cell_type": "code",
   "execution_count": null,
   "metadata": {},
   "outputs": [],
   "source": [
    "## Special Things about keys in dict and sets:\n",
    "1) keys are unique.\n",
    "2) keys are immutable.\n",
    "\n",
    "What data types are immutable(not edited)\n",
    "1) tuples\n",
    "2) str\n",
    "3)int,float,bool,None\n",
    "\n",
    "What are mutable ones(they can be edited)\n",
    "1) list\n",
    "2) set\n",
    "3) dict"
   ]
  },
  {
   "cell_type": "code",
   "execution_count": 36,
   "metadata": {},
   "outputs": [
    {
     "name": "stdout",
     "output_type": "stream",
     "text": [
      "<class 'list'>\n",
      "['The word', 10, 45.45, [1, 2, 3], (2, 4), {'python': 3, 'java': 8}, {1, 2, 3}]\n",
      "['A big word', 10, 45.45, [1, 2, 3], (2, 4), {'python': 3, 'java': 8}, {1, 2, 3}]\n",
      "['A big word', 10, 45.45, [1, 2, 3], (2, 4), {'python': 2, 'java': 8}, {1, 2, 3}]\n"
     ]
    }
   ],
   "source": [
    "xList = ['The word',10,45.45,[1,2,3],(2,4),{'python':3,'java':8},{1,1,1,2,2,3}]\n",
    "\n",
    "print(type(xList))\n",
    "print(xList)\n",
    "\n",
    "xList[0] = 'A big word' ## Assigning an item\n",
    "\n",
    "print(xList)\n",
    "\n",
    "xList[5]['python'] = 2\n",
    "\n",
    "print(xList)"
   ]
  },
  {
   "cell_type": "code",
   "execution_count": null,
   "metadata": {},
   "outputs": [],
   "source": []
  },
  {
   "cell_type": "code",
   "execution_count": 29,
   "metadata": {},
   "outputs": [
    {
     "name": "stdout",
     "output_type": "stream",
     "text": [
      "<class 'tuple'>\n",
      "('The word', 10, 45.45, [1, 2, 3], (2, 4), {'python': 3, 'java': 8}, {1, 2, 3})\n"
     ]
    },
    {
     "ename": "TypeError",
     "evalue": "'tuple' object does not support item assignment",
     "output_type": "error",
     "traceback": [
      "\u001b[1;31m---------------------------------------------------------------------------\u001b[0m",
      "\u001b[1;31mTypeError\u001b[0m                                 Traceback (most recent call last)",
      "\u001b[1;32m<ipython-input-29-83719f9362d8>\u001b[0m in \u001b[0;36m<module>\u001b[1;34m\u001b[0m\n\u001b[0;32m      5\u001b[0m \u001b[0mprint\u001b[0m\u001b[1;33m(\u001b[0m\u001b[0mxList\u001b[0m\u001b[1;33m)\u001b[0m\u001b[1;33m\u001b[0m\u001b[1;33m\u001b[0m\u001b[0m\n\u001b[0;32m      6\u001b[0m \u001b[1;33m\u001b[0m\u001b[0m\n\u001b[1;32m----> 7\u001b[1;33m \u001b[0mxList\u001b[0m\u001b[1;33m[\u001b[0m\u001b[1;36m0\u001b[0m\u001b[1;33m]\u001b[0m \u001b[1;33m=\u001b[0m \u001b[1;34m'A big word'\u001b[0m\u001b[1;33m\u001b[0m\u001b[1;33m\u001b[0m\u001b[0m\n\u001b[0m\u001b[0;32m      8\u001b[0m \u001b[1;33m\u001b[0m\u001b[0m\n\u001b[0;32m      9\u001b[0m \u001b[0mprint\u001b[0m\u001b[1;33m(\u001b[0m\u001b[0mxList\u001b[0m\u001b[1;33m)\u001b[0m\u001b[1;33m\u001b[0m\u001b[1;33m\u001b[0m\u001b[0m\n",
      "\u001b[1;31mTypeError\u001b[0m: 'tuple' object does not support item assignment"
     ]
    }
   ],
   "source": [
    "xList = ('The word',10,45.45,[1,2,3],(2,4),{'python':3,'java':8},{1,1,1,2,2,3})\n",
    "\n",
    "print(type(xList))\n",
    "\n",
    "print(xList)\n",
    "\n",
    "xList[0] = 'A big word'\n",
    "\n",
    "print(xList)"
   ]
  },
  {
   "cell_type": "code",
   "execution_count": 13,
   "metadata": {},
   "outputs": [],
   "source": [
    "num1 = 100.8"
   ]
  },
  {
   "cell_type": "code",
   "execution_count": 14,
   "metadata": {},
   "outputs": [
    {
     "data": {
      "text/plain": [
       "float"
      ]
     },
     "execution_count": 14,
     "metadata": {},
     "output_type": "execute_result"
    }
   ],
   "source": [
    "type(num1)"
   ]
  },
  {
   "cell_type": "code",
   "execution_count": 9,
   "metadata": {},
   "outputs": [],
   "source": [
    "x = {10,10}"
   ]
  },
  {
   "cell_type": "code",
   "execution_count": 10,
   "metadata": {},
   "outputs": [
    {
     "name": "stdout",
     "output_type": "stream",
     "text": [
      "{10}\n"
     ]
    }
   ],
   "source": [
    "print(x)"
   ]
  },
  {
   "cell_type": "code",
   "execution_count": 15,
   "metadata": {},
   "outputs": [
    {
     "data": {
      "text/plain": [
       "set"
      ]
     },
     "execution_count": 15,
     "metadata": {},
     "output_type": "execute_result"
    }
   ],
   "source": [
    "type(x)"
   ]
  },
  {
   "cell_type": "code",
   "execution_count": 16,
   "metadata": {},
   "outputs": [],
   "source": [
    "y = {'key1':'value1','key2':'value2'}"
   ]
  },
  {
   "cell_type": "code",
   "execution_count": 17,
   "metadata": {},
   "outputs": [
    {
     "data": {
      "text/plain": [
       "dict"
      ]
     },
     "execution_count": 17,
     "metadata": {},
     "output_type": "execute_result"
    }
   ],
   "source": [
    "type(y)"
   ]
  },
  {
   "cell_type": "code",
   "execution_count": 18,
   "metadata": {},
   "outputs": [
    {
     "name": "stdout",
     "output_type": "stream",
     "text": [
      "250\n"
     ]
    }
   ],
   "source": [
    "num1 = 100\n",
    "num2 = 150\n",
    "\n",
    "num3 = num1 + num2\n",
    "\n",
    "print(num3)"
   ]
  },
  {
   "cell_type": "code",
   "execution_count": 19,
   "metadata": {},
   "outputs": [],
   "source": [
    "numbers = {'sriramVenkatesh':[14,3.14]}"
   ]
  },
  {
   "cell_type": "code",
   "execution_count": 20,
   "metadata": {},
   "outputs": [
    {
     "name": "stdout",
     "output_type": "stream",
     "text": [
      "{'sriramVenkatesh': [14, 3.14]}\n"
     ]
    }
   ],
   "source": [
    "print(numbers)"
   ]
  },
  {
   "cell_type": "code",
   "execution_count": 21,
   "metadata": {},
   "outputs": [],
   "source": [
    "numbers = {2:4,6:12}"
   ]
  },
  {
   "cell_type": "code",
   "execution_count": 22,
   "metadata": {},
   "outputs": [
    {
     "name": "stdout",
     "output_type": "stream",
     "text": [
      "{2: 4, 6: 12}\n"
     ]
    }
   ],
   "source": [
    "print(numbers)"
   ]
  },
  {
   "cell_type": "code",
   "execution_count": 26,
   "metadata": {},
   "outputs": [
    {
     "data": {
      "text/plain": [
       "str"
      ]
     },
     "execution_count": 26,
     "metadata": {},
     "output_type": "execute_result"
    }
   ],
   "source": [
    "sentence = 'The quick brown fox jumps over a lazy dog'\n",
    "\n",
    "type(sentence)"
   ]
  },
  {
   "cell_type": "code",
   "execution_count": 24,
   "metadata": {},
   "outputs": [],
   "source": [
    "set_of_numbers = {1,2,3,4,5,5,5,5,5,5,5,5,5,5,6,6,6,6,6,6}"
   ]
  },
  {
   "cell_type": "code",
   "execution_count": 25,
   "metadata": {},
   "outputs": [
    {
     "name": "stdout",
     "output_type": "stream",
     "text": [
      "{1, 2, 3, 4, 5, 6}\n"
     ]
    }
   ],
   "source": [
    "print(set_of_numbers)"
   ]
  },
  {
   "cell_type": "code",
   "execution_count": null,
   "metadata": {},
   "outputs": [],
   "source": []
  }
 ],
 "metadata": {
  "kernelspec": {
   "display_name": "Python 3",
   "language": "python",
   "name": "python3"
  },
  "language_info": {
   "codemirror_mode": {
    "name": "ipython",
    "version": 3
   },
   "file_extension": ".py",
   "mimetype": "text/x-python",
   "name": "python",
   "nbconvert_exporter": "python",
   "pygments_lexer": "ipython3",
   "version": "3.8.3"
  }
 },
 "nbformat": 4,
 "nbformat_minor": 4
}
