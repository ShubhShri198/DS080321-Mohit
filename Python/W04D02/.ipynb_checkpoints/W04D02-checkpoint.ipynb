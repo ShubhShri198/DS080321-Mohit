{
 "cells": [
  {
   "cell_type": "code",
   "execution_count": null,
   "metadata": {},
   "outputs": [],
   "source": [
    "Lists:\n",
    "    builtins:\n",
    "        append? adds at the end of the list\n",
    "        del ? deltes the referece as well as the object\n",
    "        remove() it takes element to be removed\n",
    "        extend() extends the list with another list\n",
    "        insert() insert an element at a particular index\n",
    "        count() counts the element int the list\n",
    "        index() tell the index position of the element\n",
    "        \n",
    "slicing?\n",
    "x = ['apple','mango','kiwi']\n",
    "\n",
    "x[1:]"
   ]
  },
  {
   "cell_type": "code",
   "execution_count": 1,
   "metadata": {},
   "outputs": [
    {
     "data": {
      "text/plain": [
       "['mango', 'kiwi']"
      ]
     },
     "execution_count": 1,
     "metadata": {},
     "output_type": "execute_result"
    }
   ],
   "source": [
    "x = ['apple','mango','kiwi']\n",
    "\n",
    "x[1:]"
   ]
  },
  {
   "cell_type": "code",
   "execution_count": null,
   "metadata": {},
   "outputs": [],
   "source": [
    "Are list mutable?\n",
    "YES"
   ]
  },
  {
   "cell_type": "code",
   "execution_count": null,
   "metadata": {},
   "outputs": [],
   "source": [
    "Are tuple Immutable?\n",
    "YES"
   ]
  },
  {
   "cell_type": "code",
   "execution_count": null,
   "metadata": {},
   "outputs": [],
   "source": [
    "Can we update an element of a tuple?\n",
    "NO"
   ]
  },
  {
   "cell_type": "markdown",
   "metadata": {},
   "source": [
    "## DICT"
   ]
  },
  {
   "cell_type": "code",
   "execution_count": null,
   "metadata": {},
   "outputs": [],
   "source": [
    "-> mutable\n",
    "-> unordered: do not support indexing and slicing. (from Python 3.5+ dict are insertion ordered.)\n",
    "-> 2 most imp things about keys:\n",
    "    1) keys are unique\n",
    "    2) keys are immutable\n",
    "    \n",
    "{key:value,key2:value2}"
   ]
  },
  {
   "cell_type": "code",
   "execution_count": 2,
   "metadata": {},
   "outputs": [],
   "source": [
    "# How do you insert an key value pair in a dict?\n",
    "\n",
    "test_dict = {}\n",
    "\n",
    "test_dict['python'] = 3"
   ]
  },
  {
   "cell_type": "code",
   "execution_count": 3,
   "metadata": {},
   "outputs": [
    {
     "name": "stdout",
     "output_type": "stream",
     "text": [
      "{'python': 3}\n"
     ]
    }
   ],
   "source": [
    "print(test_dict)"
   ]
  },
  {
   "cell_type": "code",
   "execution_count": 4,
   "metadata": {},
   "outputs": [],
   "source": [
    "test_dict['java'] = 8"
   ]
  },
  {
   "cell_type": "code",
   "execution_count": 5,
   "metadata": {},
   "outputs": [
    {
     "name": "stdout",
     "output_type": "stream",
     "text": [
      "{'python': 3, 'java': 8}\n"
     ]
    }
   ],
   "source": [
    "print(test_dict)"
   ]
  },
  {
   "cell_type": "markdown",
   "metadata": {},
   "source": [
    "## Q1) Store Alphabets as \"keys\" and their ASCII values as \"values\" to those keys.\n",
    "\n",
    "### Intuition: Use \"ord\" and \"chr\"\n",
    "\n",
    "### Pseudocode:\n",
    "    1.) Loop from a to z.\n",
    "    2.) store them as keys and find their ascii to store them as values."
   ]
  },
  {
   "cell_type": "code",
   "execution_count": null,
   "metadata": {},
   "outputs": [],
   "source": [
    "# 19:46\n",
    "{'a':97,'b':98....}"
   ]
  },
  {
   "cell_type": "code",
   "execution_count": 6,
   "metadata": {},
   "outputs": [
    {
     "data": {
      "text/plain": [
       "97"
      ]
     },
     "execution_count": 6,
     "metadata": {},
     "output_type": "execute_result"
    }
   ],
   "source": [
    "ord('a')"
   ]
  },
  {
   "cell_type": "code",
   "execution_count": 7,
   "metadata": {},
   "outputs": [
    {
     "data": {
      "text/plain": [
       "122"
      ]
     },
     "execution_count": 7,
     "metadata": {},
     "output_type": "execute_result"
    }
   ],
   "source": [
    "ord('z')"
   ]
  },
  {
   "cell_type": "code",
   "execution_count": 12,
   "metadata": {},
   "outputs": [
    {
     "name": "stdout",
     "output_type": "stream",
     "text": [
      "{'a': 97}\n"
     ]
    }
   ],
   "source": [
    "chr(97)\n",
    "d = {}\n",
    "d[chr(97)] = 97\n",
    "print(d)"
   ]
  },
  {
   "cell_type": "code",
   "execution_count": 10,
   "metadata": {},
   "outputs": [
    {
     "name": "stdout",
     "output_type": "stream",
     "text": [
      "{'a': 97, 'b': 98, 'c': 99, 'd': 100, 'e': 101, 'f': 102, 'g': 103, 'h': 104, 'i': 105, 'j': 106, 'k': 107, 'l': 108, 'm': 109, 'n': 110, 'o': 111, 'p': 112, 'q': 113, 'r': 114, 's': 115, 't': 116, 'u': 117, 'v': 118, 'w': 119, 'x': 120, 'y': 121, 'z': 122}\n"
     ]
    }
   ],
   "source": [
    "d = {}\n",
    "for ascii_value in range(ord('a'),ord('z')+1):\n",
    "    d[chr(ascii_value)] = ascii_value\n",
    "print(d)"
   ]
  },
  {
   "cell_type": "markdown",
   "metadata": {},
   "source": [
    "## get"
   ]
  },
  {
   "cell_type": "code",
   "execution_count": 13,
   "metadata": {},
   "outputs": [
    {
     "name": "stdout",
     "output_type": "stream",
     "text": [
      "3\n"
     ]
    }
   ],
   "source": [
    "d = {'python':3,'java':8,'django':2,'roll_noList':[1,2,3,4]}\n",
    "\n",
    "print(d.get('python'))"
   ]
  },
  {
   "cell_type": "code",
   "execution_count": 15,
   "metadata": {},
   "outputs": [
    {
     "data": {
      "text/plain": [
       "'did not found what you were looking for'"
      ]
     },
     "execution_count": 15,
     "metadata": {},
     "output_type": "execute_result"
    }
   ],
   "source": [
    "d.get('c++','did not found what you were looking for')"
   ]
  },
  {
   "cell_type": "code",
   "execution_count": 16,
   "metadata": {},
   "outputs": [
    {
     "data": {
      "text/plain": [
       "3"
      ]
     },
     "execution_count": 16,
     "metadata": {},
     "output_type": "execute_result"
    }
   ],
   "source": [
    "d.get('python','did not found what you were looking for')"
   ]
  },
  {
   "cell_type": "code",
   "execution_count": 17,
   "metadata": {},
   "outputs": [
    {
     "data": {
      "text/plain": [
       "8"
      ]
     },
     "execution_count": 17,
     "metadata": {},
     "output_type": "execute_result"
    }
   ],
   "source": [
    "d.get('java','did not found what you were looking for')"
   ]
  },
  {
   "cell_type": "code",
   "execution_count": 18,
   "metadata": {},
   "outputs": [
    {
     "data": {
      "text/plain": [
       "[1, 2, 3, 4]"
      ]
     },
     "execution_count": 18,
     "metadata": {},
     "output_type": "execute_result"
    }
   ],
   "source": [
    "d.get('roll_noList','did not found what you were looking for')"
   ]
  },
  {
   "cell_type": "code",
   "execution_count": 19,
   "metadata": {},
   "outputs": [
    {
     "data": {
      "text/plain": [
       "'did not found what you were looking for'"
      ]
     },
     "execution_count": 19,
     "metadata": {},
     "output_type": "execute_result"
    }
   ],
   "source": [
    "d.get('ananya','did not found what you were looking for')"
   ]
  },
  {
   "cell_type": "code",
   "execution_count": null,
   "metadata": {},
   "outputs": [],
   "source": [
    "## get\n",
    "if key exist: returns the value\n",
    "else: returns none or specified return value"
   ]
  },
  {
   "cell_type": "markdown",
   "metadata": {},
   "source": [
    "## setdefault"
   ]
  },
  {
   "cell_type": "code",
   "execution_count": null,
   "metadata": {},
   "outputs": [],
   "source": [
    "d = {'python':3,'java':8,'django':2,'roll_noList':[1,2,3,4]}"
   ]
  },
  {
   "cell_type": "code",
   "execution_count": 20,
   "metadata": {},
   "outputs": [
    {
     "name": "stdout",
     "output_type": "stream",
     "text": [
      "{'python': 3, 'java': 8, 'django': 2, 'roll_noList': [1, 2, 3, 4], 'maggi': 48}\n"
     ]
    }
   ],
   "source": [
    "d.setdefault('maggi',48)\n",
    "print(d)"
   ]
  },
  {
   "cell_type": "code",
   "execution_count": 22,
   "metadata": {},
   "outputs": [
    {
     "name": "stdout",
     "output_type": "stream",
     "text": [
      "3\n",
      "{'python': 3, 'java': 8, 'django': 2, 'roll_noList': [1, 2, 3, 4], 'maggi': 48}\n"
     ]
    }
   ],
   "source": [
    "x = d.setdefault('python',48)\n",
    "print(x)\n",
    "print(d)"
   ]
  },
  {
   "cell_type": "code",
   "execution_count": null,
   "metadata": {},
   "outputs": [],
   "source": [
    "# setdefault:\n",
    "if key exists: returns the value\n",
    "else:\n",
    "    Add to the dict and set the specified value."
   ]
  },
  {
   "cell_type": "code",
   "execution_count": 26,
   "metadata": {},
   "outputs": [
    {
     "name": "stdout",
     "output_type": "stream",
     "text": [
      "{'a': 1000, 'm': 5000, 'p': 786, 'b': 98, 'c': 99, 'd': 100, 'e': 101, 'f': 102, 'g': 103, 'h': 104, 'i': 105, 'j': 106, 'k': 107, 'l': 108, 'n': 110, 'o': 111, 'q': 113, 'r': 114, 's': 115, 't': 116, 'u': 117, 'v': 118, 'w': 119, 'x': 120, 'y': 121, 'z': 122}\n"
     ]
    }
   ],
   "source": [
    "## We have a dict, with few alphabets and some nos corresponding to them.\n",
    "## OBJECTIVE: We have to add alphabets which are not present in the dict already, with their ascii values.\n",
    "\n",
    "d = {'a':1000,'m':5000,'p':786}\n",
    "for ascii_value in range(ord('a'),ord('z')+1):\n",
    "    d.setdefault(chr(ascii_value),ascii_value)\n",
    "print(d)"
   ]
  },
  {
   "cell_type": "code",
   "execution_count": 27,
   "metadata": {},
   "outputs": [
    {
     "name": "stdout",
     "output_type": "stream",
     "text": [
      "yes\n"
     ]
    }
   ],
   "source": [
    "## membership \"in\"\n",
    "d = {'python':3,'java':8,'django':2,'roll_noList':[1,2,3,4]}\n",
    "\n",
    "if 'python' in d:\n",
    "    print('yes')"
   ]
  },
  {
   "cell_type": "code",
   "execution_count": 28,
   "metadata": {},
   "outputs": [
    {
     "name": "stdout",
     "output_type": "stream",
     "text": [
      "no\n"
     ]
    }
   ],
   "source": [
    "if 3 in d:\n",
    "    print('yes')\n",
    "else:\n",
    "    print('no')"
   ]
  },
  {
   "cell_type": "markdown",
   "metadata": {},
   "source": [
    "## Q2) Count the number of occurrence of each letter in word \"apple\". Store count of every letter with the letter in a dictionary.\n",
    "\n",
    "### Intuition: Use in operator to check if it already exist.\n",
    "\n",
    "### Pseudocode:\n",
    "    1.)loop over all the chars in \"apple\".\n",
    "    2.)if char already exist, increase it's count, else give it count = 1"
   ]
  },
  {
   "cell_type": "code",
   "execution_count": 46,
   "metadata": {},
   "outputs": [
    {
     "name": "stdout",
     "output_type": "stream",
     "text": [
      "{'a': 1}\n",
      "{'a': 1, 'p': 1}\n",
      "{'a': 1, 'p': 2}\n",
      "{'a': 1, 'p': 3}\n",
      "{'a': 1, 'p': 4}\n",
      "{'a': 1, 'p': 5}\n",
      "{'a': 1, 'p': 6}\n",
      "{'a': 1, 'p': 7}\n",
      "{'a': 1, 'p': 8}\n",
      "{'a': 1, 'p': 9}\n",
      "{'a': 1, 'p': 10}\n",
      "{'a': 1, 'p': 11}\n",
      "{'a': 1, 'p': 12}\n",
      "{'a': 1, 'p': 13}\n",
      "{'a': 1, 'p': 14}\n",
      "{'a': 1, 'p': 15}\n",
      "{'a': 1, 'p': 16}\n",
      "{'a': 1, 'p': 17}\n",
      "{'a': 1, 'p': 18}\n",
      "{'a': 1, 'p': 19}\n",
      "{'a': 1, 'p': 20}\n",
      "{'a': 1, 'p': 21}\n",
      "{'a': 1, 'p': 22}\n",
      "{'a': 1, 'p': 23}\n",
      "{'a': 1, 'p': 23, 'l': 1}\n",
      "{'a': 1, 'p': 23, 'l': 2}\n",
      "{'a': 1, 'p': 23, 'l': 3}\n",
      "{'a': 1, 'p': 23, 'l': 4}\n",
      "{'a': 1, 'p': 23, 'l': 5}\n",
      "{'a': 1, 'p': 23, 'l': 6}\n",
      "{'a': 1, 'p': 23, 'l': 7}\n",
      "{'a': 1, 'p': 23, 'l': 8}\n",
      "{'a': 1, 'p': 23, 'l': 9}\n",
      "{'a': 1, 'p': 23, 'l': 10}\n",
      "{'a': 1, 'p': 23, 'l': 11}\n",
      "{'a': 1, 'p': 23, 'l': 12}\n",
      "{'a': 1, 'p': 23, 'l': 13}\n",
      "{'a': 1, 'p': 23, 'l': 14}\n",
      "{'a': 1, 'p': 23, 'l': 15}\n",
      "{'a': 1, 'p': 23, 'l': 16}\n",
      "{'a': 1, 'p': 23, 'l': 17}\n",
      "{'a': 1, 'p': 23, 'l': 17, 'e': 1}\n",
      "{'a': 1, 'p': 23, 'l': 17, 'e': 2}\n",
      "{'a': 1, 'p': 23, 'l': 17, 'e': 3}\n",
      "{'a': 1, 'p': 23, 'l': 17, 'e': 4}\n",
      "{'a': 1, 'p': 23, 'l': 17, 'e': 5}\n",
      "{'a': 1, 'p': 23, 'l': 17, 'e': 6}\n",
      "{'a': 1, 'p': 23, 'l': 17, 'e': 7}\n",
      "{'a': 1, 'p': 23, 'l': 17, 'e': 8}\n",
      "{'a': 1, 'p': 23, 'l': 17, 'e': 9}\n",
      "{'a': 1, 'p': 23, 'l': 17, 'e': 10}\n",
      "{'a': 1, 'p': 23, 'l': 17, 'e': 11}\n",
      "{'a': 1, 'p': 23, 'l': 17, 'e': 12}\n",
      "{'a': 1, 'p': 23, 'l': 17, 'e': 13}\n",
      "{'a': 1, 'p': 23, 'l': 17, 'e': 13, 'y': 1}\n",
      "{'a': 1, 'p': 23, 'l': 17, 'e': 13, 'y': 2}\n",
      "{'a': 1, 'p': 23, 'l': 17, 'e': 13, 'y': 3}\n",
      "{'a': 1, 'p': 23, 'l': 17, 'e': 13, 'y': 4}\n",
      "{'a': 1, 'p': 23, 'l': 17, 'e': 13, 'y': 5}\n",
      "{'a': 1, 'p': 23, 'l': 17, 'e': 13, 'y': 6}\n",
      "{'a': 1, 'p': 23, 'l': 17, 'e': 13, 'y': 7}\n",
      "{'a': 1, 'p': 23, 'l': 17, 'e': 13, 'y': 8}\n",
      "{'a': 1, 'p': 23, 'l': 17, 'e': 13, 'y': 9}\n",
      "{'a': 1, 'p': 23, 'l': 17, 'e': 13, 'y': 9, 'z': 1}\n",
      "{'a': 1, 'p': 23, 'l': 17, 'e': 13, 'y': 9, 'z': 2}\n",
      "{'a': 1, 'p': 23, 'l': 17, 'e': 13, 'y': 9, 'z': 3}\n",
      "{'a': 1, 'p': 23, 'l': 17, 'e': 13, 'y': 9, 'z': 4}\n",
      "{'a': 1, 'p': 23, 'l': 17, 'e': 13, 'y': 9, 'z': 5}\n",
      "{'a': 1, 'p': 23, 'l': 17, 'e': 13, 'y': 9, 'z': 6}\n",
      "{'a': 1, 'p': 23, 'l': 17, 'e': 13, 'y': 9, 'z': 7}\n",
      "{'a': 1, 'p': 23, 'l': 17, 'e': 13, 'y': 9, 'z': 8}\n",
      "{'a': 1, 'p': 23, 'l': 17, 'e': 13, 'y': 9, 'z': 9}\n",
      "{'a': 1, 'p': 23, 'l': 17, 'e': 13, 'y': 9, 'z': 10}\n",
      "{'a': 1, 'p': 23, 'l': 17, 'e': 13, 'y': 9, 'z': 11}\n",
      "{'a': 1, 'p': 23, 'l': 17, 'e': 13, 'y': 9, 'z': 12}\n",
      "{'a': 2, 'p': 23, 'l': 17, 'e': 13, 'y': 9, 'z': 12}\n",
      "{'a': 3, 'p': 23, 'l': 17, 'e': 13, 'y': 9, 'z': 12}\n",
      "{'a': 3, 'p': 23, 'l': 17, 'e': 13, 'y': 9, 'z': 12, ' ': 1}\n",
      "{'a': 3, 'p': 23, 'l': 17, 'e': 13, 'y': 9, 'z': 12, ' ': 2}\n",
      "{'a': 3, 'p': 23, 'l': 17, 'e': 13, 'y': 9, 'z': 12, ' ': 3}\n",
      "{'a': 3, 'p': 23, 'l': 17, 'e': 13, 'y': 9, 'z': 12, ' ': 4}\n",
      "{'a': 3, 'p': 23, 'l': 17, 'e': 13, 'y': 9, 'z': 12, ' ': 5}\n"
     ]
    }
   ],
   "source": [
    "# {'a':1,'p':2,'l':1,'e':1}\n",
    "\n",
    "d = {}\n",
    "\n",
    "for char in \"apppppppppppppppppppppppllllllllllllllllleeeeeeeeeeeeeyyyyyyyyyzzzzzzzzzzzzaa     \":\n",
    "    if char in d:\n",
    "        d[char] = d[char] + 1\n",
    "    else:\n",
    "        d[char] = 1\n",
    "    print(d)\n"
   ]
  },
  {
   "cell_type": "code",
   "execution_count": 45,
   "metadata": {},
   "outputs": [
    {
     "name": "stdout",
     "output_type": "stream",
     "text": [
      "{'python': 4, 'java': 8, 'django': 2, 'roll_noList': [1, 2, 3, 4]}\n"
     ]
    }
   ],
   "source": [
    "d = {'python':3,'java':8,'django':2,'roll_noList':[1,2,3,4]}\n",
    "\n",
    "d['python'] = d['python'] + 1\n",
    "print(d)\n",
    "# var = var + 1"
   ]
  },
  {
   "cell_type": "code",
   "execution_count": 36,
   "metadata": {},
   "outputs": [
    {
     "name": "stdout",
     "output_type": "stream",
     "text": [
      "dict_keys(['python', 'java', 'django', 'roll_noList'])\n"
     ]
    }
   ],
   "source": [
    "d = {'python':3,'java':8,'django':2,'roll_noList':[1,2,3,4]}\n",
    "\n",
    "print(d.keys())"
   ]
  },
  {
   "cell_type": "code",
   "execution_count": 37,
   "metadata": {},
   "outputs": [
    {
     "name": "stdout",
     "output_type": "stream",
     "text": [
      "dict_values([3, 8, 2, [1, 2, 3, 4]])\n"
     ]
    }
   ],
   "source": [
    "print(d.values())"
   ]
  },
  {
   "cell_type": "code",
   "execution_count": 38,
   "metadata": {},
   "outputs": [
    {
     "name": "stdout",
     "output_type": "stream",
     "text": [
      "dict_items([('python', 3), ('java', 8), ('django', 2), ('roll_noList', [1, 2, 3, 4])])\n"
     ]
    }
   ],
   "source": [
    "print(d.items())"
   ]
  },
  {
   "cell_type": "code",
   "execution_count": 39,
   "metadata": {},
   "outputs": [
    {
     "name": "stdout",
     "output_type": "stream",
     "text": [
      "The current key is python\n",
      "The current key is java\n",
      "The current key is django\n",
      "The current key is roll_noList\n"
     ]
    }
   ],
   "source": [
    "for key in d.keys():\n",
    "    print('The current key is',key)"
   ]
  },
  {
   "cell_type": "code",
   "execution_count": 42,
   "metadata": {},
   "outputs": [
    {
     "name": "stdout",
     "output_type": "stream",
     "text": [
      "The current key is python  its value is  3\n",
      "The current key is java  its value is  8\n",
      "The current key is django  its value is  2\n",
      "The current key is roll_noList  its value is  [1, 2, 3, 4]\n"
     ]
    }
   ],
   "source": [
    "for item in d.items():\n",
    "    print('The current key is',item[0],' its value is ',item[1])"
   ]
  },
  {
   "cell_type": "code",
   "execution_count": null,
   "metadata": {},
   "outputs": [],
   "source": [
    "deletion in dict:\n",
    "    pop => key, removes the key-value pair and return the value\n",
    "    popitem => 3.6 it removes the last added key value pair, returns the key value pair\n",
    "    clear => empty the dict, return None\n",
    "    del => del the ref,syntax error if try to acess somethings."
   ]
  },
  {
   "cell_type": "code",
   "execution_count": 47,
   "metadata": {},
   "outputs": [
    {
     "data": {
      "text/plain": [
       "3"
      ]
     },
     "execution_count": 47,
     "metadata": {},
     "output_type": "execute_result"
    }
   ],
   "source": [
    "d = {'python':3,'java':8,'django':2,'roll_noList':[1,2,3,4]}\n",
    "d.pop('python')"
   ]
  },
  {
   "cell_type": "code",
   "execution_count": 48,
   "metadata": {},
   "outputs": [
    {
     "data": {
      "text/plain": [
       "{'java': 8, 'django': 2, 'roll_noList': [1, 2, 3, 4]}"
      ]
     },
     "execution_count": 48,
     "metadata": {},
     "output_type": "execute_result"
    }
   ],
   "source": [
    "d"
   ]
  },
  {
   "cell_type": "code",
   "execution_count": 49,
   "metadata": {},
   "outputs": [
    {
     "data": {
      "text/plain": [
       "('roll_noList', [1, 2, 3, 4])"
      ]
     },
     "execution_count": 49,
     "metadata": {},
     "output_type": "execute_result"
    }
   ],
   "source": [
    "d = {'python':3,'java':8,'django':2,'roll_noList':[1,2,3,4]}\n",
    "d.popitem()"
   ]
  },
  {
   "cell_type": "code",
   "execution_count": 50,
   "metadata": {},
   "outputs": [
    {
     "data": {
      "text/plain": [
       "{'python': 3, 'java': 8, 'django': 2}"
      ]
     },
     "execution_count": 50,
     "metadata": {},
     "output_type": "execute_result"
    }
   ],
   "source": [
    "d"
   ]
  },
  {
   "cell_type": "code",
   "execution_count": 51,
   "metadata": {},
   "outputs": [
    {
     "name": "stdout",
     "output_type": "stream",
     "text": [
      "{}\n"
     ]
    }
   ],
   "source": [
    "d = {'python':3,'java':8,'django':2,'roll_noList':[1,2,3,4]}\n",
    "d.clear()\n",
    "print(d)"
   ]
  },
  {
   "cell_type": "code",
   "execution_count": 52,
   "metadata": {},
   "outputs": [],
   "source": [
    "d = {'python':3,'java':8,'django':2,'roll_noList':[1,2,3,4]}\n",
    "del d"
   ]
  },
  {
   "cell_type": "code",
   "execution_count": 56,
   "metadata": {},
   "outputs": [],
   "source": [
    "d = {'python':3,'java':8,'django':2,'roll_noList':[1,2,3,4]}\n",
    "del d['python']"
   ]
  },
  {
   "cell_type": "code",
   "execution_count": 57,
   "metadata": {},
   "outputs": [
    {
     "data": {
      "text/plain": [
       "{'java': 8, 'django': 2, 'roll_noList': [1, 2, 3, 4]}"
      ]
     },
     "execution_count": 57,
     "metadata": {},
     "output_type": "execute_result"
    }
   ],
   "source": [
    "d"
   ]
  },
  {
   "cell_type": "markdown",
   "metadata": {},
   "source": [
    "## sets"
   ]
  },
  {
   "cell_type": "code",
   "execution_count": null,
   "metadata": {},
   "outputs": [],
   "source": [
    "-> {23,34,45}\n",
    "-> MUTABLE: EDITABLE\n",
    "-> UNORDERED: DOES NOT SUPPORT INDEXING AND SLICING.\n",
    "-> 2 MOST IMP THINGS ABOUT SETS:\n",
    "    1) SET ELEMENTS ARE IMMUTABLE\n",
    "    2) SET ELEMENTS ARE UNIQUE"
   ]
  },
  {
   "cell_type": "code",
   "execution_count": 58,
   "metadata": {},
   "outputs": [
    {
     "name": "stdout",
     "output_type": "stream",
     "text": [
      "{2}\n"
     ]
    }
   ],
   "source": [
    "SET1 = {2,2,2,2,2,2,2,2}\n",
    "\n",
    "print(SET1)"
   ]
  },
  {
   "cell_type": "code",
   "execution_count": 59,
   "metadata": {},
   "outputs": [
    {
     "name": "stdout",
     "output_type": "stream",
     "text": [
      "{34, 67, 6, -90, 45, 345}\n"
     ]
    }
   ],
   "source": [
    "x = {34,345,45,6,67,-90}\n",
    "print(x)"
   ]
  },
  {
   "cell_type": "code",
   "execution_count": 63,
   "metadata": {},
   "outputs": [],
   "source": [
    "y = set(sorted(x))"
   ]
  },
  {
   "cell_type": "code",
   "execution_count": 64,
   "metadata": {},
   "outputs": [
    {
     "name": "stdout",
     "output_type": "stream",
     "text": [
      "{34, 67, -90, 6, 45, 345}\n"
     ]
    }
   ],
   "source": [
    "print(y)"
   ]
  },
  {
   "cell_type": "code",
   "execution_count": 71,
   "metadata": {},
   "outputs": [
    {
     "name": "stdout",
     "output_type": "stream",
     "text": [
      "{70, 40, 10, 80, 50, 20, 90, 60, 30}\n"
     ]
    }
   ],
   "source": [
    "# set operations:\n",
    "\n",
    "s1 = {10,20,30,40,50,60}\n",
    "s2 = {40,50,60,70,80,90}\n",
    "\n",
    "s3 = s1.union(s2)\n",
    "print(s3)"
   ]
  },
  {
   "cell_type": "code",
   "execution_count": 70,
   "metadata": {},
   "outputs": [
    {
     "name": "stdout",
     "output_type": "stream",
     "text": [
      "{40, 50, 60}\n"
     ]
    }
   ],
   "source": [
    "s1 = {10,20,30,40,50,60}\n",
    "s2 = {40,50,60,70,80,90}\n",
    "\n",
    "s3 = s1.intersection(s2)\n",
    "print(s3)"
   ]
  },
  {
   "cell_type": "code",
   "execution_count": 72,
   "metadata": {},
   "outputs": [
    {
     "name": "stdout",
     "output_type": "stream",
     "text": [
      "{10, 20, 30}\n",
      "{80, 90, 70}\n"
     ]
    }
   ],
   "source": [
    "s1 = {10,20,30,40,50,60}\n",
    "s2 = {40,50,60,70,80,90}\n",
    "\n",
    "s3 = s1.difference(s2) => s1 - s2\n",
    "print(s3)\n",
    "\n",
    "s4 = s2.difference(s1) => s2-s1\n",
    "print(s4)"
   ]
  },
  {
   "cell_type": "code",
   "execution_count": 73,
   "metadata": {},
   "outputs": [
    {
     "name": "stdout",
     "output_type": "stream",
     "text": [
      "{70, 10, 80, 20, 90, 30}\n"
     ]
    }
   ],
   "source": [
    "s1 = {10,20,30,40,50,60}\n",
    "s2 = {40,50,60,70,80,90}\n",
    "\n",
    "s3 = s1.symmetric_difference(s2) => s1.difference(s2) + s2.difference(s1) = (s1-s2) + (s2-s1)\n",
    "print(s3)\n",
    "\n",
    "# s4 = s2.difference(s1)\n",
    "# print(s4)"
   ]
  },
  {
   "cell_type": "code",
   "execution_count": 74,
   "metadata": {},
   "outputs": [
    {
     "name": "stdout",
     "output_type": "stream",
     "text": [
      "{70, 40, 10, 80, 50, 20, 90, 60, 30}\n"
     ]
    }
   ],
   "source": [
    "s1 = {10,20,30,40,50,60}\n",
    "s2 = {40,50,60,70,80,90}\n",
    "\n",
    "s1.update(s2)\n",
    "\n",
    "print(s1)"
   ]
  },
  {
   "cell_type": "code",
   "execution_count": 75,
   "metadata": {},
   "outputs": [],
   "source": [
    "s1 = {10,20,30,40,50,60}\n",
    "\n",
    "s1.add(1000)"
   ]
  },
  {
   "cell_type": "code",
   "execution_count": 76,
   "metadata": {},
   "outputs": [
    {
     "name": "stdout",
     "output_type": "stream",
     "text": [
      "{40, 1000, 10, 50, 20, 60, 30}\n"
     ]
    }
   ],
   "source": [
    "print(s1)"
   ]
  },
  {
   "cell_type": "code",
   "execution_count": null,
   "metadata": {},
   "outputs": [],
   "source": [
    "Deletion:\n",
    "    pop\n",
    "    remove\n",
    "    discard\n",
    "    clear\n",
    "    del"
   ]
  },
  {
   "cell_type": "code",
   "execution_count": 77,
   "metadata": {},
   "outputs": [
    {
     "name": "stdout",
     "output_type": "stream",
     "text": [
      "set()\n"
     ]
    }
   ],
   "source": [
    "s1 = {10,20,30,40,50,60}\n",
    "s1.clear()\n",
    "print(s1)"
   ]
  },
  {
   "cell_type": "code",
   "execution_count": 78,
   "metadata": {},
   "outputs": [
    {
     "ename": "NameError",
     "evalue": "name 's1' is not defined",
     "output_type": "error",
     "traceback": [
      "\u001b[1;31m---------------------------------------------------------------------------\u001b[0m",
      "\u001b[1;31mNameError\u001b[0m                                 Traceback (most recent call last)",
      "\u001b[1;32m<ipython-input-78-8a8278b91489>\u001b[0m in \u001b[0;36m<module>\u001b[1;34m\u001b[0m\n\u001b[0;32m      1\u001b[0m \u001b[0ms1\u001b[0m \u001b[1;33m=\u001b[0m \u001b[1;33m{\u001b[0m\u001b[1;36m10\u001b[0m\u001b[1;33m,\u001b[0m\u001b[1;36m20\u001b[0m\u001b[1;33m,\u001b[0m\u001b[1;36m30\u001b[0m\u001b[1;33m,\u001b[0m\u001b[1;36m40\u001b[0m\u001b[1;33m,\u001b[0m\u001b[1;36m50\u001b[0m\u001b[1;33m,\u001b[0m\u001b[1;36m60\u001b[0m\u001b[1;33m}\u001b[0m\u001b[1;33m\u001b[0m\u001b[1;33m\u001b[0m\u001b[0m\n\u001b[0;32m      2\u001b[0m \u001b[1;32mdel\u001b[0m \u001b[0ms1\u001b[0m\u001b[1;33m\u001b[0m\u001b[1;33m\u001b[0m\u001b[0m\n\u001b[1;32m----> 3\u001b[1;33m \u001b[0mprint\u001b[0m\u001b[1;33m(\u001b[0m\u001b[0ms1\u001b[0m\u001b[1;33m)\u001b[0m\u001b[1;33m\u001b[0m\u001b[1;33m\u001b[0m\u001b[0m\n\u001b[0m",
      "\u001b[1;31mNameError\u001b[0m: name 's1' is not defined"
     ]
    }
   ],
   "source": [
    "s1 = {10,20,30,40,50,60}\n",
    "del s1\n",
    "print(s1)"
   ]
  },
  {
   "cell_type": "code",
   "execution_count": 79,
   "metadata": {},
   "outputs": [
    {
     "name": "stdout",
     "output_type": "stream",
     "text": [
      "40\n"
     ]
    }
   ],
   "source": [
    "s1 = {10,20,30,40,50,60}\n",
    "\n",
    "print(s1.pop())"
   ]
  },
  {
   "cell_type": "code",
   "execution_count": 80,
   "metadata": {},
   "outputs": [
    {
     "name": "stdout",
     "output_type": "stream",
     "text": [
      "10\n"
     ]
    }
   ],
   "source": [
    "print(s1.pop())"
   ]
  },
  {
   "cell_type": "code",
   "execution_count": 81,
   "metadata": {},
   "outputs": [
    {
     "name": "stdout",
     "output_type": "stream",
     "text": [
      "50\n"
     ]
    }
   ],
   "source": [
    "print(s1.pop())"
   ]
  },
  {
   "cell_type": "code",
   "execution_count": 82,
   "metadata": {},
   "outputs": [
    {
     "data": {
      "text/plain": [
       "{20, 30, 60}"
      ]
     },
     "execution_count": 82,
     "metadata": {},
     "output_type": "execute_result"
    }
   ],
   "source": [
    "s1"
   ]
  },
  {
   "cell_type": "code",
   "execution_count": 83,
   "metadata": {},
   "outputs": [
    {
     "data": {
      "text/plain": [
       "20"
      ]
     },
     "execution_count": 83,
     "metadata": {},
     "output_type": "execute_result"
    }
   ],
   "source": [
    "s1.pop()"
   ]
  },
  {
   "cell_type": "code",
   "execution_count": 84,
   "metadata": {},
   "outputs": [
    {
     "data": {
      "text/plain": [
       "60"
      ]
     },
     "execution_count": 84,
     "metadata": {},
     "output_type": "execute_result"
    }
   ],
   "source": [
    "s1.pop()"
   ]
  },
  {
   "cell_type": "code",
   "execution_count": 85,
   "metadata": {},
   "outputs": [
    {
     "data": {
      "text/plain": [
       "{30}"
      ]
     },
     "execution_count": 85,
     "metadata": {},
     "output_type": "execute_result"
    }
   ],
   "source": [
    "s1"
   ]
  },
  {
   "cell_type": "code",
   "execution_count": 86,
   "metadata": {},
   "outputs": [],
   "source": [
    "s1.remove(30)"
   ]
  },
  {
   "cell_type": "code",
   "execution_count": 87,
   "metadata": {},
   "outputs": [
    {
     "data": {
      "text/plain": [
       "set()"
      ]
     },
     "execution_count": 87,
     "metadata": {},
     "output_type": "execute_result"
    }
   ],
   "source": [
    "s1"
   ]
  },
  {
   "cell_type": "code",
   "execution_count": 92,
   "metadata": {},
   "outputs": [
    {
     "ename": "KeyError",
     "evalue": "1000",
     "output_type": "error",
     "traceback": [
      "\u001b[1;31m---------------------------------------------------------------------------\u001b[0m",
      "\u001b[1;31mKeyError\u001b[0m                                  Traceback (most recent call last)",
      "\u001b[1;32m<ipython-input-92-07833c50b1d4>\u001b[0m in \u001b[0;36m<module>\u001b[1;34m\u001b[0m\n\u001b[0;32m      1\u001b[0m \u001b[0ms1\u001b[0m \u001b[1;33m=\u001b[0m \u001b[1;33m{\u001b[0m\u001b[1;36m10\u001b[0m\u001b[1;33m,\u001b[0m\u001b[1;36m20\u001b[0m\u001b[1;33m,\u001b[0m\u001b[1;36m30\u001b[0m\u001b[1;33m,\u001b[0m\u001b[1;36m40\u001b[0m\u001b[1;33m,\u001b[0m\u001b[1;36m50\u001b[0m\u001b[1;33m,\u001b[0m\u001b[1;36m60\u001b[0m\u001b[1;33m}\u001b[0m\u001b[1;33m\u001b[0m\u001b[1;33m\u001b[0m\u001b[0m\n\u001b[1;32m----> 2\u001b[1;33m \u001b[0mx\u001b[0m \u001b[1;33m=\u001b[0m \u001b[0ms1\u001b[0m\u001b[1;33m.\u001b[0m\u001b[0mremove\u001b[0m\u001b[1;33m(\u001b[0m\u001b[1;36m1000\u001b[0m\u001b[1;33m)\u001b[0m\u001b[1;33m\u001b[0m\u001b[1;33m\u001b[0m\u001b[0m\n\u001b[0m\u001b[0;32m      3\u001b[0m \u001b[0mprint\u001b[0m\u001b[1;33m(\u001b[0m\u001b[0ms1\u001b[0m\u001b[1;33m,\u001b[0m\u001b[0mx\u001b[0m\u001b[1;33m)\u001b[0m\u001b[1;33m\u001b[0m\u001b[1;33m\u001b[0m\u001b[0m\n",
      "\u001b[1;31mKeyError\u001b[0m: 1000"
     ]
    }
   ],
   "source": [
    "s1 = {10,20,30,40,50,60}\n",
    "x = s1.remove(1000)\n",
    "print(s1,x)"
   ]
  },
  {
   "cell_type": "code",
   "execution_count": 91,
   "metadata": {},
   "outputs": [
    {
     "name": "stdout",
     "output_type": "stream",
     "text": [
      "{40, 10, 50, 20, 60, 30} None\n"
     ]
    }
   ],
   "source": [
    "s1 = {10,20,30,40,50,60}\n",
    "\n",
    "x = s1.discard(100)\n",
    "print(s1,x)"
   ]
  },
  {
   "cell_type": "code",
   "execution_count": 93,
   "metadata": {},
   "outputs": [
    {
     "ename": "TypeError",
     "evalue": "pop() takes no arguments (1 given)",
     "output_type": "error",
     "traceback": [
      "\u001b[1;31m---------------------------------------------------------------------------\u001b[0m",
      "\u001b[1;31mTypeError\u001b[0m                                 Traceback (most recent call last)",
      "\u001b[1;32m<ipython-input-93-08e6a7b8953f>\u001b[0m in \u001b[0;36m<module>\u001b[1;34m\u001b[0m\n\u001b[0;32m      1\u001b[0m \u001b[0ms1\u001b[0m \u001b[1;33m=\u001b[0m \u001b[1;33m{\u001b[0m\u001b[1;36m10\u001b[0m\u001b[1;33m,\u001b[0m\u001b[1;36m20\u001b[0m\u001b[1;33m,\u001b[0m\u001b[1;36m30\u001b[0m\u001b[1;33m,\u001b[0m\u001b[1;36m40\u001b[0m\u001b[1;33m,\u001b[0m\u001b[1;36m50\u001b[0m\u001b[1;33m,\u001b[0m\u001b[1;36m60\u001b[0m\u001b[1;33m}\u001b[0m\u001b[1;33m\u001b[0m\u001b[1;33m\u001b[0m\u001b[0m\n\u001b[0;32m      2\u001b[0m \u001b[1;33m\u001b[0m\u001b[0m\n\u001b[1;32m----> 3\u001b[1;33m \u001b[0mx\u001b[0m \u001b[1;33m=\u001b[0m \u001b[0ms1\u001b[0m\u001b[1;33m.\u001b[0m\u001b[0mpop\u001b[0m\u001b[1;33m(\u001b[0m\u001b[1;36m100\u001b[0m\u001b[1;33m)\u001b[0m\u001b[1;33m\u001b[0m\u001b[1;33m\u001b[0m\u001b[0m\n\u001b[0m\u001b[0;32m      4\u001b[0m \u001b[0mprint\u001b[0m\u001b[1;33m(\u001b[0m\u001b[0ms1\u001b[0m\u001b[1;33m,\u001b[0m\u001b[0mx\u001b[0m\u001b[1;33m)\u001b[0m\u001b[1;33m\u001b[0m\u001b[1;33m\u001b[0m\u001b[0m\n",
      "\u001b[1;31mTypeError\u001b[0m: pop() takes no arguments (1 given)"
     ]
    }
   ],
   "source": [
    "s1 = {10,20,30,40,50,60}\n",
    "\n",
    "x = s1.pop(100)\n",
    "print(s1,x)"
   ]
  },
  {
   "cell_type": "code",
   "execution_count": null,
   "metadata": {},
   "outputs": [],
   "source": [
    "HOMEWORK : Q3 AND Q4"
   ]
  }
 ],
 "metadata": {
  "kernelspec": {
   "display_name": "Python 3",
   "language": "python",
   "name": "python3"
  },
  "language_info": {
   "codemirror_mode": {
    "name": "ipython",
    "version": 3
   },
   "file_extension": ".py",
   "mimetype": "text/x-python",
   "name": "python",
   "nbconvert_exporter": "python",
   "pygments_lexer": "ipython3",
   "version": "3.8.3"
  }
 },
 "nbformat": 4,
 "nbformat_minor": 4
}
