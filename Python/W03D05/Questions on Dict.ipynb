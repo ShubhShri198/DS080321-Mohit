{
 "cells": [
  {
   "cell_type": "markdown",
   "metadata": {},
   "source": [
    "## Q1) Store Alphabets as \"keys\" and their ASCII values as \"values\" to those keys.\n",
    "\n",
    "### Intuition: Use \"ord\" and \"chr\"\n",
    "\n",
    "### Pseudocode:\n",
    "    1.) Loop from a to z.\n",
    "    2.) store them as keys and find their ascii to store them as values."
   ]
  },
  {
   "cell_type": "markdown",
   "metadata": {},
   "source": [
    "## Q2) Count the number of occurrence of each letter in word \"apple\". Store count of every letter with the letter in a dictionary.\n",
    "\n",
    "### Intuition: Use in operator to check if it already exist.\n",
    "\n",
    "### Pseudocode:\n",
    "    1.)loop over all the chars in \"apple\".\n",
    "    2.)if char already exist, increase it's count, else give it count = 1"
   ]
  }
 ],
 "metadata": {
  "kernelspec": {
   "display_name": "Python 3",
   "language": "python",
   "name": "python3"
  },
  "language_info": {
   "codemirror_mode": {
    "name": "ipython",
    "version": 3
   },
   "file_extension": ".py",
   "mimetype": "text/x-python",
   "name": "python",
   "nbconvert_exporter": "python",
   "pygments_lexer": "ipython3",
   "version": "3.8.3"
  }
 },
 "nbformat": 4,
 "nbformat_minor": 4
}
